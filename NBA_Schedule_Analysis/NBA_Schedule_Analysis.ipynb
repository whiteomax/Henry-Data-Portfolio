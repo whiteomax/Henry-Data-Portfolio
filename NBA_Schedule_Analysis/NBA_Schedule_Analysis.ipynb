{
 "cells": [
  {
   "cell_type": "markdown",
   "metadata": {
    "jp-MarkdownHeadingCollapsed": true,
    "tags": []
   },
   "source": [
    "# Introduction  \n",
    "\n",
    "The purpose of this project is to analyze impact of NBA schedule to a team and help team management be prepared for tougher part of a season."
   ]
  },
  {
   "cell_type": "markdown",
   "metadata": {},
   "source": [
    "# Setup and Data    "
   ]
  },
  {
   "cell_type": "code",
   "metadata": {
    "ExecuteTime": {
     "end_time": "2025-09-08T08:28:39.649760Z",
     "start_time": "2025-09-08T08:28:39.563844Z"
    }
   },
   "source": [
    "from datetime import  timedelta\n",
    "import matplotlib.pyplot as plt\n",
    "import pandas as pd\n",
    "\n",
    "schedule = pd.read_csv(\"Datasets/schedule.csv\")\n",
    "draft_schedule = pd.read_csv(\"Datasets/schedule_24_partial.csv\")\n",
    "locations = pd.read_csv(\"Datasets/locations.csv\")\n",
    "game_data = pd.read_csv(\"Datasets/team_game_data.csv\")"
   ],
   "outputs": [],
   "execution_count": 7
  },
  {
   "cell_type": "markdown",
   "metadata": {},
   "source": [
    "## Schedule Analysis\n",
    "Measure the density of the schedule without considering opponent's strength."
   ]
  },
  {
   "cell_type": "markdown",
   "metadata": {},
   "source": [
    "To measure the density, we need to answer:\n",
    "How many times are a team scheduled to play 4-in-6 (4 games in 6 nights) / B2B(back to back games) in a season?"
   ]
  },
  {
   "cell_type": "code",
   "metadata": {
    "tags": [],
    "ExecuteTime": {
     "end_time": "2025-09-08T08:28:42.946309Z",
     "start_time": "2025-09-08T08:28:42.912616Z"
    }
   },
   "source": "draft_schedule.info()",
   "outputs": [
    {
     "name": "stdout",
     "output_type": "stream",
     "text": [
      "<class 'pandas.core.frame.DataFrame'>\n",
      "RangeIndex: 160 entries, 0 to 159\n",
      "Data columns (total 6 columns):\n",
      " #   Column    Non-Null Count  Dtype \n",
      "---  ------    --------------  ----- \n",
      " 0   season    160 non-null    int64 \n",
      " 1   gamedate  160 non-null    object\n",
      " 2   team      160 non-null    object\n",
      " 3   opponent  160 non-null    object\n",
      " 4   home      160 non-null    int64 \n",
      " 5   win       160 non-null    int64 \n",
      "dtypes: int64(3), object(3)\n",
      "memory usage: 7.6+ KB\n"
     ]
    }
   ],
   "execution_count": 8
  },
  {
   "metadata": {
    "ExecuteTime": {
     "end_time": "2025-09-08T08:28:45.554034Z",
     "start_time": "2025-09-08T08:28:45.530034Z"
    }
   },
   "cell_type": "code",
   "source": "draft_schedule.head()",
   "outputs": [
    {
     "data": {
      "text/plain": [
       "   season    gamedate team opponent  home  win\n",
       "0    2024  2025-04-13  DEN      HOU     0    1\n",
       "1    2024  2025-04-13  OKC      NOP     0    1\n",
       "2    2024  2025-04-11  OKC      UTA     0    1\n",
       "3    2024  2025-04-11  DEN      MEM     1    1\n",
       "4    2024  2025-04-09  OKC      PHX     0    1"
      ],
      "text/html": [
       "<div>\n",
       "<style scoped>\n",
       "    .dataframe tbody tr th:only-of-type {\n",
       "        vertical-align: middle;\n",
       "    }\n",
       "\n",
       "    .dataframe tbody tr th {\n",
       "        vertical-align: top;\n",
       "    }\n",
       "\n",
       "    .dataframe thead th {\n",
       "        text-align: right;\n",
       "    }\n",
       "</style>\n",
       "<table border=\"1\" class=\"dataframe\">\n",
       "  <thead>\n",
       "    <tr style=\"text-align: right;\">\n",
       "      <th></th>\n",
       "      <th>season</th>\n",
       "      <th>gamedate</th>\n",
       "      <th>team</th>\n",
       "      <th>opponent</th>\n",
       "      <th>home</th>\n",
       "      <th>win</th>\n",
       "    </tr>\n",
       "  </thead>\n",
       "  <tbody>\n",
       "    <tr>\n",
       "      <th>0</th>\n",
       "      <td>2024</td>\n",
       "      <td>2025-04-13</td>\n",
       "      <td>DEN</td>\n",
       "      <td>HOU</td>\n",
       "      <td>0</td>\n",
       "      <td>1</td>\n",
       "    </tr>\n",
       "    <tr>\n",
       "      <th>1</th>\n",
       "      <td>2024</td>\n",
       "      <td>2025-04-13</td>\n",
       "      <td>OKC</td>\n",
       "      <td>NOP</td>\n",
       "      <td>0</td>\n",
       "      <td>1</td>\n",
       "    </tr>\n",
       "    <tr>\n",
       "      <th>2</th>\n",
       "      <td>2024</td>\n",
       "      <td>2025-04-11</td>\n",
       "      <td>OKC</td>\n",
       "      <td>UTA</td>\n",
       "      <td>0</td>\n",
       "      <td>1</td>\n",
       "    </tr>\n",
       "    <tr>\n",
       "      <th>3</th>\n",
       "      <td>2024</td>\n",
       "      <td>2025-04-11</td>\n",
       "      <td>DEN</td>\n",
       "      <td>MEM</td>\n",
       "      <td>1</td>\n",
       "      <td>1</td>\n",
       "    </tr>\n",
       "    <tr>\n",
       "      <th>4</th>\n",
       "      <td>2024</td>\n",
       "      <td>2025-04-09</td>\n",
       "      <td>OKC</td>\n",
       "      <td>PHX</td>\n",
       "      <td>0</td>\n",
       "      <td>1</td>\n",
       "    </tr>\n",
       "  </tbody>\n",
       "</table>\n",
       "</div>"
      ]
     },
     "execution_count": 9,
     "metadata": {},
     "output_type": "execute_result"
    }
   ],
   "execution_count": 9
  },
  {
   "metadata": {
    "tags": []
   },
   "cell_type": "markdown",
   "source": [
    "Using two pointer to locate the last played game N games before last played game in the season.\n",
    "Then check whether the date diff, in the case for 4-in-6, is less than 5, if yes we add 1 to the counter.\n",
    "After checking, we move both pointer forward and repeat the same process till meet the first game of the season."
   ]
  },
  {
   "metadata": {
    "ExecuteTime": {
     "end_time": "2025-09-08T08:39:07.404197Z",
     "start_time": "2025-09-08T08:39:07.389465Z"
    }
   },
   "cell_type": "code",
   "source": [
    "def density_check(data,teams:list, games_diff:int, day_diff:int):\n",
    "    #convert data type for the function\n",
    "    data['gamedate'] = data['gamedate'].astype('datetime64[us]').dt.date\n",
    "    data['team'] = data['team'].astype('str')\n",
    "\n",
    "    # I choose to output the entire data in case we need it in other case\n",
    "    match_record = []\n",
    "    #prepare team data for pointer\n",
    "    for team in teams:\n",
    "        tm = data[data['team'] == team].sort_values('gamedate', ascending=False)\n",
    "        gamesplayed = len(tm)\n",
    "\n",
    "        #point by index\n",
    "        first = 0\n",
    "        second = games_diff\n",
    "        \n",
    "        for n in range(gamesplayed-(games_diff+1)):\n",
    "            date_diff = (tm.iloc[first]['gamedate'] - tm.iloc[second]['gamedate']).days\n",
    "            if date_diff < day_diff:\n",
    "                match_record.append(tm.iloc[first])\n",
    "            first += 1\n",
    "            second += 1\n",
    "    return match_record\n"
   ],
   "outputs": [],
   "execution_count": 52
  },
  {
   "metadata": {
    "ExecuteTime": {
     "end_time": "2025-09-08T08:37:29.127260Z",
     "start_time": "2025-09-08T08:37:29.110247Z"
    }
   },
   "cell_type": "code",
   "source": "density_check(draft_schedule, ['OKC'], 3,6)",
   "outputs": [
    {
     "data": {
      "text/plain": [
       "[season          2024.0\n",
       " gamedate    2025-04-13\n",
       " team               OKC\n",
       " opponent           NOP\n",
       " home               0.0\n",
       " win                1.0\n",
       " Name: 1, dtype: object,\n",
       " season          2024.0\n",
       " gamedate    2025-04-11\n",
       " team               OKC\n",
       " opponent           UTA\n",
       " home               0.0\n",
       " win                1.0\n",
       " Name: 2, dtype: object,\n",
       " season          2024.0\n",
       " gamedate    2025-04-09\n",
       " team               OKC\n",
       " opponent           PHX\n",
       " home               0.0\n",
       " win                1.0\n",
       " Name: 4, dtype: object,\n",
       " season          2024.0\n",
       " gamedate    2025-03-12\n",
       " team               OKC\n",
       " opponent           BOS\n",
       " home               0.0\n",
       " win                1.0\n",
       " Name: 32, dtype: object,\n",
       " season          2024.0\n",
       " gamedate    2025-03-10\n",
       " team               OKC\n",
       " opponent           DEN\n",
       " home               1.0\n",
       " win                0.0\n",
       " Name: 34, dtype: object,\n",
       " season          2024.0\n",
       " gamedate    2025-03-07\n",
       " team               OKC\n",
       " opponent           POR\n",
       " home               1.0\n",
       " win                1.0\n",
       " Name: 38, dtype: object,\n",
       " season          2024.0\n",
       " gamedate    2025-03-05\n",
       " team               OKC\n",
       " opponent           MEM\n",
       " home               0.0\n",
       " win                1.0\n",
       " Name: 40, dtype: object,\n",
       " season          2024.0\n",
       " gamedate    2025-03-03\n",
       " team               OKC\n",
       " opponent           HOU\n",
       " home               1.0\n",
       " win                1.0\n",
       " Name: 42, dtype: object,\n",
       " season          2024.0\n",
       " gamedate    2025-02-28\n",
       " team               OKC\n",
       " opponent           ATL\n",
       " home               0.0\n",
       " win                1.0\n",
       " Name: 46, dtype: object,\n",
       " season          2024.0\n",
       " gamedate    2025-02-26\n",
       " team               OKC\n",
       " opponent           BKN\n",
       " home               0.0\n",
       " win                1.0\n",
       " Name: 48, dtype: object,\n",
       " season          2024.0\n",
       " gamedate    2025-02-13\n",
       " team               OKC\n",
       " opponent           MIN\n",
       " home               0.0\n",
       " win                0.0\n",
       " Name: 55, dtype: object,\n",
       " season          2024.0\n",
       " gamedate    2025-02-12\n",
       " team               OKC\n",
       " opponent           MIA\n",
       " home               1.0\n",
       " win                1.0\n",
       " Name: 56, dtype: object,\n",
       " season          2024.0\n",
       " gamedate    2025-02-10\n",
       " team               OKC\n",
       " opponent           NOP\n",
       " home               1.0\n",
       " win                1.0\n",
       " Name: 58, dtype: object,\n",
       " season          2024.0\n",
       " gamedate    2025-02-08\n",
       " team               OKC\n",
       " opponent           MEM\n",
       " home               0.0\n",
       " win                1.0\n",
       " Name: 60, dtype: object,\n",
       " season          2024.0\n",
       " gamedate    2025-01-19\n",
       " team               OKC\n",
       " opponent           BKN\n",
       " home               1.0\n",
       " win                1.0\n",
       " Name: 80, dtype: object,\n",
       " season          2024.0\n",
       " gamedate    2025-01-17\n",
       " team               OKC\n",
       " opponent           DAL\n",
       " home               0.0\n",
       " win                0.0\n",
       " Name: 82, dtype: object,\n",
       " season          2024.0\n",
       " gamedate    2025-01-05\n",
       " team               OKC\n",
       " opponent           BOS\n",
       " home               1.0\n",
       " win                1.0\n",
       " Name: 95, dtype: object,\n",
       " season          2024.0\n",
       " gamedate    2025-01-03\n",
       " team               OKC\n",
       " opponent           NYK\n",
       " home               1.0\n",
       " win                1.0\n",
       " Name: 98, dtype: object,\n",
       " season          2024.0\n",
       " gamedate    2025-01-02\n",
       " team               OKC\n",
       " opponent           LAC\n",
       " home               1.0\n",
       " win                1.0\n",
       " Name: 99, dtype: object,\n",
       " season          2024.0\n",
       " gamedate    2024-12-31\n",
       " team               OKC\n",
       " opponent           MIN\n",
       " home               1.0\n",
       " win                1.0\n",
       " Name: 101, dtype: object,\n",
       " season          2024.0\n",
       " gamedate    2024-11-20\n",
       " team               OKC\n",
       " opponent           POR\n",
       " home               1.0\n",
       " win                1.0\n",
       " Name: 131, dtype: object,\n",
       " season          2024.0\n",
       " gamedate    2024-11-15\n",
       " team               OKC\n",
       " opponent           PHX\n",
       " home               1.0\n",
       " win                1.0\n",
       " Name: 136, dtype: object,\n",
       " season          2024.0\n",
       " gamedate    2024-11-13\n",
       " team               OKC\n",
       " opponent           NOP\n",
       " home               1.0\n",
       " win                1.0\n",
       " Name: 138, dtype: object,\n",
       " season          2024.0\n",
       " gamedate    2024-11-11\n",
       " team               OKC\n",
       " opponent           LAC\n",
       " home               1.0\n",
       " win                1.0\n",
       " Name: 139, dtype: object,\n",
       " season          2024.0\n",
       " gamedate    2024-11-06\n",
       " team               OKC\n",
       " opponent           DEN\n",
       " home               0.0\n",
       " win                0.0\n",
       " Name: 144, dtype: object,\n",
       " season          2024.0\n",
       " gamedate    2024-11-04\n",
       " team               OKC\n",
       " opponent           ORL\n",
       " home               1.0\n",
       " win                1.0\n",
       " Name: 147, dtype: object]"
      ]
     },
     "execution_count": 36,
     "metadata": {},
     "output_type": "execute_result"
    }
   ],
   "execution_count": 36
  },
  {
   "metadata": {
    "ExecuteTime": {
     "end_time": "2025-09-08T08:37:26.743516Z",
     "start_time": "2025-09-08T08:37:26.720503Z"
    }
   },
   "cell_type": "code",
   "source": "len(density_check(draft_schedule, ['OKC'], 3,6))",
   "outputs": [
    {
     "data": {
      "text/plain": [
       "26"
      ]
     },
     "execution_count": 35,
     "metadata": {},
     "output_type": "execute_result"
    }
   ],
   "execution_count": 35
  },
  {
   "cell_type": "markdown",
   "metadata": {},
   "source": [
    "\n",
    "Compare individual team's count to the league's average, we can have an idea of how tough a team's schedule is relative to others'.\n"
   ]
  },
  {
   "metadata": {
    "ExecuteTime": {
     "end_time": "2025-09-08T08:28:55.845316Z",
     "start_time": "2025-09-08T08:28:55.835289Z"
    }
   },
   "cell_type": "code",
   "source": "schedule.info()",
   "outputs": [
    {
     "name": "stdout",
     "output_type": "stream",
     "text": [
      "<class 'pandas.core.frame.DataFrame'>\n",
      "RangeIndex: 23958 entries, 0 to 23957\n",
      "Data columns (total 6 columns):\n",
      " #   Column    Non-Null Count  Dtype \n",
      "---  ------    --------------  ----- \n",
      " 0   season    23958 non-null  int64 \n",
      " 1   gamedate  23958 non-null  object\n",
      " 2   team      23958 non-null  object\n",
      " 3   opponent  23958 non-null  object\n",
      " 4   home      23958 non-null  int64 \n",
      " 5   win       23958 non-null  int64 \n",
      "dtypes: int64(3), object(3)\n",
      "memory usage: 1.1+ MB\n"
     ]
    }
   ],
   "execution_count": 13
  },
  {
   "cell_type": "code",
   "metadata": {
    "collapsed": true,
    "jupyter": {
     "outputs_hidden": true
    },
    "ExecuteTime": {
     "end_time": "2025-09-08T08:28:59.039754Z",
     "start_time": "2025-09-08T08:28:59.025745Z"
    }
   },
   "source": [
    "# season 2019 and 2020 are shortened\n",
    "seasons = schedule['season'].unique().tolist()\n",
    "for season in seasons:\n",
    "    print(season,':',len(schedule[schedule['season'] == season]))"
   ],
   "outputs": [
    {
     "name": "stdout",
     "output_type": "stream",
     "text": [
      "2014 : 2460\n",
      "2015 : 2460\n",
      "2016 : 2460\n",
      "2017 : 2460\n",
      "2018 : 2460\n",
      "2019 : 2118\n",
      "2020 : 2160\n",
      "2021 : 2460\n",
      "2022 : 2460\n",
      "2023 : 2460\n"
     ]
    }
   ],
   "execution_count": 14
  },
  {
   "metadata": {
    "ExecuteTime": {
     "end_time": "2025-09-08T08:29:04.365129Z",
     "start_time": "2025-09-08T08:29:04.353097Z"
    }
   },
   "cell_type": "code",
   "source": [
    "teams = schedule['team'].unique().tolist()\n",
    "y19 = schedule[schedule['season'] == 2019]\n",
    "y20 = schedule[schedule['season'] == 2020]"
   ],
   "outputs": [],
   "execution_count": 15
  },
  {
   "metadata": {
    "ExecuteTime": {
     "end_time": "2025-09-08T08:29:08.000360Z",
     "start_time": "2025-09-08T08:29:07.982361Z"
    }
   },
   "cell_type": "code",
   "source": [
    "for team in teams:\n",
    "    print(team,':',len(y19[y19['team'] == team]), len(y20[y20['team'] == team]))"
   ],
   "outputs": [
    {
     "name": "stdout",
     "output_type": "stream",
     "text": [
      "SAC : 72 72\n",
      "NYK : 66 72\n",
      "DEN : 73 72\n",
      "MIA : 73 72\n",
      "UTA : 72 72\n",
      "LAL : 71 72\n",
      "GSW : 65 72\n",
      "NOP : 72 72\n",
      "BOS : 72 72\n",
      "ORL : 73 72\n",
      "ATL : 67 72\n",
      "SAS : 71 72\n",
      "POR : 74 72\n",
      "HOU : 72 72\n",
      "MIL : 73 72\n",
      "TOR : 72 72\n",
      "OKC : 72 72\n",
      "BKN : 72 72\n",
      "CHA : 65 72\n",
      "MEM : 73 72\n",
      "CLE : 65 72\n",
      "CHI : 65 72\n",
      "DAL : 75 72\n",
      "DET : 66 72\n",
      "WAS : 72 72\n",
      "IND : 73 72\n",
      "PHI : 73 72\n",
      "MIN : 64 72\n",
      "PHX : 73 72\n",
      "LAC : 72 72\n"
     ]
    }
   ],
   "execution_count": 16
  },
  {
   "metadata": {},
   "cell_type": "markdown",
   "source": [
    "For shorter season,\n",
    "I choose to adjust the 4-in-6 count by calculate the average 4-in-6 per game for each team in these two season and times it by 82.\n",
    "For example: if NYK only play 66games and have 20 4-in-6 games in season 2019, the calculation will be : 20/66*82"
   ]
  },
  {
   "metadata": {
    "ExecuteTime": {
     "end_time": "2025-09-08T08:29:12.657896Z",
     "start_time": "2025-09-08T08:29:10.692365Z"
    }
   },
   "cell_type": "code",
   "source": [
    "seasonal_4in6_avg = {}\n",
    "for season in seasons:\n",
    "    total_4in6 = 0\n",
    "    for team in teams:\n",
    "        st_data = pd.DataFrame(schedule[(schedule['season'] == season)])\n",
    "        fs_count = len(density_check(st_data, [team], 3, 6))\n",
    "        games_played = len(st_data[st_data['team'] == team])\n",
    "        true_fs = fs_count / games_played * 82\n",
    "        total_4in6 += true_fs\n",
    "\n",
    "    seasonal_4in6_avg[season] = round(total_4in6 / 30, 2)\n",
    "seasonal_4in6_avg"
   ],
   "outputs": [
    {
     "data": {
      "text/plain": [
       "{2014: 29.37,\n",
       " 2015: 27.6,\n",
       " 2016: 27.73,\n",
       " 2017: 20.17,\n",
       " 2018: 19.3,\n",
       " 2019: 20.23,\n",
       " 2020: 33.9,\n",
       " 2021: 23.53,\n",
       " 2022: 23.4,\n",
       " 2023: 23.17}"
      ]
     },
     "execution_count": 17,
     "metadata": {},
     "output_type": "execute_result"
    }
   ],
   "execution_count": 17
  },
  {
   "metadata": {
    "ExecuteTime": {
     "end_time": "2025-09-08T08:40:44.772069Z",
     "start_time": "2025-09-08T08:40:44.748553Z"
    }
   },
   "cell_type": "code",
   "source": [
    "y22 = schedule[schedule['season'] == 2022].copy()\n",
    "print(len(density_check(y22, ['OKC'], 3,6)))"
   ],
   "outputs": [
    {
     "name": "stdout",
     "output_type": "stream",
     "text": [
      "26\n"
     ]
    }
   ],
   "execution_count": 60
  },
  {
   "metadata": {},
   "cell_type": "markdown",
   "source": [
    "Compare to the league avg 23.4 games in season 2022, OKC's schedule had 26 games which is 2.6 games above average.\n",
    "But is the difference reasonable? let's use the min and max team to check."
   ]
  },
  {
   "metadata": {
    "ExecuteTime": {
     "end_time": "2025-08-24T05:26:44.637605Z",
     "start_time": "2025-08-24T05:26:43.069678Z"
    }
   },
   "cell_type": "code",
   "outputs": [
    {
     "name": "stdout",
     "output_type": "stream",
     "text": [
      "minteam 21.9\n",
      "maxteam 27.8\n"
     ]
    },
    {
     "data": {
      "text/plain": [
       "{'SAC': 24.783333333333335,\n",
       " 'NYK': 21.861868686868686,\n",
       " 'DEN': 22.770700152207002,\n",
       " 'MIA': 23.35525114155251,\n",
       " 'UTA': 25.33888888888889,\n",
       " 'LAL': 23.579616588419405,\n",
       " 'GSW': 25.337905982905987,\n",
       " 'NOP': 22.4,\n",
       " 'BOS': 25.094444444444445,\n",
       " 'ORL': 23.989117199391174,\n",
       " 'ATL': 25.897263681592037,\n",
       " 'SAS': 25.263380281690143,\n",
       " 'POR': 26.514339339339344,\n",
       " 'HOU': 24.35277777777778,\n",
       " 'MIL': 24.13546423135464,\n",
       " 'TOR': 24.411111111111115,\n",
       " 'OKC': 25.622222222222227,\n",
       " 'BKN': 23.113888888888887,\n",
       " 'CHA': 27.78303418803419,\n",
       " 'MEM': 25.575913242009133,\n",
       " 'CLE': 25.60918803418803,\n",
       " 'CHI': 27.52145299145299,\n",
       " 'DAL': 23.58666666666667,\n",
       " 'DET': 26.201515151515153,\n",
       " 'WAS': 26.419444444444444,\n",
       " 'IND': 25.95403348554034,\n",
       " 'PHI': 24.978348554033484,\n",
       " 'MIN': 25.421180555555555,\n",
       " 'PHX': 22.1722602739726,\n",
       " 'LAC': 26.152777777777775}"
      ]
     },
     "execution_count": 169,
     "metadata": {},
     "output_type": "execute_result"
    }
   ],
   "execution_count": 169,
   "source": [
    "#create dictionary to store team data\n",
    "team_4in6_avg = {}\n",
    "for team in teams:\n",
    "    team_4in6_avg[team] = 0\n",
    "\n",
    "for season in seasons:\n",
    "    for team in teams:\n",
    "        season_data = pd.DataFrame(schedule[(schedule['season'] == season)])\n",
    "        fs_count = len(density_check(season_data, [team], 3, 6))\n",
    "        games_played = len(season_data[season_data['team'] == team])\n",
    "        true_fs = fs_count / games_played * 82\n",
    "\n",
    "        team_4in6_avg[team] += true_fs / len(seasons)\n",
    "\n",
    "\n",
    "minteam = round(min(team_4in6_avg.values()),1)\n",
    "maxteam = round(max(team_4in6_avg.values()),1)\n",
    "print('minteam',minteam)\n",
    "print('maxteam',maxteam)\n",
    "team_4in6_avg"
   ]
  },
  {
   "metadata": {},
   "cell_type": "markdown",
   "source": [
    "- Most 4-in-6 stretches on average: CHA (27.8)\n",
    "- Fewest 4-in-6 stretches on average: NYK (21.9)"
   ]
  },
  {
   "cell_type": "code",
   "metadata": {
    "ExecuteTime": {
     "end_time": "2025-08-24T05:26:44.652606Z",
     "start_time": "2025-08-24T05:26:44.647605Z"
    }
   },
   "source": [
    "import statistics as stat\n",
    "print('mean:',stat.mean(team_4in6_avg.values()).__round__(1))\n",
    "print('median:',stat.median(team_4in6_avg.values()).__round__(1))\n",
    "print('std:', stat.stdev(team_4in6_avg.values()).__round__(1))"
   ],
   "outputs": [
    {
     "name": "stdout",
     "output_type": "stream",
     "text": [
      "mean: 24.8\n",
      "median: 25.2\n",
      "std: 1.5\n"
     ]
    }
   ],
   "execution_count": 170
  },
  {
   "metadata": {},
   "cell_type": "markdown",
   "source": [
    "From a simple descriptive view, since both min and max are within 2 standard deviations of the league mean, I **do not** think the difference are too significant.\n",
    "To confirm this, I compare the difference to the result of 10000 simulations, under a hypothesis where each team’s 4-in-6 count follows a Poisson distribution with the same rate."
   ]
  },
  {
   "metadata": {
    "ExecuteTime": {
     "end_time": "2025-08-24T05:26:44.778675Z",
     "start_time": "2025-08-24T05:26:44.665967Z"
    }
   },
   "cell_type": "code",
   "source": [
    "import numpy as np\n",
    "\n",
    "s_mean = 24.8\n",
    "s_diff = 27.8 - 21.9 #max - min\n",
    "n_reps = 10000\n",
    "n_teams = 30\n",
    "n_seasons = 10\n",
    "\n",
    "\n",
    "rng = np.random.default_rng(42)  # reproducible\n",
    "draws = rng.poisson(lam= s_mean, size=(n_reps, n_teams, n_seasons))\n",
    "team_means = draws.mean(axis=2)\n",
    "spreads = team_means.max(axis=1) - team_means.min(axis=1)\n",
    "\n",
    "\n",
    "median_spread = np.median(spreads)\n",
    "lo, hi = np.percentile(spreads, [2.5, 97.5])\n",
    "\n",
    "print('median_spread:',median_spread)\n",
    "print('lo/hi:',lo,',',hi)"
   ],
   "outputs": [
    {
     "name": "stdout",
     "output_type": "stream",
     "text": [
      "median_spread: 6.399999999999999\n",
      "lo/hi: 4.5 , 8.7\n"
     ]
    }
   ],
   "execution_count": 171
  },
  {
   "metadata": {},
   "cell_type": "markdown",
   "source": [
    "As we can see, the median of max-min in simulation 6.39 is larger than our observed difference 5.9.\n",
    "The observed difference also lies between the 95% reference range (4.5 , 8.7).\n",
    "This indicates the difference we observed is likely just a result of chance."
   ]
  },
  {
   "cell_type": "markdown",
   "metadata": {},
   "source": "## Trends and Visualizations"
  },
  {
   "metadata": {},
   "cell_type": "markdown",
   "source": [
    "Instead of counting how many time a team have b2b/ 4in6 streak, I want to identify every game that is in the streak.\n",
    "In another word, rather than only marking the 4th game in the 4_in_6, all 4 games will be marked"
   ]
  },
  {
   "metadata": {
    "ExecuteTime": {
     "end_time": "2025-08-24T05:26:47.406697Z",
     "start_time": "2025-08-24T05:26:44.925106Z"
    }
   },
   "cell_type": "code",
   "source": [
    "#getting the b2b and 4-in-6 games data\n",
    "b2b_index = pd.DataFrame(density_check(schedule, teams, 1, 2))\n",
    "fin6_index = pd.DataFrame(density_check(schedule, teams, 3, 6))\n",
    "ns = pd.DataFrame(schedule)"
   ],
   "outputs": [],
   "execution_count": 175
  },
  {
   "metadata": {
    "ExecuteTime": {
     "end_time": "2025-08-24T05:26:47.422110Z",
     "start_time": "2025-08-24T05:26:47.413128Z"
    }
   },
   "cell_type": "code",
   "source": [
    "ns['b2b'] = ns.index.isin(b2b_index.index)\n",
    "ns['4in6'] = ns.index.isin(fin6_index.index)"
   ],
   "outputs": [],
   "execution_count": 176
  },
  {
   "metadata": {
    "ExecuteTime": {
     "end_time": "2025-08-24T05:26:50.659528Z",
     "start_time": "2025-08-24T05:26:47.429081Z"
    }
   },
   "cell_type": "code",
   "source": [
    "ns['4in6_range'] = 0\n",
    "ns['b2b_range'] = 0\n",
    "# marking all the games in b2b / 4-in-6 stretch, ex: 1st game in b2b = 1, 2nd= 2 in b2b_range.\n",
    "# 4 is the max number in 4in6, any continue stretch will just be 1,2,3,4,4,4....\n",
    "\n",
    "# since we can find the 4th game, I start checking from the latest game and mark the 3 games before that.\n",
    "for team in teams:\n",
    "    team_data = ns[ns['team'] == team].copy()\n",
    "    team_data.sort_values('gamedate',ascending=False,inplace=True)\n",
    "    for idx in range(len(team_data)):\n",
    "\n",
    "        if ns['4in6'][team_data.index[idx]] == True:\n",
    "            nth = 4\n",
    "            for game in range(4):\n",
    "                ns.loc[(team_data.index[idx+game]),'4in6_range'] = nth\n",
    "                nth -= 1\n",
    "\n",
    "        if ns['b2b'][team_data.index[idx]] == True:\n",
    "            ns.loc[(team_data.index[idx]),'b2b_range'] = 2\n",
    "            ns.loc[(team_data.index[idx+1]),'b2b_range'] = 1"
   ],
   "outputs": [],
   "execution_count": 177
  },
  {
   "cell_type": "code",
   "metadata": {
    "collapsed": true,
    "jupyter": {
     "outputs_hidden": true
    },
    "ExecuteTime": {
     "end_time": "2025-08-24T05:26:50.692071Z",
     "start_time": "2025-08-24T05:26:50.666559Z"
    }
   },
   "source": "ns[ns['team']=='OKC'].sort_values('gamedate',ascending=False)",
   "outputs": [
    {
     "data": {
      "text/plain": [
       "       season    gamedate team opponent  home  win    b2b   4in6  4in6_range  \\\n",
       "21526    2023  2024-04-14  OKC      DAL     1    1  False   True           4   \n",
       "21557    2023  2024-04-12  OKC      MIL     1    1  False   True           4   \n",
       "21576    2023  2024-04-10  OKC      SAS     1    1   True   True           4   \n",
       "21610    2023  2024-04-09  OKC      SAC     1    1  False  False           3   \n",
       "21613    2023  2024-04-07  OKC      CHA     0    1  False   True           4   \n",
       "...       ...         ...  ...      ...   ...  ...    ...    ...         ...   \n",
       "2357     2014  2014-11-04  OKC      TOR     0    0   True   True           4   \n",
       "2364     2014  2014-11-03  OKC      BKN     0    0  False  False           3   \n",
       "2405     2014  2014-11-01  OKC      DEN     1    1  False  False           2   \n",
       "2420     2014  2014-10-30  OKC      LAC     0    0  False  False           1   \n",
       "2432     2014  2014-10-29  OKC      POR     0    0  False  False           0   \n",
       "\n",
       "       b2b_range  \n",
       "21526          0  \n",
       "21557          0  \n",
       "21576          2  \n",
       "21610          1  \n",
       "21613          0  \n",
       "...          ...  \n",
       "2357           2  \n",
       "2364           1  \n",
       "2405           0  \n",
       "2420           0  \n",
       "2432           0  \n",
       "\n",
       "[800 rows x 10 columns]"
      ],
      "text/html": [
       "<div>\n",
       "<style scoped>\n",
       "    .dataframe tbody tr th:only-of-type {\n",
       "        vertical-align: middle;\n",
       "    }\n",
       "\n",
       "    .dataframe tbody tr th {\n",
       "        vertical-align: top;\n",
       "    }\n",
       "\n",
       "    .dataframe thead th {\n",
       "        text-align: right;\n",
       "    }\n",
       "</style>\n",
       "<table border=\"1\" class=\"dataframe\">\n",
       "  <thead>\n",
       "    <tr style=\"text-align: right;\">\n",
       "      <th></th>\n",
       "      <th>season</th>\n",
       "      <th>gamedate</th>\n",
       "      <th>team</th>\n",
       "      <th>opponent</th>\n",
       "      <th>home</th>\n",
       "      <th>win</th>\n",
       "      <th>b2b</th>\n",
       "      <th>4in6</th>\n",
       "      <th>4in6_range</th>\n",
       "      <th>b2b_range</th>\n",
       "    </tr>\n",
       "  </thead>\n",
       "  <tbody>\n",
       "    <tr>\n",
       "      <th>21526</th>\n",
       "      <td>2023</td>\n",
       "      <td>2024-04-14</td>\n",
       "      <td>OKC</td>\n",
       "      <td>DAL</td>\n",
       "      <td>1</td>\n",
       "      <td>1</td>\n",
       "      <td>False</td>\n",
       "      <td>True</td>\n",
       "      <td>4</td>\n",
       "      <td>0</td>\n",
       "    </tr>\n",
       "    <tr>\n",
       "      <th>21557</th>\n",
       "      <td>2023</td>\n",
       "      <td>2024-04-12</td>\n",
       "      <td>OKC</td>\n",
       "      <td>MIL</td>\n",
       "      <td>1</td>\n",
       "      <td>1</td>\n",
       "      <td>False</td>\n",
       "      <td>True</td>\n",
       "      <td>4</td>\n",
       "      <td>0</td>\n",
       "    </tr>\n",
       "    <tr>\n",
       "      <th>21576</th>\n",
       "      <td>2023</td>\n",
       "      <td>2024-04-10</td>\n",
       "      <td>OKC</td>\n",
       "      <td>SAS</td>\n",
       "      <td>1</td>\n",
       "      <td>1</td>\n",
       "      <td>True</td>\n",
       "      <td>True</td>\n",
       "      <td>4</td>\n",
       "      <td>2</td>\n",
       "    </tr>\n",
       "    <tr>\n",
       "      <th>21610</th>\n",
       "      <td>2023</td>\n",
       "      <td>2024-04-09</td>\n",
       "      <td>OKC</td>\n",
       "      <td>SAC</td>\n",
       "      <td>1</td>\n",
       "      <td>1</td>\n",
       "      <td>False</td>\n",
       "      <td>False</td>\n",
       "      <td>3</td>\n",
       "      <td>1</td>\n",
       "    </tr>\n",
       "    <tr>\n",
       "      <th>21613</th>\n",
       "      <td>2023</td>\n",
       "      <td>2024-04-07</td>\n",
       "      <td>OKC</td>\n",
       "      <td>CHA</td>\n",
       "      <td>0</td>\n",
       "      <td>1</td>\n",
       "      <td>False</td>\n",
       "      <td>True</td>\n",
       "      <td>4</td>\n",
       "      <td>0</td>\n",
       "    </tr>\n",
       "    <tr>\n",
       "      <th>...</th>\n",
       "      <td>...</td>\n",
       "      <td>...</td>\n",
       "      <td>...</td>\n",
       "      <td>...</td>\n",
       "      <td>...</td>\n",
       "      <td>...</td>\n",
       "      <td>...</td>\n",
       "      <td>...</td>\n",
       "      <td>...</td>\n",
       "      <td>...</td>\n",
       "    </tr>\n",
       "    <tr>\n",
       "      <th>2357</th>\n",
       "      <td>2014</td>\n",
       "      <td>2014-11-04</td>\n",
       "      <td>OKC</td>\n",
       "      <td>TOR</td>\n",
       "      <td>0</td>\n",
       "      <td>0</td>\n",
       "      <td>True</td>\n",
       "      <td>True</td>\n",
       "      <td>4</td>\n",
       "      <td>2</td>\n",
       "    </tr>\n",
       "    <tr>\n",
       "      <th>2364</th>\n",
       "      <td>2014</td>\n",
       "      <td>2014-11-03</td>\n",
       "      <td>OKC</td>\n",
       "      <td>BKN</td>\n",
       "      <td>0</td>\n",
       "      <td>0</td>\n",
       "      <td>False</td>\n",
       "      <td>False</td>\n",
       "      <td>3</td>\n",
       "      <td>1</td>\n",
       "    </tr>\n",
       "    <tr>\n",
       "      <th>2405</th>\n",
       "      <td>2014</td>\n",
       "      <td>2014-11-01</td>\n",
       "      <td>OKC</td>\n",
       "      <td>DEN</td>\n",
       "      <td>1</td>\n",
       "      <td>1</td>\n",
       "      <td>False</td>\n",
       "      <td>False</td>\n",
       "      <td>2</td>\n",
       "      <td>0</td>\n",
       "    </tr>\n",
       "    <tr>\n",
       "      <th>2420</th>\n",
       "      <td>2014</td>\n",
       "      <td>2014-10-30</td>\n",
       "      <td>OKC</td>\n",
       "      <td>LAC</td>\n",
       "      <td>0</td>\n",
       "      <td>0</td>\n",
       "      <td>False</td>\n",
       "      <td>False</td>\n",
       "      <td>1</td>\n",
       "      <td>0</td>\n",
       "    </tr>\n",
       "    <tr>\n",
       "      <th>2432</th>\n",
       "      <td>2014</td>\n",
       "      <td>2014-10-29</td>\n",
       "      <td>OKC</td>\n",
       "      <td>POR</td>\n",
       "      <td>0</td>\n",
       "      <td>0</td>\n",
       "      <td>False</td>\n",
       "      <td>False</td>\n",
       "      <td>0</td>\n",
       "      <td>0</td>\n",
       "    </tr>\n",
       "  </tbody>\n",
       "</table>\n",
       "<p>800 rows × 10 columns</p>\n",
       "</div>"
      ]
     },
     "execution_count": 178,
     "metadata": {},
     "output_type": "execute_result"
    }
   ],
   "execution_count": 178
  },
  {
   "metadata": {
    "ExecuteTime": {
     "end_time": "2025-08-24T05:26:50.723463Z",
     "start_time": "2025-08-24T05:26:50.699455Z"
    }
   },
   "cell_type": "code",
   "source": [
    "#aggregate by season\n",
    "season_group = ns.groupby('season').agg({'gamedate':'count','b2b':['sum','mean'], '4in6':['sum','mean']})\n",
    "season_group.columns = ['_'.join(col).strip() if isinstance(col, tuple) else col for col in season_group.columns]\n",
    "season_group['b2b_sum'] = round(season_group['b2b_sum']/30,1)\n",
    "season_group['b2b_mean'] = round(season_group['b2b_mean']*100,1)\n",
    "season_group['4in6_sum'] = round(season_group['4in6_sum']/30,1)\n",
    "season_group['4in6_mean'] = round(season_group['4in6_mean']*100,1)\n",
    "season_group['gamedate_count'] = round(season_group['gamedate_count']/30,1)\n",
    "season_group.rename(columns={'gamedate_count': 'average_game','b2b_sum':'b2b_per_team','b2b_mean':'b2b_seasonal%','4in6_sum':'4in6_per_team','4in6_mean': '4in6_seasonal%'}, inplace=True)"
   ],
   "outputs": [],
   "execution_count": 179
  },
  {
   "metadata": {
    "ExecuteTime": {
     "end_time": "2025-08-24T05:26:50.738465Z",
     "start_time": "2025-08-24T05:26:50.729464Z"
    }
   },
   "cell_type": "code",
   "source": [
    "season_group['b2b_per_team'] = round(season_group['b2b_per_team']/season_group['average_game'] * 82,1)\n",
    "season_group['4in6_per_team'] = round(season_group['4in6_per_team']/season_group['average_game']*82,1)\n",
    "season_group"
   ],
   "outputs": [
    {
     "data": {
      "text/plain": [
       "        average_game  b2b_per_team  b2b_seasonal%  4in6_per_team  \\\n",
       "season                                                             \n",
       "2014            82.0          19.0           23.2           29.4   \n",
       "2015            82.0          17.8           21.7           28.0   \n",
       "2016            82.0          16.4           20.0           27.9   \n",
       "2017            82.0          14.4           17.6           20.4   \n",
       "2018            82.0          13.3           16.2           19.5   \n",
       "2019            70.6          12.2           14.9           20.6   \n",
       "2020            72.0          17.3           21.2           33.9   \n",
       "2021            82.0          14.1           17.2           23.8   \n",
       "2022            82.0          13.4           16.3           23.8   \n",
       "2023            82.0          14.1           17.2           23.5   \n",
       "\n",
       "        4in6_seasonal%  \n",
       "season                  \n",
       "2014              35.8  \n",
       "2015              34.1  \n",
       "2016              34.0  \n",
       "2017              24.9  \n",
       "2018              23.8  \n",
       "2019              25.1  \n",
       "2020              41.4  \n",
       "2021              29.0  \n",
       "2022              29.1  \n",
       "2023              28.6  "
      ],
      "text/html": [
       "<div>\n",
       "<style scoped>\n",
       "    .dataframe tbody tr th:only-of-type {\n",
       "        vertical-align: middle;\n",
       "    }\n",
       "\n",
       "    .dataframe tbody tr th {\n",
       "        vertical-align: top;\n",
       "    }\n",
       "\n",
       "    .dataframe thead th {\n",
       "        text-align: right;\n",
       "    }\n",
       "</style>\n",
       "<table border=\"1\" class=\"dataframe\">\n",
       "  <thead>\n",
       "    <tr style=\"text-align: right;\">\n",
       "      <th></th>\n",
       "      <th>average_game</th>\n",
       "      <th>b2b_per_team</th>\n",
       "      <th>b2b_seasonal%</th>\n",
       "      <th>4in6_per_team</th>\n",
       "      <th>4in6_seasonal%</th>\n",
       "    </tr>\n",
       "    <tr>\n",
       "      <th>season</th>\n",
       "      <th></th>\n",
       "      <th></th>\n",
       "      <th></th>\n",
       "      <th></th>\n",
       "      <th></th>\n",
       "    </tr>\n",
       "  </thead>\n",
       "  <tbody>\n",
       "    <tr>\n",
       "      <th>2014</th>\n",
       "      <td>82.0</td>\n",
       "      <td>19.0</td>\n",
       "      <td>23.2</td>\n",
       "      <td>29.4</td>\n",
       "      <td>35.8</td>\n",
       "    </tr>\n",
       "    <tr>\n",
       "      <th>2015</th>\n",
       "      <td>82.0</td>\n",
       "      <td>17.8</td>\n",
       "      <td>21.7</td>\n",
       "      <td>28.0</td>\n",
       "      <td>34.1</td>\n",
       "    </tr>\n",
       "    <tr>\n",
       "      <th>2016</th>\n",
       "      <td>82.0</td>\n",
       "      <td>16.4</td>\n",
       "      <td>20.0</td>\n",
       "      <td>27.9</td>\n",
       "      <td>34.0</td>\n",
       "    </tr>\n",
       "    <tr>\n",
       "      <th>2017</th>\n",
       "      <td>82.0</td>\n",
       "      <td>14.4</td>\n",
       "      <td>17.6</td>\n",
       "      <td>20.4</td>\n",
       "      <td>24.9</td>\n",
       "    </tr>\n",
       "    <tr>\n",
       "      <th>2018</th>\n",
       "      <td>82.0</td>\n",
       "      <td>13.3</td>\n",
       "      <td>16.2</td>\n",
       "      <td>19.5</td>\n",
       "      <td>23.8</td>\n",
       "    </tr>\n",
       "    <tr>\n",
       "      <th>2019</th>\n",
       "      <td>70.6</td>\n",
       "      <td>12.2</td>\n",
       "      <td>14.9</td>\n",
       "      <td>20.6</td>\n",
       "      <td>25.1</td>\n",
       "    </tr>\n",
       "    <tr>\n",
       "      <th>2020</th>\n",
       "      <td>72.0</td>\n",
       "      <td>17.3</td>\n",
       "      <td>21.2</td>\n",
       "      <td>33.9</td>\n",
       "      <td>41.4</td>\n",
       "    </tr>\n",
       "    <tr>\n",
       "      <th>2021</th>\n",
       "      <td>82.0</td>\n",
       "      <td>14.1</td>\n",
       "      <td>17.2</td>\n",
       "      <td>23.8</td>\n",
       "      <td>29.0</td>\n",
       "    </tr>\n",
       "    <tr>\n",
       "      <th>2022</th>\n",
       "      <td>82.0</td>\n",
       "      <td>13.4</td>\n",
       "      <td>16.3</td>\n",
       "      <td>23.8</td>\n",
       "      <td>29.1</td>\n",
       "    </tr>\n",
       "    <tr>\n",
       "      <th>2023</th>\n",
       "      <td>82.0</td>\n",
       "      <td>14.1</td>\n",
       "      <td>17.2</td>\n",
       "      <td>23.5</td>\n",
       "      <td>28.6</td>\n",
       "    </tr>\n",
       "  </tbody>\n",
       "</table>\n",
       "</div>"
      ]
     },
     "execution_count": 180,
     "metadata": {},
     "output_type": "execute_result"
    }
   ],
   "execution_count": 180
  },
  {
   "metadata": {},
   "cell_type": "markdown",
   "source": [
    "\n",
    "Besides season 2019 and season 2020 which are short season, the overall number of back-to-back / 4-in-6 game have gone down by about 7%.\n",
    "Meaning the league making better schedule overall, games are more evenly spread withing season."
   ]
  },
  {
   "metadata": {
    "ExecuteTime": {
     "end_time": "2025-08-24T05:26:50.833981Z",
     "start_time": "2025-08-24T05:26:50.748463Z"
    }
   },
   "cell_type": "code",
   "source": [
    "plt.plot(season_group[['b2b_per_team', '4in6_per_team']])\n",
    "plt.legend(['b2b_per_team', '4in6_per_team'])\n",
    "plt.xticks(seasons)"
   ],
   "outputs": [
    {
     "data": {
      "text/plain": [
       "([<matplotlib.axis.XTick at 0x1dc426180d0>,\n",
       "  <matplotlib.axis.XTick at 0x1dc4261aaa0>,\n",
       "  <matplotlib.axis.XTick at 0x1dc42618e50>,\n",
       "  <matplotlib.axis.XTick at 0x1dc432261d0>,\n",
       "  <matplotlib.axis.XTick at 0x1dc1f0b7c40>,\n",
       "  <matplotlib.axis.XTick at 0x1dc4267a080>,\n",
       "  <matplotlib.axis.XTick at 0x1dc4258c970>,\n",
       "  <matplotlib.axis.XTick at 0x1dc42d363b0>,\n",
       "  <matplotlib.axis.XTick at 0x1dc4258dcc0>,\n",
       "  <matplotlib.axis.XTick at 0x1dc4258ed70>],\n",
       " [Text(2014, 0, '2014'),\n",
       "  Text(2015, 0, '2015'),\n",
       "  Text(2016, 0, '2016'),\n",
       "  Text(2017, 0, '2017'),\n",
       "  Text(2018, 0, '2018'),\n",
       "  Text(2019, 0, '2019'),\n",
       "  Text(2020, 0, '2020'),\n",
       "  Text(2021, 0, '2021'),\n",
       "  Text(2022, 0, '2022'),\n",
       "  Text(2023, 0, '2023')])"
      ]
     },
     "execution_count": 181,
     "metadata": {},
     "output_type": "execute_result"
    },
    {
     "data": {
      "text/plain": [
       "<Figure size 640x480 with 1 Axes>"
      ],
      "image/png": "[encoded data removed]"
     },
     "metadata": {},
     "output_type": "display_data"
    }
   ],
   "execution_count": 181
  },
  {
   "metadata": {
    "ExecuteTime": {
     "end_time": "2025-08-24T05:26:51.461460Z",
     "start_time": "2025-08-24T05:26:50.844980Z"
    }
   },
   "cell_type": "code",
   "source": [
    "# counting the average gap(days) between 4-in-6 stretch, I use total gap days / count of continue stretch to calculate avg gap\n",
    "avg_seasonal_gap = {}\n",
    "min_seasonal_gap = {}\n",
    "for season in seasons:\n",
    "    team_gapd = 0\n",
    "    gap_list = []\n",
    "    for team in teams:\n",
    "        team_data = ns[(ns['team'] == team) & (ns['season'] == season)].sort_values('gamedate',ascending=True).reset_index(drop=True)\n",
    "        gapdays = 0\n",
    "        stretch_count = 0\n",
    "        pp = 0 if team_data.loc[0,'4in6_range'] == 0 else 1\n",
    "        first_date = team_data.loc[0,'gamedate']\n",
    "        for idx in range(1,len(team_data)):\n",
    "            if (team_data['4in6_range'][idx] >0) & (pp == 0):\n",
    "                stretch_count += 1\n",
    "                if first_date < team_data.loc[idx,'gamedate']:\n",
    "                    gap_list.append((team_data.loc[idx,'gamedate'] - first_date).days -1)\n",
    "                    gapdays += (team_data.loc[idx,'gamedate'] - first_date).days -1\n",
    "                pp = 1\n",
    "\n",
    "            if (team_data['4in6_range'][idx] == 0) & (pp == 1):\n",
    "                first_date = team_data.loc[idx-1,'gamedate']\n",
    "                pp = 0\n",
    "\n",
    "        team_gapd += round(gapdays/stretch_count,1)\n",
    "    gap_list.sort()\n",
    "    min_seasonal_gap[season] = gap_list[:10]\n",
    "    avg_seasonal_gap[season] = round(team_gapd/30,1)"
   ],
   "outputs": [],
   "execution_count": 182
  },
  {
   "metadata": {
    "ExecuteTime": {
     "end_time": "2025-08-24T05:26:51.540800Z",
     "start_time": "2025-08-24T05:26:51.468472Z"
    }
   },
   "cell_type": "code",
   "source": [
    "plt.plot(avg_seasonal_gap.keys(), avg_seasonal_gap.values())\n",
    "plt.xticks(seasons)"
   ],
   "outputs": [
    {
     "data": {
      "text/plain": [
       "([<matplotlib.axis.XTick at 0x1dc4328bd60>,\n",
       "  <matplotlib.axis.XTick at 0x1dc43288d60>,\n",
       "  <matplotlib.axis.XTick at 0x1dc4328add0>,\n",
       "  <matplotlib.axis.XTick at 0x1dc4361cf70>,\n",
       "  <matplotlib.axis.XTick at 0x1dc4361c850>,\n",
       "  <matplotlib.axis.XTick at 0x1dc4361c940>,\n",
       "  <matplotlib.axis.XTick at 0x1dc4361e350>,\n",
       "  <matplotlib.axis.XTick at 0x1dc4361f130>,\n",
       "  <matplotlib.axis.XTick at 0x1dc4361ff40>,\n",
       "  <matplotlib.axis.XTick at 0x1dc69c55300>],\n",
       " [Text(2014, 0, '2014'),\n",
       "  Text(2015, 0, '2015'),\n",
       "  Text(2016, 0, '2016'),\n",
       "  Text(2017, 0, '2017'),\n",
       "  Text(2018, 0, '2018'),\n",
       "  Text(2019, 0, '2019'),\n",
       "  Text(2020, 0, '2020'),\n",
       "  Text(2021, 0, '2021'),\n",
       "  Text(2022, 0, '2022'),\n",
       "  Text(2023, 0, '2023')])"
      ]
     },
     "execution_count": 183,
     "metadata": {},
     "output_type": "execute_result"
    },
    {
     "data": {
      "text/plain": [
       "<Figure size 640x480 with 1 Axes>"
      ],
      "image/png": "[encoded data removed]"
     },
     "metadata": {},
     "output_type": "display_data"
    }
   ],
   "execution_count": 183
  },
  {
   "metadata": {
    "ExecuteTime": {
     "end_time": "2025-08-24T05:26:51.555801Z",
     "start_time": "2025-08-24T05:26:51.551799Z"
    }
   },
   "cell_type": "code",
   "source": [
    "#check for 10 smallest gap each season\n",
    "min_seasonal_gap"
   ],
   "outputs": [
    {
     "data": {
      "text/plain": [
       "{2014: [0, 0, 1, 1, 1, 1, 1, 1, 1, 2],\n",
       " 2015: [1, 1, 1, 2, 3, 3, 3, 3, 3, 3],\n",
       " 2016: [1, 1, 1, 1, 2, 2, 2, 2, 3, 3],\n",
       " 2017: [1, 1, 1, 1, 2, 2, 2, 3, 3, 3],\n",
       " 2018: [1, 1, 2, 2, 3, 4, 4, 4, 4, 4],\n",
       " 2019: [2, 2, 2, 3, 3, 3, 3, 3, 3, 4],\n",
       " 2020: [1, 1, 2, 2, 2, 2, 2, 2, 2, 2],\n",
       " 2021: [1, 1, 2, 2, 2, 3, 3, 3, 3, 4],\n",
       " 2022: [1, 2, 3, 3, 3, 3, 3, 4, 4, 4],\n",
       " 2023: [1, 1, 1, 2, 2, 2, 2, 3, 3, 3]}"
      ]
     },
     "execution_count": 184,
     "metadata": {},
     "output_type": "execute_result"
    }
   ],
   "execution_count": 184
  },
  {
   "metadata": {},
   "cell_type": "markdown",
   "source": [
    "Days in between 4-in-6 streak also become longer, and the minimum days between streak have also grown.\n",
    "Teams are having more break time in between tough schedules."
   ]
  },
  {
   "metadata": {
    "ExecuteTime": {
     "end_time": "2025-08-24T05:26:52.244267Z",
     "start_time": "2025-08-24T05:26:51.567732Z"
    }
   },
   "cell_type": "code",
   "source": [
    "# std list of ecah team's 4in6/b2b count store in dictionary, and run std for each season\n",
    "team_4in6_count,team_b2b_count = {}, {}\n",
    "\n",
    "for season in seasons:\n",
    "    list_4in6,list_b2b = [], []\n",
    "\n",
    "    for team in teams:\n",
    "        list_4in6.append(ns[(ns['team'] == team) & (ns['season'] == season)]['4in6'].sum())\n",
    "        list_b2b.append(ns[(ns['team'] == team) & (ns['season'] == season)]['b2b'].sum())\n",
    "\n",
    "    team_4in6_count[season] = round(np.std(list_4in6),1)\n",
    "    team_b2b_count[season] = round(np.std(list_b2b),1)\n",
    "team_4in6_count, team_b2b_count"
   ],
   "outputs": [
    {
     "data": {
      "text/plain": [
       "({2014: 3.7,\n",
       "  2015: 2.4,\n",
       "  2016: 3.3,\n",
       "  2017: 2.7,\n",
       "  2018: 3.3,\n",
       "  2019: 2.9,\n",
       "  2020: 5.2,\n",
       "  2021: 3.6,\n",
       "  2022: 3.0,\n",
       "  2023: 3.4},\n",
       " {2014: 1.6,\n",
       "  2015: 1.7,\n",
       "  2016: 1.3,\n",
       "  2017: 0.8,\n",
       "  2018: 0.9,\n",
       "  2019: 1.3,\n",
       "  2020: 1.4,\n",
       "  2021: 1.4,\n",
       "  2022: 1.2,\n",
       "  2023: 0.9})"
      ]
     },
     "execution_count": 185,
     "metadata": {},
     "output_type": "execute_result"
    }
   ],
   "execution_count": 185
  },
  {
   "metadata": {},
   "cell_type": "markdown",
   "source": [
    "Having lower standard division mean the difference in schedule density is getting smaller between teams.\n",
    "Team's record is less impact by the schedule difference in a season."
   ]
  },
  {
   "cell_type": "markdown",
   "metadata": {},
   "source": [
    "### Dashboard Design\n",
    "To visualize the entire season, I designed a Gantt chart using plotly, displaying the schedule for the selected season/ team.\n",
    "There are three argument:\n",
    "{ **df** }  is the schedule data in pd.DataFrame,\n",
    "{  **season**  } is the selected season(int), and\n",
    "{**default_team**  } take team's abbreviation in string ( like 'OKC\").\n",
    "I use color and categories to show the density of the schedule, with more information pop up when point to the block.\n",
    "There's also a timeline that is adjustable, and a dropdown list allow you to select different teams in the same season."
   ]
  },
  {
   "metadata": {
    "ExecuteTime": {
     "end_time": "2025-09-08T09:00:21.217289Z",
     "start_time": "2025-09-08T09:00:21.202290Z"
    }
   },
   "cell_type": "code",
   "source": [
    "import plotly.express as px\n",
    "import plotly.graph_objects as go\n",
    "\n",
    "#prepare data for plot\n",
    "def build_team_schedule(df_team: pd.DataFrame) -> pd.DataFrame:\n",
    "\n",
    "    t = df_team.copy().sort_values('gamedate',ascending=False).reset_index(drop=True)\n",
    "    t['gamedate'] = pd.to_datetime(t.gamedate)\n",
    "    t['prev_date'] = t['gamedate'].shift(-1)\n",
    "    t['rest_days'] = (t['gamedate'] - t['prev_date']).dt.days\n",
    "    t['rest_days']= t['rest_days'].fillna(0)\n",
    "\n",
    "    t['b2b'] = t['rest_days'] == 1\n",
    "\n",
    "\n",
    "\n",
    "    teams = t['team'].unique()\n",
    "    fin6_index = pd.DataFrame(density_check(t, teams, 3, 6))\n",
    "    t['4in6'] = t.index.isin(fin6_index.index)\n",
    "\n",
    "    # mark all games in the stretch like 4in6/ b2b, and count how many game are played in the past 6 days\n",
    "    t['b2b_range'] = 0\n",
    "    t['4in6_range'] = 0\n",
    "    t['games_last6'] = 1\n",
    "\n",
    "    for team in teams:\n",
    "        team_data = t[t['team'] == team].copy()\n",
    "        team_data.sort_values('gamedate',ascending=False,inplace=True)\n",
    "\n",
    "        for idx in range(len(team_data)):\n",
    "            t_index = team_data.index\n",
    "            if t.loc[t_index[idx],'4in6'] == True:\n",
    "                nth = 4\n",
    "                for game in range(4):\n",
    "                    t.loc[t_index[idx+game],'4in6_range'] = nth\n",
    "                    nth -= 1\n",
    "            if t.loc[idx,'b2b'] == True:\n",
    "                t.loc[t_index[idx],'b2b_range'] = 2\n",
    "                t.loc[t_index[idx+1],'b2b_range'] = 1\n",
    "\n",
    "\n",
    "            start = t.loc[t_index[idx],'gamedate'] - timedelta(days=5,hours=23,minutes=59)\n",
    "\n",
    "            t.loc[t_index[idx],'games_last6'] = team_data[\n",
    "                (team_data['gamedate'] >= start) &\n",
    "                (team_data['gamedate'] <= team_data.loc[t_index[idx],'gamedate'])\n",
    "            ].shape[0]\n",
    "\n",
    "\n",
    "\n",
    "    # category lane\n",
    "    def lane(row):\n",
    "        if row['b2b_range']>0:\n",
    "            return 'Back-to-Back'\n",
    "        elif row['4in6_range']>0:\n",
    "            return '4-in-6'\n",
    "        else:\n",
    "            return 'Normal'\n",
    "    t['category'] = t.apply(lane, axis=1)\n",
    "\n",
    "    # Label text & block span\n",
    "    t['home_away'] = t['home'].map({1: 'Home', 0: 'Away'})\n",
    "    t['text'] = t.apply(lambda r: f\"{r['home_away']} vs {r['opponent']}\", axis=1)\n",
    "    t['start'] = t['gamedate']\n",
    "    t['end']   = t['gamedate'] + timedelta(days=1)\n",
    "    return t\n"
   ],
   "outputs": [],
   "execution_count": 67
  },
  {
   "metadata": {
    "ExecuteTime": {
     "end_time": "2025-09-08T09:00:21.248379Z",
     "start_time": "2025-09-08T09:00:21.229091Z"
    }
   },
   "cell_type": "code",
   "source": [
    "# plot function\n",
    "def schedule_gantt_plot(\n",
    "    df: pd.DataFrame,\n",
    "    season: int,\n",
    "    default_team: str | None = None\n",
    "):\n",
    "\n",
    "    # ensure datetime\n",
    "    df = df.copy()\n",
    "    df['gamedate'] = pd.to_datetime(df['gamedate'])\n",
    "\n",
    "    # filter season & sort\n",
    "    dfs = df[df['season'] == season].copy()\n",
    "    if dfs.empty:\n",
    "        raise ValueError(f\"No rows found for season={season}.\")\n",
    "\n",
    "    teams = sorted(dfs['team'].unique())\n",
    "    if default_team is None:\n",
    "        default_team = teams[0]\n",
    "    elif default_team not in teams:\n",
    "        raise ValueError(f\"default_team:'{default_team}' not found in season {season}. Available: {teams}\")\n",
    "\n",
    "    # base team figure\n",
    "    ts0 = build_team_schedule(dfs[dfs['team'] == default_team].sort_values('gamedate'))\n",
    "    base = px.timeline(\n",
    "        ts0,\n",
    "        x_start=\"start\", x_end=\"end\",\n",
    "        y=\"category\",\n",
    "        color=\"games_last6\",\n",
    "        text=\"text\",\n",
    "        title=f\"{default_team} Schedule Density ({season} Season)\",\n",
    "        hover_data={\n",
    "            \"gamedate\": True, \"home_away\": True, \"opponent\": True,\n",
    "            \"rest_days\": True, \"b2b\": True, \"4in6\": True, \"games_last6\": True,\n",
    "            \"start\": False, \"end\": False, \"category\": False, \"text\": False\n",
    "        },\n",
    "        color_continuous_scale=\"Turbo\",\n",
    "    )\n",
    "    base.update_traces(textposition='inside', insidetextanchor='start')\n",
    "    base.update_yaxes(categoryorder=\"array\", categoryarray=[\"Back-to-Back\", \"4-in-6\", \"Normal\"])\n",
    "    base.update_layout(\n",
    "        xaxis_title=\"Date\",\n",
    "        yaxis_title=\"Schedule Category\",\n",
    "        height=560,\n",
    "        margin=dict(l=160, r=40, t=160),\n",
    "        coloraxis_colorbar=dict(title=\"Games in last 6 days\")\n",
    "    )\n",
    "    base.update_xaxes(\n",
    "        rangeslider=dict(visible=True),\n",
    "        rangeselector=dict(\n",
    "            buttons=[\n",
    "                dict(count=14, label=\"2W\", step=\"day\",   stepmode=\"backward\"),\n",
    "                dict(count=1,  label=\"1M\", step=\"month\", stepmode=\"backward\"),\n",
    "                dict(count=3,  label=\"3M\", step=\"month\", stepmode=\"backward\"),\n",
    "                dict(step=\"all\")\n",
    "            ]\n",
    "        )\n",
    "    )\n",
    "\n",
    "    fig = go.Figure(base)\n",
    "\n",
    "    # team dropdown frames\n",
    "    if len(teams)>0:\n",
    "        frames = []\n",
    "        for tm in teams:\n",
    "            ts = build_team_schedule(dfs[dfs['team'] == tm].sort_values('gamedate'))\n",
    "            f = px.timeline(\n",
    "                ts, x_start=\"start\", x_end=\"end\", y=\"category\",\n",
    "                color=\"games_last6\", text=\"text\", color_continuous_scale=\"Turbo\",\n",
    "                hover_data={\n",
    "                    \"gamedate\": True, \"home_away\": True, \"opponent\": True,\n",
    "                    \"rest_days\": True, \"b2b\": True, \"4in6\": True, \"b2b_range\":True, \"games_last6\": True,\n",
    "                    \"start\": False, \"end\": False, \"category\": False, \"text\": False\n",
    "                }\n",
    "            )\n",
    "            for tr in f.data:\n",
    "                tr.textposition = 'inside'\n",
    "                tr.insidetextanchor = 'start'\n",
    "            frames.append(go.Frame(\n",
    "                data=f.data,\n",
    "                name=tm,\n",
    "                layout=go.Layout(title_text=f\"{tm} Schedule Density ({season} Season)\")\n",
    "            ))\n",
    "        fig.frames = frames\n",
    "\n",
    "        buttons = [\n",
    "            dict(label=tm, method=\"animate\",\n",
    "                args=[[tm], {\"mode\": \"immediate\", \"frame\": {\"duration\": 0, \"redraw\": True}, \"transition\": {\"duration\": 0}}]\n",
    "            )for tm in teams\n",
    "        ]\n",
    "        fig.update_layout(\n",
    "            updatemenus=[\n",
    "                dict(\n",
    "                    type=\"dropdown\", showactive=True,\n",
    "                    x=0.4, xanchor=\"center\", y=1.15, yanchor=\"top\",\n",
    "                    buttons=buttons\n",
    "                )\n",
    "            ]\n",
    "        )\n",
    "\n",
    "    return fig"
   ],
   "outputs": [],
   "execution_count": 68
  },
  {
   "metadata": {
    "ExecuteTime": {
     "end_time": "2025-09-08T09:00:21.606014Z",
     "start_time": "2025-09-08T09:00:21.256029Z"
    }
   },
   "cell_type": "code",
   "source": [
    "fig = schedule_gantt_plot(\n",
    "    df=draft_schedule,\n",
    "    season=2024\n",
    ")\n",
    "fig"
   ],
   "outputs": [
    {
     "data": {
      "application/vnd.plotly.v1+json": {
       "data": [
        {
         "base": [
          "2025-04-13T00:00:00.000000000",
          "2025-04-11T00:00:00.000000000",
          "2025-04-09T00:00:00.000000000",
          "2025-04-06T00:00:00.000000000",
          "2025-04-04T00:00:00.000000000",
          "2025-04-02T00:00:00.000000000",
          "2025-04-01T00:00:00.000000000",
          "2025-03-28T00:00:00.000000000",
          "2025-03-26T00:00:00.000000000",
          "2025-03-24T00:00:00.000000000",
          "2025-03-23T00:00:00.000000000",
          "2025-03-21T00:00:00.000000000",
          "2025-03-19T00:00:00.000000000",
          "2025-03-17T00:00:00.000000000",
          "2025-03-15T00:00:00.000000000",
          "2025-03-14T00:00:00.000000000",
          "2025-03-12T00:00:00.000000000",
          "2025-03-10T00:00:00.000000000",
          "2025-03-09T00:00:00.000000000",
          "2025-03-07T00:00:00.000000000",
          "2025-03-05T00:00:00.000000000",
          "2025-03-02T00:00:00.000000000",
          "2025-02-28T00:00:00.000000000",
          "2025-02-27T00:00:00.000000000",
          "2025-02-24T00:00:00.000000000",
          "2025-02-22T00:00:00.000000000",
          "2025-02-20T00:00:00.000000000",
          "2025-02-12T00:00:00.000000000",
          "2025-02-10T00:00:00.000000000",
          "2025-02-08T00:00:00.000000000",
          "2025-02-06T00:00:00.000000000",
          "2025-02-05T00:00:00.000000000",
          "2025-02-03T00:00:00.000000000",
          "2025-02-01T00:00:00.000000000",
          "2025-01-31T00:00:00.000000000",
          "2025-01-29T00:00:00.000000000",
          "2025-01-27T00:00:00.000000000",
          "2025-01-25T00:00:00.000000000",
          "2025-01-23T00:00:00.000000000",
          "2025-01-21T00:00:00.000000000",
          "2025-01-19T00:00:00.000000000",
          "2025-01-17T00:00:00.000000000",
          "2025-01-15T00:00:00.000000000",
          "2025-01-14T00:00:00.000000000",
          "2025-01-12T00:00:00.000000000",
          "2025-01-10T00:00:00.000000000",
          "2025-01-08T00:00:00.000000000",
          "2025-01-07T00:00:00.000000000",
          "2025-01-04T00:00:00.000000000",
          "2025-01-03T00:00:00.000000000",
          "2025-01-01T00:00:00.000000000",
          "2024-12-30T00:00:00.000000000",
          "2024-12-28T00:00:00.000000000",
          "2024-12-27T00:00:00.000000000",
          "2024-12-25T00:00:00.000000000",
          "2024-12-23T00:00:00.000000000",
          "2024-12-22T00:00:00.000000000",
          "2024-12-19T00:00:00.000000000",
          "2024-12-08T00:00:00.000000000",
          "2024-12-07T00:00:00.000000000",
          "2024-12-05T00:00:00.000000000",
          "2024-12-03T00:00:00.000000000",
          "2024-12-01T00:00:00.000000000",
          "2024-11-27T00:00:00.000000000",
          "2024-11-25T00:00:00.000000000",
          "2024-11-23T00:00:00.000000000",
          "2024-11-22T00:00:00.000000000",
          "2024-11-19T00:00:00.000000000",
          "2024-11-17T00:00:00.000000000",
          "2024-11-15T00:00:00.000000000",
          "2024-11-10T00:00:00.000000000",
          "2024-11-08T00:00:00.000000000",
          "2024-11-06T00:00:00.000000000",
          "2024-11-04T00:00:00.000000000",
          "2024-11-02T00:00:00.000000000",
          "2024-11-01T00:00:00.000000000",
          "2024-10-29T00:00:00.000000000",
          "2024-10-28T00:00:00.000000000",
          "2024-10-26T00:00:00.000000000",
          "2024-10-24T00:00:00.000000000"
         ],
         "customdata": [
          [
           "2025-04-13",
           "Away",
           "HOU",
           2.0,
           false,
           false,
           3,
           "Away vs HOU"
          ],
          [
           "2025-04-11",
           "Home",
           "MEM",
           2.0,
           false,
           false,
           3,
           "Home vs MEM"
          ],
          [
           "2025-04-09",
           "Away",
           "SAC",
           3.0,
           false,
           false,
           3,
           "Away vs SAC"
          ],
          [
           "2025-04-06",
           "Home",
           "IND",
           2.0,
           false,
           true,
           4,
           "Home vs IND"
          ],
          [
           "2025-04-04",
           "Away",
           "GSW",
           2.0,
           false,
           false,
           3,
           "Away vs GSW"
          ],
          [
           "2025-04-02",
           "Home",
           "SAS",
           1.0,
           true,
           false,
           3,
           "Home vs SAS"
          ],
          [
           "2025-04-01",
           "Home",
           "MIN",
           4.0,
           false,
           false,
           2,
           "Home vs MIN"
          ],
          [
           "2025-03-28",
           "Home",
           "UTA",
           2.0,
           false,
           true,
           4,
           "Home vs UTA"
          ],
          [
           "2025-03-26",
           "Home",
           "MIL",
           2.0,
           false,
           true,
           4,
           "Home vs MIL"
          ],
          [
           "2025-03-24",
           "Home",
           "CHI",
           1.0,
           true,
           true,
           4,
           "Home vs CHI"
          ],
          [
           "2025-03-23",
           "Away",
           "HOU",
           2.0,
           false,
           false,
           3,
           "Away vs HOU"
          ],
          [
           "2025-03-21",
           "Away",
           "POR",
           2.0,
           false,
           false,
           3,
           "Away vs POR"
          ],
          [
           "2025-03-19",
           "Away",
           "LAL",
           2.0,
           false,
           true,
           4,
           "Away vs LAL"
          ],
          [
           "2025-03-17",
           "Away",
           "GSW",
           2.0,
           false,
           true,
           4,
           "Away vs GSW"
          ],
          [
           "2025-03-15",
           "Home",
           "WAS",
           1.0,
           true,
           true,
           4,
           "Home vs WAS"
          ],
          [
           "2025-03-14",
           "Home",
           "LAL",
           2.0,
           false,
           true,
           4,
           "Home vs LAL"
          ],
          [
           "2025-03-12",
           "Home",
           "MIN",
           2.0,
           false,
           true,
           4,
           "Home vs MIN"
          ],
          [
           "2025-03-10",
           "Away",
           "OKC",
           1.0,
           true,
           true,
           4,
           "Away vs OKC"
          ],
          [
           "2025-03-09",
           "Away",
           "OKC",
           2.0,
           false,
           false,
           3,
           "Away vs OKC"
          ],
          [
           "2025-03-07",
           "Home",
           "PHX",
           2.0,
           false,
           false,
           3,
           "Home vs PHX"
          ],
          [
           "2025-03-05",
           "Home",
           "SAC",
           3.0,
           false,
           false,
           3,
           "Home vs SAC"
          ],
          [
           "2025-03-02",
           "Away",
           "BOS",
           2.0,
           false,
           false,
           3,
           "Away vs BOS"
          ],
          [
           "2025-02-28",
           "Away",
           "DET",
           1.0,
           true,
           false,
           3,
           "Away vs DET"
          ],
          [
           "2025-02-27",
           "Away",
           "MIL",
           3.0,
           false,
           false,
           3,
           "Away vs MIL"
          ],
          [
           "2025-02-24",
           "Away",
           "IND",
           2.0,
           false,
           false,
           3,
           "Away vs IND"
          ],
          [
           "2025-02-22",
           "Home",
           "LAL",
           2.0,
           false,
           false,
           2,
           "Home vs LAL"
          ],
          [
           "2025-02-20",
           "Home",
           "CHA",
           8.0,
           false,
           false,
           1,
           "Home vs CHA"
          ],
          [
           "2025-02-12",
           "Home",
           "POR",
           2.0,
           false,
           false,
           3,
           "Home vs POR"
          ],
          [
           "2025-02-10",
           "Home",
           "POR",
           2.0,
           false,
           true,
           4,
           "Home vs POR"
          ],
          [
           "2025-02-08",
           "Away",
           "PHX",
           2.0,
           false,
           true,
           4,
           "Away vs PHX"
          ],
          [
           "2025-02-06",
           "Home",
           "ORL",
           1.0,
           true,
           true,
           4,
           "Home vs ORL"
          ],
          [
           "2025-02-05",
           "Home",
           "NOP",
           2.0,
           false,
           true,
           4,
           "Home vs NOP"
          ],
          [
           "2025-02-03",
           "Home",
           "NOP",
           2.0,
           false,
           true,
           4,
           "Home vs NOP"
          ],
          [
           "2025-02-01",
           "Away",
           "CHA",
           1.0,
           true,
           true,
           4,
           "Away vs CHA"
          ],
          [
           "2025-01-31",
           "Away",
           "PHI",
           2.0,
           false,
           false,
           3,
           "Away vs PHI"
          ],
          [
           "2025-01-29",
           "Away",
           "NYK",
           2.0,
           false,
           false,
           3,
           "Away vs NYK"
          ],
          [
           "2025-01-27",
           "Away",
           "CHI",
           2.0,
           false,
           false,
           3,
           "Away vs CHI"
          ],
          [
           "2025-01-25",
           "Away",
           "MIN",
           2.0,
           false,
           false,
           3,
           "Away vs MIN"
          ],
          [
           "2025-01-23",
           "Home",
           "SAC",
           2.0,
           false,
           false,
           3,
           "Home vs SAC"
          ],
          [
           "2025-01-21",
           "Home",
           "PHI",
           2.0,
           false,
           false,
           3,
           "Home vs PHI"
          ],
          [
           "2025-01-19",
           "Away",
           "ORL",
           2.0,
           false,
           true,
           4,
           "Away vs ORL"
          ],
          [
           "2025-01-17",
           "Away",
           "MIA",
           2.0,
           false,
           true,
           4,
           "Away vs MIA"
          ],
          [
           "2025-01-15",
           "Home",
           "HOU",
           1.0,
           true,
           true,
           4,
           "Home vs HOU"
          ],
          [
           "2025-01-14",
           "Away",
           "DAL",
           2.0,
           false,
           false,
           3,
           "Away vs DAL"
          ],
          [
           "2025-01-12",
           "Away",
           "DAL",
           2.0,
           false,
           true,
           4,
           "Away vs DAL"
          ],
          [
           "2025-01-10",
           "Home",
           "BKN",
           2.0,
           false,
           false,
           3,
           "Home vs BKN"
          ],
          [
           "2025-01-08",
           "Home",
           "LAC",
           1.0,
           true,
           true,
           4,
           "Home vs LAC"
          ],
          [
           "2025-01-07",
           "Home",
           "BOS",
           3.0,
           false,
           false,
           3,
           "Home vs BOS"
          ],
          [
           "2025-01-04",
           "Away",
           "SAS",
           1.0,
           true,
           true,
           4,
           "Away vs SAS"
          ],
          [
           "2025-01-03",
           "Home",
           "SAS",
           2.0,
           false,
           false,
           3,
           "Home vs SAS"
          ],
          [
           "2025-01-01",
           "Home",
           "ATL",
           2.0,
           false,
           true,
           4,
           "Home vs ATL"
          ],
          [
           "2024-12-30",
           "Away",
           "UTA",
           2.0,
           false,
           true,
           4,
           "Away vs UTA"
          ],
          [
           "2024-12-28",
           "Home",
           "DET",
           1.0,
           true,
           true,
           4,
           "Home vs DET"
          ],
          [
           "2024-12-27",
           "Home",
           "CLE",
           2.0,
           false,
           true,
           4,
           "Home vs CLE"
          ],
          [
           "2024-12-25",
           "Away",
           "PHX",
           2.0,
           false,
           false,
           3,
           "Away vs PHX"
          ],
          [
           "2024-12-23",
           "Home",
           "PHX",
           1.0,
           true,
           false,
           3,
           "Home vs PHX"
          ],
          [
           "2024-12-22",
           "Away",
           "NOP",
           3.0,
           false,
           false,
           2,
           "Away vs NOP"
          ],
          [
           "2024-12-19",
           "Away",
           "POR",
           11.0,
           false,
           false,
           1,
           "Away vs POR"
          ],
          [
           "2024-12-08",
           "Away",
           "ATL",
           1.0,
           true,
           true,
           4,
           "Away vs ATL"
          ],
          [
           "2024-12-07",
           "Away",
           "WAS",
           2.0,
           false,
           false,
           3,
           "Away vs WAS"
          ],
          [
           "2024-12-05",
           "Away",
           "CLE",
           2.0,
           false,
           false,
           3,
           "Away vs CLE"
          ],
          [
           "2024-12-03",
           "Home",
           "GSW",
           2.0,
           false,
           false,
           2,
           "Home vs GSW"
          ],
          [
           "2024-12-01",
           "Away",
           "LAC",
           4.0,
           false,
           false,
           2,
           "Away vs LAC"
          ],
          [
           "2024-11-27",
           "Away",
           "UTA",
           2.0,
           false,
           true,
           4,
           "Away vs UTA"
          ],
          [
           "2024-11-25",
           "Home",
           "NYK",
           2.0,
           false,
           false,
           3,
           "Home vs NYK"
          ],
          [
           "2024-11-23",
           "Away",
           "LAL",
           1.0,
           true,
           false,
           3,
           "Away vs LAL"
          ],
          [
           "2024-11-22",
           "Home",
           "DAL",
           3.0,
           false,
           false,
           3,
           "Home vs DAL"
          ],
          [
           "2024-11-19",
           "Away",
           "MEM",
           2.0,
           false,
           false,
           3,
           "Away vs MEM"
          ],
          [
           "2024-11-17",
           "Away",
           "MEM",
           2.0,
           false,
           false,
           2,
           "Away vs MEM"
          ],
          [
           "2024-11-15",
           "Away",
           "NOP",
           5.0,
           false,
           false,
           2,
           "Away vs NOP"
          ],
          [
           "2024-11-10",
           "Home",
           "DAL",
           2.0,
           false,
           false,
           3,
           "Home vs DAL"
          ],
          [
           "2024-11-08",
           "Home",
           "MIA",
           2.0,
           false,
           false,
           3,
           "Home vs MIA"
          ],
          [
           "2024-11-06",
           "Home",
           "OKC",
           2.0,
           false,
           true,
           4,
           "Home vs OKC"
          ],
          [
           "2024-11-04",
           "Home",
           "TOR",
           2.0,
           false,
           false,
           3,
           "Home vs TOR"
          ],
          [
           "2024-11-02",
           "Home",
           "UTA",
           1.0,
           true,
           true,
           4,
           "Home vs UTA"
          ],
          [
           "2024-11-01",
           "Away",
           "MIN",
           3.0,
           false,
           false,
           3,
           "Away vs MIN"
          ],
          [
           "2024-10-29",
           "Away",
           "BKN",
           1.0,
           true,
           false,
           4,
           "Away vs BKN"
          ],
          [
           "2024-10-28",
           "Away",
           "TOR",
           2.0,
           false,
           false,
           3,
           "Away vs TOR"
          ],
          [
           "2024-10-26",
           "Home",
           "LAC",
           2.0,
           false,
           false,
           2,
           "Home vs LAC"
          ],
          [
           "2024-10-24",
           "Home",
           "OKC",
           0.0,
           false,
           false,
           1,
           "Home vs OKC"
          ]
         ],
         "hovertemplate": "gamedate=%{customdata[0]}<br>home_away=%{customdata[1]}<br>opponent=%{customdata[2]}<br>rest_days=%{customdata[3]}<br>b2b=%{customdata[4]}<br>4in6=%{customdata[5]}<br>games_last6=%{marker.color}<extra></extra>",
         "insidetextanchor": "start",
         "legendgroup": "",
         "marker": {
          "color": {
           "dtype": "i1",
           "bdata": "AwMDBAMDAgQEBAMDBAQEBAQEAwMDAwMDAwIBAwQEBAQEBAMDAwMDAwQEBAMEAwQDBAMEBAQEAwMCAQQDAwICBAMDAwMCAgMDBAMEAwQDAgE="
          },
          "coloraxis": "coloraxis",
          "pattern": {
           "shape": ""
          }
         },
         "name": "",
         "orientation": "h",
         "showlegend": false,
         "text": [
          "Away vs HOU",
          "Home vs MEM",
          "Away vs SAC",
          "Home vs IND",
          "Away vs GSW",
          "Home vs SAS",
          "Home vs MIN",
          "Home vs UTA",
          "Home vs MIL",
          "Home vs CHI",
          "Away vs HOU",
          "Away vs POR",
          "Away vs LAL",
          "Away vs GSW",
          "Home vs WAS",
          "Home vs LAL",
          "Home vs MIN",
          "Away vs OKC",
          "Away vs OKC",
          "Home vs PHX",
          "Home vs SAC",
          "Away vs BOS",
          "Away vs DET",
          "Away vs MIL",
          "Away vs IND",
          "Home vs LAL",
          "Home vs CHA",
          "Home vs POR",
          "Home vs POR",
          "Away vs PHX",
          "Home vs ORL",
          "Home vs NOP",
          "Home vs NOP",
          "Away vs CHA",
          "Away vs PHI",
          "Away vs NYK",
          "Away vs CHI",
          "Away vs MIN",
          "Home vs SAC",
          "Home vs PHI",
          "Away vs ORL",
          "Away vs MIA",
          "Home vs HOU",
          "Away vs DAL",
          "Away vs DAL",
          "Home vs BKN",
          "Home vs LAC",
          "Home vs BOS",
          "Away vs SAS",
          "Home vs SAS",
          "Home vs ATL",
          "Away vs UTA",
          "Home vs DET",
          "Home vs CLE",
          "Away vs PHX",
          "Home vs PHX",
          "Away vs NOP",
          "Away vs POR",
          "Away vs ATL",
          "Away vs WAS",
          "Away vs CLE",
          "Home vs GSW",
          "Away vs LAC",
          "Away vs UTA",
          "Home vs NYK",
          "Away vs LAL",
          "Home vs DAL",
          "Away vs MEM",
          "Away vs MEM",
          "Away vs NOP",
          "Home vs DAL",
          "Home vs MIA",
          "Home vs OKC",
          "Home vs TOR",
          "Home vs UTA",
          "Away vs MIN",
          "Away vs BKN",
          "Away vs TOR",
          "Home vs LAC",
          "Home vs OKC"
         ],
         "textposition": "inside",
         "x": {
          "dtype": "i4",
          "bdata": "AFwmBQBcJgUAXCYFAFwmBQBcJgUAXCYFAFwmBQBcJgUAXCYFAFwmBQBcJgUAXCYFAFwmBQBcJgUAXCYFAFwmBQBcJgUAXCYFAFwmBQBcJgUAXCYFAFwmBQBcJgUAXCYFAFwmBQBcJgUAXCYFAFwmBQBcJgUAXCYFAFwmBQBcJgUAXCYFAFwmBQBcJgUAXCYFAFwmBQBcJgUAXCYFAFwmBQBcJgUAXCYFAFwmBQBcJgUAXCYFAFwmBQBcJgUAXCYFAFwmBQBcJgUAXCYFAFwmBQBcJgUAXCYFAFwmBQBcJgUAXCYFAFwmBQBcJgUAXCYFAFwmBQBcJgUAXCYFAFwmBQBcJgUAXCYFAFwmBQBcJgUAXCYFAFwmBQBcJgUAXCYFAFwmBQBcJgUAXCYFAFwmBQBcJgUAXCYFAFwmBQBcJgU="
         },
         "xaxis": "x",
         "y": [
          "Normal",
          "Normal",
          "Normal",
          "4-in-6",
          "4-in-6",
          "Back-to-Back",
          "Back-to-Back",
          "4-in-6",
          "4-in-6",
          "Back-to-Back",
          "Back-to-Back",
          "4-in-6",
          "4-in-6",
          "4-in-6",
          "Back-to-Back",
          "Back-to-Back",
          "4-in-6",
          "Back-to-Back",
          "Back-to-Back",
          "4-in-6",
          "4-in-6",
          "Normal",
          "Back-to-Back",
          "Back-to-Back",
          "Normal",
          "Normal",
          "Normal",
          "Normal",
          "4-in-6",
          "4-in-6",
          "Back-to-Back",
          "Back-to-Back",
          "4-in-6",
          "Back-to-Back",
          "Back-to-Back",
          "4-in-6",
          "4-in-6",
          "Normal",
          "Normal",
          "Normal",
          "4-in-6",
          "4-in-6",
          "Back-to-Back",
          "Back-to-Back",
          "4-in-6",
          "4-in-6",
          "Back-to-Back",
          "Back-to-Back",
          "Back-to-Back",
          "Back-to-Back",
          "4-in-6",
          "4-in-6",
          "Back-to-Back",
          "Back-to-Back",
          "4-in-6",
          "Back-to-Back",
          "Back-to-Back",
          "Normal",
          "Back-to-Back",
          "Back-to-Back",
          "4-in-6",
          "4-in-6",
          "Normal",
          "4-in-6",
          "4-in-6",
          "Back-to-Back",
          "Back-to-Back",
          "Normal",
          "Normal",
          "Normal",
          "Normal",
          "Normal",
          "4-in-6",
          "4-in-6",
          "Back-to-Back",
          "Back-to-Back",
          "Back-to-Back",
          "Back-to-Back",
          "Normal",
          "Normal"
         ],
         "yaxis": "y",
         "type": "bar"
        }
       ],
       "layout": {
        "barmode": "overlay",
        "coloraxis": {
         "colorbar": {
          "title": {
           "text": "Games in last 6 days"
          }
         },
         "colorscale": [
          [
           0.0,
           "#30123b"
          ],
          [
           0.07142857142857142,
           "#4145ab"
          ],
          [
           0.14285714285714285,
           "#4675ed"
          ],
          [
           0.21428571428571427,
           "#39a2fc"
          ],
          [
           0.2857142857142857,
           "#1bcfd4"
          ],
          [
           0.35714285714285715,
           "#24eca6"
          ],
          [
           0.42857142857142855,
           "#61fc6c"
          ],
          [
           0.5,
           "#a4fc3b"
          ],
          [
           0.5714285714285714,
           "#d1e834"
          ],
          [
           0.6428571428571429,
           "#f3c63a"
          ],
          [
           0.7142857142857143,
           "#fe9b2d"
          ],
          [
           0.7857142857142857,
           "#f36315"
          ],
          [
           0.8571428571428571,
           "#d93806"
          ],
          [
           0.9285714285714286,
           "#b11901"
          ],
          [
           1.0,
           "#7a0402"
          ]
         ]
        },
        "height": 560,
        "legend": {
         "tracegroupgap": 0
        },
        "margin": {
         "l": 160,
         "r": 40,
         "t": 160
        },
        "template": {
         "data": {
          "barpolar": [
           {
            "marker": {
             "line": {
              "color": "rgb(17,17,17)",
              "width": 0.5
             },
             "pattern": {
              "fillmode": "overlay",
              "size": 10,
              "solidity": 0.2
             }
            },
            "type": "barpolar"
           }
          ],
          "bar": [
           {
            "error_x": {
             "color": "#f2f5fa"
            },
            "error_y": {
             "color": "#f2f5fa"
            },
            "marker": {
             "line": {
              "color": "rgb(17,17,17)",
              "width": 0.5
             },
             "pattern": {
              "fillmode": "overlay",
              "size": 10,
              "solidity": 0.2
             }
            },
            "type": "bar"
           }
          ],
          "carpet": [
           {
            "aaxis": {
             "endlinecolor": "#A2B1C6",
             "gridcolor": "#506784",
             "linecolor": "#506784",
             "minorgridcolor": "#506784",
             "startlinecolor": "#A2B1C6"
            },
            "baxis": {
             "endlinecolor": "#A2B1C6",
             "gridcolor": "#506784",
             "linecolor": "#506784",
             "minorgridcolor": "#506784",
             "startlinecolor": "#A2B1C6"
            },
            "type": "carpet"
           }
          ],
          "choropleth": [
           {
            "colorbar": {
             "outlinewidth": 0,
             "ticks": ""
            },
            "type": "choropleth"
           }
          ],
          "contourcarpet": [
           {
            "colorbar": {
             "outlinewidth": 0,
             "ticks": ""
            },
            "type": "contourcarpet"
           }
          ],
          "contour": [
           {
            "colorbar": {
             "outlinewidth": 0,
             "ticks": ""
            },
            "colorscale": [
             [
              0.0,
              "#0d0887"
             ],
             [
              0.1111111111111111,
              "#46039f"
             ],
             [
              0.2222222222222222,
              "#7201a8"
             ],
             [
              0.3333333333333333,
              "#9c179e"
             ],
             [
              0.4444444444444444,
              "#bd3786"
             ],
             [
              0.5555555555555556,
              "#d8576b"
             ],
             [
              0.6666666666666666,
              "#ed7953"
             ],
             [
              0.7777777777777778,
              "#fb9f3a"
             ],
             [
              0.8888888888888888,
              "#fdca26"
             ],
             [
              1.0,
              "#f0f921"
             ]
            ],
            "type": "contour"
           }
          ],
          "heatmap": [
           {
            "colorbar": {
             "outlinewidth": 0,
             "ticks": ""
            },
            "colorscale": [
             [
              0.0,
              "#0d0887"
             ],
             [
              0.1111111111111111,
              "#46039f"
             ],
             [
              0.2222222222222222,
              "#7201a8"
             ],
             [
              0.3333333333333333,
              "#9c179e"
             ],
             [
              0.4444444444444444,
              "#bd3786"
             ],
             [
              0.5555555555555556,
              "#d8576b"
             ],
             [
              0.6666666666666666,
              "#ed7953"
             ],
             [
              0.7777777777777778,
              "#fb9f3a"
             ],
             [
              0.8888888888888888,
              "#fdca26"
             ],
             [
              1.0,
              "#f0f921"
             ]
            ],
            "type": "heatmap"
           }
          ],
          "histogram2dcontour": [
           {
            "colorbar": {
             "outlinewidth": 0,
             "ticks": ""
            },
            "colorscale": [
             [
              0.0,
              "#0d0887"
             ],
             [
              0.1111111111111111,
              "#46039f"
             ],
             [
              0.2222222222222222,
              "#7201a8"
             ],
             [
              0.3333333333333333,
              "#9c179e"
             ],
             [
              0.4444444444444444,
              "#bd3786"
             ],
             [
              0.5555555555555556,
              "#d8576b"
             ],
             [
              0.6666666666666666,
              "#ed7953"
             ],
             [
              0.7777777777777778,
              "#fb9f3a"
             ],
             [
              0.8888888888888888,
              "#fdca26"
             ],
             [
              1.0,
              "#f0f921"
             ]
            ],
            "type": "histogram2dcontour"
           }
          ],
          "histogram2d": [
           {
            "colorbar": {
             "outlinewidth": 0,
             "ticks": ""
            },
            "colorscale": [
             [
              0.0,
              "#0d0887"
             ],
             [
              0.1111111111111111,
              "#46039f"
             ],
             [
              0.2222222222222222,
              "#7201a8"
             ],
             [
              0.3333333333333333,
              "#9c179e"
             ],
             [
              0.4444444444444444,
              "#bd3786"
             ],
             [
              0.5555555555555556,
              "#d8576b"
             ],
             [
              0.6666666666666666,
              "#ed7953"
             ],
             [
              0.7777777777777778,
              "#fb9f3a"
             ],
             [
              0.8888888888888888,
              "#fdca26"
             ],
             [
              1.0,
              "#f0f921"
             ]
            ],
            "type": "histogram2d"
           }
          ],
          "histogram": [
           {
            "marker": {
             "pattern": {
              "fillmode": "overlay",
              "size": 10,
              "solidity": 0.2
             }
            },
            "type": "histogram"
           }
          ],
          "mesh3d": [
           {
            "colorbar": {
             "outlinewidth": 0,
             "ticks": ""
            },
            "type": "mesh3d"
           }
          ],
          "parcoords": [
           {
            "line": {
             "colorbar": {
              "outlinewidth": 0,
              "ticks": ""
             }
            },
            "type": "parcoords"
           }
          ],
          "pie": [
           {
            "automargin": true,
            "type": "pie"
           }
          ],
          "scatter3d": [
           {
            "line": {
             "colorbar": {
              "outlinewidth": 0,
              "ticks": ""
             }
            },
            "marker": {
             "colorbar": {
              "outlinewidth": 0,
              "ticks": ""
             }
            },
            "type": "scatter3d"
           }
          ],
          "scattercarpet": [
           {
            "marker": {
             "colorbar": {
              "outlinewidth": 0,
              "ticks": ""
             }
            },
            "type": "scattercarpet"
           }
          ],
          "scattergeo": [
           {
            "marker": {
             "colorbar": {
              "outlinewidth": 0,
              "ticks": ""
             }
            },
            "type": "scattergeo"
           }
          ],
          "scattergl": [
           {
            "marker": {
             "line": {
              "color": "#283442"
             }
            },
            "type": "scattergl"
           }
          ],
          "scattermapbox": [
           {
            "marker": {
             "colorbar": {
              "outlinewidth": 0,
              "ticks": ""
             }
            },
            "type": "scattermapbox"
           }
          ],
          "scattermap": [
           {
            "marker": {
             "colorbar": {
              "outlinewidth": 0,
              "ticks": ""
             }
            },
            "type": "scattermap"
           }
          ],
          "scatterpolargl": [
           {
            "marker": {
             "colorbar": {
              "outlinewidth": 0,
              "ticks": ""
             }
            },
            "type": "scatterpolargl"
           }
          ],
          "scatterpolar": [
           {
            "marker": {
             "colorbar": {
              "outlinewidth": 0,
              "ticks": ""
             }
            },
            "type": "scatterpolar"
           }
          ],
          "scatter": [
           {
            "marker": {
             "line": {
              "color": "#283442"
             }
            },
            "type": "scatter"
           }
          ],
          "scatterternary": [
           {
            "marker": {
             "colorbar": {
              "outlinewidth": 0,
              "ticks": ""
             }
            },
            "type": "scatterternary"
           }
          ],
          "surface": [
           {
            "colorbar": {
             "outlinewidth": 0,
             "ticks": ""
            },
            "colorscale": [
             [
              0.0,
              "#0d0887"
             ],
             [
              0.1111111111111111,
              "#46039f"
             ],
             [
              0.2222222222222222,
              "#7201a8"
             ],
             [
              0.3333333333333333,
              "#9c179e"
             ],
             [
              0.4444444444444444,
              "#bd3786"
             ],
             [
              0.5555555555555556,
              "#d8576b"
             ],
             [
              0.6666666666666666,
              "#ed7953"
             ],
             [
              0.7777777777777778,
              "#fb9f3a"
             ],
             [
              0.8888888888888888,
              "#fdca26"
             ],
             [
              1.0,
              "#f0f921"
             ]
            ],
            "type": "surface"
           }
          ],
          "table": [
           {
            "cells": {
             "fill": {
              "color": "#506784"
             },
             "line": {
              "color": "rgb(17,17,17)"
             }
            },
            "header": {
             "fill": {
              "color": "#2a3f5f"
             },
             "line": {
              "color": "rgb(17,17,17)"
             }
            },
            "type": "table"
           }
          ]
         },
         "layout": {
          "annotationdefaults": {
           "arrowcolor": "#f2f5fa",
           "arrowhead": 0,
           "arrowwidth": 1
          },
          "autotypenumbers": "strict",
          "coloraxis": {
           "colorbar": {
            "outlinewidth": 0,
            "ticks": ""
           }
          },
          "colorscale": {
           "diverging": [
            [
             0,
             "#8e0152"
            ],
            [
             0.1,
             "#c51b7d"
            ],
            [
             0.2,
             "#de77ae"
            ],
            [
             0.3,
             "#f1b6da"
            ],
            [
             0.4,
             "#fde0ef"
            ],
            [
             0.5,
             "#f7f7f7"
            ],
            [
             0.6,
             "#e6f5d0"
            ],
            [
             0.7,
             "#b8e186"
            ],
            [
             0.8,
             "#7fbc41"
            ],
            [
             0.9,
             "#4d9221"
            ],
            [
             1,
             "#276419"
            ]
           ],
           "sequential": [
            [
             0.0,
             "#0d0887"
            ],
            [
             0.1111111111111111,
             "#46039f"
            ],
            [
             0.2222222222222222,
             "#7201a8"
            ],
            [
             0.3333333333333333,
             "#9c179e"
            ],
            [
             0.4444444444444444,
             "#bd3786"
            ],
            [
             0.5555555555555556,
             "#d8576b"
            ],
            [
             0.6666666666666666,
             "#ed7953"
            ],
            [
             0.7777777777777778,
             "#fb9f3a"
            ],
            [
             0.8888888888888888,
             "#fdca26"
            ],
            [
             1.0,
             "#f0f921"
            ]
           ],
           "sequentialminus": [
            [
             0.0,
             "#0d0887"
            ],
            [
             0.1111111111111111,
             "#46039f"
            ],
            [
             0.2222222222222222,
             "#7201a8"
            ],
            [
             0.3333333333333333,
             "#9c179e"
            ],
            [
             0.4444444444444444,
             "#bd3786"
            ],
            [
             0.5555555555555556,
             "#d8576b"
            ],
            [
             0.6666666666666666,
             "#ed7953"
            ],
            [
             0.7777777777777778,
             "#fb9f3a"
            ],
            [
             0.8888888888888888,
             "#fdca26"
            ],
            [
             1.0,
             "#f0f921"
            ]
           ]
          },
          "colorway": [
           "#636efa",
           "#EF553B",
           "#00cc96",
           "#ab63fa",
           "#FFA15A",
           "#19d3f3",
           "#FF6692",
           "#B6E880",
           "#FF97FF",
           "#FECB52"
          ],
          "font": {
           "color": "#f2f5fa"
          },
          "geo": {
           "bgcolor": "rgb(17,17,17)",
           "lakecolor": "rgb(17,17,17)",
           "landcolor": "rgb(17,17,17)",
           "showlakes": true,
           "showland": true,
           "subunitcolor": "#506784"
          },
          "hoverlabel": {
           "align": "left"
          },
          "hovermode": "closest",
          "mapbox": {
           "style": "dark"
          },
          "paper_bgcolor": "rgb(17,17,17)",
          "plot_bgcolor": "rgb(17,17,17)",
          "polar": {
           "angularaxis": {
            "gridcolor": "#506784",
            "linecolor": "#506784",
            "ticks": ""
           },
           "bgcolor": "rgb(17,17,17)",
           "radialaxis": {
            "gridcolor": "#506784",
            "linecolor": "#506784",
            "ticks": ""
           }
          },
          "scene": {
           "xaxis": {
            "backgroundcolor": "rgb(17,17,17)",
            "gridcolor": "#506784",
            "gridwidth": 2,
            "linecolor": "#506784",
            "showbackground": true,
            "ticks": "",
            "zerolinecolor": "#C8D4E3"
           },
           "yaxis": {
            "backgroundcolor": "rgb(17,17,17)",
            "gridcolor": "#506784",
            "gridwidth": 2,
            "linecolor": "#506784",
            "showbackground": true,
            "ticks": "",
            "zerolinecolor": "#C8D4E3"
           },
           "zaxis": {
            "backgroundcolor": "rgb(17,17,17)",
            "gridcolor": "#506784",
            "gridwidth": 2,
            "linecolor": "#506784",
            "showbackground": true,
            "ticks": "",
            "zerolinecolor": "#C8D4E3"
           }
          },
          "shapedefaults": {
           "line": {
            "color": "#f2f5fa"
           }
          },
          "sliderdefaults": {
           "bgcolor": "#C8D4E3",
           "bordercolor": "rgb(17,17,17)",
           "borderwidth": 1,
           "tickwidth": 0
          },
          "ternary": {
           "aaxis": {
            "gridcolor": "#506784",
            "linecolor": "#506784",
            "ticks": ""
           },
           "baxis": {
            "gridcolor": "#506784",
            "linecolor": "#506784",
            "ticks": ""
           },
           "bgcolor": "rgb(17,17,17)",
           "caxis": {
            "gridcolor": "#506784",
            "linecolor": "#506784",
            "ticks": ""
           }
          },
          "title": {
           "x": 0.05
          },
          "updatemenudefaults": {
           "bgcolor": "#506784",
           "borderwidth": 0
          },
          "xaxis": {
           "automargin": true,
           "gridcolor": "#283442",
           "linecolor": "#506784",
           "ticks": "",
           "title": {
            "standoff": 15
           },
           "zerolinecolor": "#283442",
           "zerolinewidth": 2
          },
          "yaxis": {
           "automargin": true,
           "gridcolor": "#283442",
           "linecolor": "#506784",
           "ticks": "",
           "title": {
            "standoff": 15
           },
           "zerolinecolor": "#283442",
           "zerolinewidth": 2
          }
         }
        },
        "title": {
         "text": "DEN Schedule Density (2024 Season)"
        },
        "xaxis": {
         "anchor": "y",
         "domain": [
          0.0,
          1.0
         ],
         "rangeselector": {
          "buttons": [
           {
            "count": 14,
            "label": "2W",
            "step": "day",
            "stepmode": "backward"
           },
           {
            "count": 1,
            "label": "1M",
            "step": "month",
            "stepmode": "backward"
           },
           {
            "count": 3,
            "label": "3M",
            "step": "month",
            "stepmode": "backward"
           },
           {
            "step": "all"
           }
          ]
         },
         "rangeslider": {
          "visible": true
         },
         "title": {
          "text": "Date"
         },
         "type": "date"
        },
        "yaxis": {
         "anchor": "x",
         "categoryarray": [
          "Back-to-Back",
          "4-in-6",
          "Normal"
         ],
         "categoryorder": "array",
         "domain": [
          0.0,
          1.0
         ],
         "title": {
          "text": "Schedule Category"
         }
        },
        "updatemenus": [
         {
          "buttons": [
           {
            "args": [
             [
              "DEN"
             ],
             {
              "mode": "immediate",
              "frame": {
               "duration": 0,
               "redraw": true
              },
              "transition": {
               "duration": 0
              }
             }
            ],
            "label": "DEN",
            "method": "animate"
           },
           {
            "args": [
             [
              "OKC"
             ],
             {
              "mode": "immediate",
              "frame": {
               "duration": 0,
               "redraw": true
              },
              "transition": {
               "duration": 0
              }
             }
            ],
            "label": "OKC",
            "method": "animate"
           }
          ],
          "showactive": true,
          "type": "dropdown",
          "x": 0.4,
          "xanchor": "center",
          "y": 1.15,
          "yanchor": "top"
         }
        ]
       },
       "frames": [
        {
         "data": [
          {
           "base": [
            "2025-04-13T00:00:00.000000000",
            "2025-04-11T00:00:00.000000000",
            "2025-04-09T00:00:00.000000000",
            "2025-04-06T00:00:00.000000000",
            "2025-04-04T00:00:00.000000000",
            "2025-04-02T00:00:00.000000000",
            "2025-04-01T00:00:00.000000000",
            "2025-03-28T00:00:00.000000000",
            "2025-03-26T00:00:00.000000000",
            "2025-03-24T00:00:00.000000000",
            "2025-03-23T00:00:00.000000000",
            "2025-03-21T00:00:00.000000000",
            "2025-03-19T00:00:00.000000000",
            "2025-03-17T00:00:00.000000000",
            "2025-03-15T00:00:00.000000000",
            "2025-03-14T00:00:00.000000000",
            "2025-03-12T00:00:00.000000000",
            "2025-03-10T00:00:00.000000000",
            "2025-03-09T00:00:00.000000000",
            "2025-03-07T00:00:00.000000000",
            "2025-03-05T00:00:00.000000000",
            "2025-03-02T00:00:00.000000000",
            "2025-02-28T00:00:00.000000000",
            "2025-02-27T00:00:00.000000000",
            "2025-02-24T00:00:00.000000000",
            "2025-02-22T00:00:00.000000000",
            "2025-02-20T00:00:00.000000000",
            "2025-02-12T00:00:00.000000000",
            "2025-02-10T00:00:00.000000000",
            "2025-02-08T00:00:00.000000000",
            "2025-02-06T00:00:00.000000000",
            "2025-02-05T00:00:00.000000000",
            "2025-02-03T00:00:00.000000000",
            "2025-02-01T00:00:00.000000000",
            "2025-01-31T00:00:00.000000000",
            "2025-01-29T00:00:00.000000000",
            "2025-01-27T00:00:00.000000000",
            "2025-01-25T00:00:00.000000000",
            "2025-01-23T00:00:00.000000000",
            "2025-01-21T00:00:00.000000000",
            "2025-01-19T00:00:00.000000000",
            "2025-01-17T00:00:00.000000000",
            "2025-01-15T00:00:00.000000000",
            "2025-01-14T00:00:00.000000000",
            "2025-01-12T00:00:00.000000000",
            "2025-01-10T00:00:00.000000000",
            "2025-01-08T00:00:00.000000000",
            "2025-01-07T00:00:00.000000000",
            "2025-01-04T00:00:00.000000000",
            "2025-01-03T00:00:00.000000000",
            "2025-01-01T00:00:00.000000000",
            "2024-12-30T00:00:00.000000000",
            "2024-12-28T00:00:00.000000000",
            "2024-12-27T00:00:00.000000000",
            "2024-12-25T00:00:00.000000000",
            "2024-12-23T00:00:00.000000000",
            "2024-12-22T00:00:00.000000000",
            "2024-12-19T00:00:00.000000000",
            "2024-12-08T00:00:00.000000000",
            "2024-12-07T00:00:00.000000000",
            "2024-12-05T00:00:00.000000000",
            "2024-12-03T00:00:00.000000000",
            "2024-12-01T00:00:00.000000000",
            "2024-11-27T00:00:00.000000000",
            "2024-11-25T00:00:00.000000000",
            "2024-11-23T00:00:00.000000000",
            "2024-11-22T00:00:00.000000000",
            "2024-11-19T00:00:00.000000000",
            "2024-11-17T00:00:00.000000000",
            "2024-11-15T00:00:00.000000000",
            "2024-11-10T00:00:00.000000000",
            "2024-11-08T00:00:00.000000000",
            "2024-11-06T00:00:00.000000000",
            "2024-11-04T00:00:00.000000000",
            "2024-11-02T00:00:00.000000000",
            "2024-11-01T00:00:00.000000000",
            "2024-10-29T00:00:00.000000000",
            "2024-10-28T00:00:00.000000000",
            "2024-10-26T00:00:00.000000000",
            "2024-10-24T00:00:00.000000000"
           ],
           "customdata": [
            [
             "2025-04-13",
             "Away",
             "HOU",
             2.0,
             false,
             false,
             0,
             3,
             "Away vs HOU"
            ],
            [
             "2025-04-11",
             "Home",
             "MEM",
             2.0,
             false,
             false,
             0,
             3,
             "Home vs MEM"
            ],
            [
             "2025-04-09",
             "Away",
             "SAC",
             3.0,
             false,
             false,
             0,
             3,
             "Away vs SAC"
            ],
            [
             "2025-04-06",
             "Home",
             "IND",
             2.0,
             false,
             true,
             0,
             4,
             "Home vs IND"
            ],
            [
             "2025-04-04",
             "Away",
             "GSW",
             2.0,
             false,
             false,
             0,
             3,
             "Away vs GSW"
            ],
            [
             "2025-04-02",
             "Home",
             "SAS",
             1.0,
             true,
             false,
             2,
             3,
             "Home vs SAS"
            ],
            [
             "2025-04-01",
             "Home",
             "MIN",
             4.0,
             false,
             false,
             1,
             2,
             "Home vs MIN"
            ],
            [
             "2025-03-28",
             "Home",
             "UTA",
             2.0,
             false,
             true,
             0,
             4,
             "Home vs UTA"
            ],
            [
             "2025-03-26",
             "Home",
             "MIL",
             2.0,
             false,
             true,
             0,
             4,
             "Home vs MIL"
            ],
            [
             "2025-03-24",
             "Home",
             "CHI",
             1.0,
             true,
             true,
             2,
             4,
             "Home vs CHI"
            ],
            [
             "2025-03-23",
             "Away",
             "HOU",
             2.0,
             false,
             false,
             1,
             3,
             "Away vs HOU"
            ],
            [
             "2025-03-21",
             "Away",
             "POR",
             2.0,
             false,
             false,
             0,
             3,
             "Away vs POR"
            ],
            [
             "2025-03-19",
             "Away",
             "LAL",
             2.0,
             false,
             true,
             0,
             4,
             "Away vs LAL"
            ],
            [
             "2025-03-17",
             "Away",
             "GSW",
             2.0,
             false,
             true,
             0,
             4,
             "Away vs GSW"
            ],
            [
             "2025-03-15",
             "Home",
             "WAS",
             1.0,
             true,
             true,
             2,
             4,
             "Home vs WAS"
            ],
            [
             "2025-03-14",
             "Home",
             "LAL",
             2.0,
             false,
             true,
             1,
             4,
             "Home vs LAL"
            ],
            [
             "2025-03-12",
             "Home",
             "MIN",
             2.0,
             false,
             true,
             0,
             4,
             "Home vs MIN"
            ],
            [
             "2025-03-10",
             "Away",
             "OKC",
             1.0,
             true,
             true,
             2,
             4,
             "Away vs OKC"
            ],
            [
             "2025-03-09",
             "Away",
             "OKC",
             2.0,
             false,
             false,
             1,
             3,
             "Away vs OKC"
            ],
            [
             "2025-03-07",
             "Home",
             "PHX",
             2.0,
             false,
             false,
             0,
             3,
             "Home vs PHX"
            ],
            [
             "2025-03-05",
             "Home",
             "SAC",
             3.0,
             false,
             false,
             0,
             3,
             "Home vs SAC"
            ],
            [
             "2025-03-02",
             "Away",
             "BOS",
             2.0,
             false,
             false,
             0,
             3,
             "Away vs BOS"
            ],
            [
             "2025-02-28",
             "Away",
             "DET",
             1.0,
             true,
             false,
             2,
             3,
             "Away vs DET"
            ],
            [
             "2025-02-27",
             "Away",
             "MIL",
             3.0,
             false,
             false,
             1,
             3,
             "Away vs MIL"
            ],
            [
             "2025-02-24",
             "Away",
             "IND",
             2.0,
             false,
             false,
             0,
             3,
             "Away vs IND"
            ],
            [
             "2025-02-22",
             "Home",
             "LAL",
             2.0,
             false,
             false,
             0,
             2,
             "Home vs LAL"
            ],
            [
             "2025-02-20",
             "Home",
             "CHA",
             8.0,
             false,
             false,
             0,
             1,
             "Home vs CHA"
            ],
            [
             "2025-02-12",
             "Home",
             "POR",
             2.0,
             false,
             false,
             0,
             3,
             "Home vs POR"
            ],
            [
             "2025-02-10",
             "Home",
             "POR",
             2.0,
             false,
             true,
             0,
             4,
             "Home vs POR"
            ],
            [
             "2025-02-08",
             "Away",
             "PHX",
             2.0,
             false,
             true,
             0,
             4,
             "Away vs PHX"
            ],
            [
             "2025-02-06",
             "Home",
             "ORL",
             1.0,
             true,
             true,
             2,
             4,
             "Home vs ORL"
            ],
            [
             "2025-02-05",
             "Home",
             "NOP",
             2.0,
             false,
             true,
             1,
             4,
             "Home vs NOP"
            ],
            [
             "2025-02-03",
             "Home",
             "NOP",
             2.0,
             false,
             true,
             0,
             4,
             "Home vs NOP"
            ],
            [
             "2025-02-01",
             "Away",
             "CHA",
             1.0,
             true,
             true,
             2,
             4,
             "Away vs CHA"
            ],
            [
             "2025-01-31",
             "Away",
             "PHI",
             2.0,
             false,
             false,
             1,
             3,
             "Away vs PHI"
            ],
            [
             "2025-01-29",
             "Away",
             "NYK",
             2.0,
             false,
             false,
             0,
             3,
             "Away vs NYK"
            ],
            [
             "2025-01-27",
             "Away",
             "CHI",
             2.0,
             false,
             false,
             0,
             3,
             "Away vs CHI"
            ],
            [
             "2025-01-25",
             "Away",
             "MIN",
             2.0,
             false,
             false,
             0,
             3,
             "Away vs MIN"
            ],
            [
             "2025-01-23",
             "Home",
             "SAC",
             2.0,
             false,
             false,
             0,
             3,
             "Home vs SAC"
            ],
            [
             "2025-01-21",
             "Home",
             "PHI",
             2.0,
             false,
             false,
             0,
             3,
             "Home vs PHI"
            ],
            [
             "2025-01-19",
             "Away",
             "ORL",
             2.0,
             false,
             true,
             0,
             4,
             "Away vs ORL"
            ],
            [
             "2025-01-17",
             "Away",
             "MIA",
             2.0,
             false,
             true,
             0,
             4,
             "Away vs MIA"
            ],
            [
             "2025-01-15",
             "Home",
             "HOU",
             1.0,
             true,
             true,
             2,
             4,
             "Home vs HOU"
            ],
            [
             "2025-01-14",
             "Away",
             "DAL",
             2.0,
             false,
             false,
             1,
             3,
             "Away vs DAL"
            ],
            [
             "2025-01-12",
             "Away",
             "DAL",
             2.0,
             false,
             true,
             0,
             4,
             "Away vs DAL"
            ],
            [
             "2025-01-10",
             "Home",
             "BKN",
             2.0,
             false,
             false,
             0,
             3,
             "Home vs BKN"
            ],
            [
             "2025-01-08",
             "Home",
             "LAC",
             1.0,
             true,
             true,
             2,
             4,
             "Home vs LAC"
            ],
            [
             "2025-01-07",
             "Home",
             "BOS",
             3.0,
             false,
             false,
             1,
             3,
             "Home vs BOS"
            ],
            [
             "2025-01-04",
             "Away",
             "SAS",
             1.0,
             true,
             true,
             2,
             4,
             "Away vs SAS"
            ],
            [
             "2025-01-03",
             "Home",
             "SAS",
             2.0,
             false,
             false,
             1,
             3,
             "Home vs SAS"
            ],
            [
             "2025-01-01",
             "Home",
             "ATL",
             2.0,
             false,
             true,
             0,
             4,
             "Home vs ATL"
            ],
            [
             "2024-12-30",
             "Away",
             "UTA",
             2.0,
             false,
             true,
             0,
             4,
             "Away vs UTA"
            ],
            [
             "2024-12-28",
             "Home",
             "DET",
             1.0,
             true,
             true,
             2,
             4,
             "Home vs DET"
            ],
            [
             "2024-12-27",
             "Home",
             "CLE",
             2.0,
             false,
             true,
             1,
             4,
             "Home vs CLE"
            ],
            [
             "2024-12-25",
             "Away",
             "PHX",
             2.0,
             false,
             false,
             0,
             3,
             "Away vs PHX"
            ],
            [
             "2024-12-23",
             "Home",
             "PHX",
             1.0,
             true,
             false,
             2,
             3,
             "Home vs PHX"
            ],
            [
             "2024-12-22",
             "Away",
             "NOP",
             3.0,
             false,
             false,
             1,
             2,
             "Away vs NOP"
            ],
            [
             "2024-12-19",
             "Away",
             "POR",
             11.0,
             false,
             false,
             0,
             1,
             "Away vs POR"
            ],
            [
             "2024-12-08",
             "Away",
             "ATL",
             1.0,
             true,
             true,
             2,
             4,
             "Away vs ATL"
            ],
            [
             "2024-12-07",
             "Away",
             "WAS",
             2.0,
             false,
             false,
             1,
             3,
             "Away vs WAS"
            ],
            [
             "2024-12-05",
             "Away",
             "CLE",
             2.0,
             false,
             false,
             0,
             3,
             "Away vs CLE"
            ],
            [
             "2024-12-03",
             "Home",
             "GSW",
             2.0,
             false,
             false,
             0,
             2,
             "Home vs GSW"
            ],
            [
             "2024-12-01",
             "Away",
             "LAC",
             4.0,
             false,
             false,
             0,
             2,
             "Away vs LAC"
            ],
            [
             "2024-11-27",
             "Away",
             "UTA",
             2.0,
             false,
             true,
             0,
             4,
             "Away vs UTA"
            ],
            [
             "2024-11-25",
             "Home",
             "NYK",
             2.0,
             false,
             false,
             0,
             3,
             "Home vs NYK"
            ],
            [
             "2024-11-23",
             "Away",
             "LAL",
             1.0,
             true,
             false,
             2,
             3,
             "Away vs LAL"
            ],
            [
             "2024-11-22",
             "Home",
             "DAL",
             3.0,
             false,
             false,
             1,
             3,
             "Home vs DAL"
            ],
            [
             "2024-11-19",
             "Away",
             "MEM",
             2.0,
             false,
             false,
             0,
             3,
             "Away vs MEM"
            ],
            [
             "2024-11-17",
             "Away",
             "MEM",
             2.0,
             false,
             false,
             0,
             2,
             "Away vs MEM"
            ],
            [
             "2024-11-15",
             "Away",
             "NOP",
             5.0,
             false,
             false,
             0,
             2,
             "Away vs NOP"
            ],
            [
             "2024-11-10",
             "Home",
             "DAL",
             2.0,
             false,
             false,
             0,
             3,
             "Home vs DAL"
            ],
            [
             "2024-11-08",
             "Home",
             "MIA",
             2.0,
             false,
             false,
             0,
             3,
             "Home vs MIA"
            ],
            [
             "2024-11-06",
             "Home",
             "OKC",
             2.0,
             false,
             true,
             0,
             4,
             "Home vs OKC"
            ],
            [
             "2024-11-04",
             "Home",
             "TOR",
             2.0,
             false,
             false,
             0,
             3,
             "Home vs TOR"
            ],
            [
             "2024-11-02",
             "Home",
             "UTA",
             1.0,
             true,
             true,
             2,
             4,
             "Home vs UTA"
            ],
            [
             "2024-11-01",
             "Away",
             "MIN",
             3.0,
             false,
             false,
             1,
             3,
             "Away vs MIN"
            ],
            [
             "2024-10-29",
             "Away",
             "BKN",
             1.0,
             true,
             false,
             2,
             4,
             "Away vs BKN"
            ],
            [
             "2024-10-28",
             "Away",
             "TOR",
             2.0,
             false,
             false,
             1,
             3,
             "Away vs TOR"
            ],
            [
             "2024-10-26",
             "Home",
             "LAC",
             2.0,
             false,
             false,
             0,
             2,
             "Home vs LAC"
            ],
            [
             "2024-10-24",
             "Home",
             "OKC",
             0.0,
             false,
             false,
             0,
             1,
             "Home vs OKC"
            ]
           ],
           "hovertemplate": "gamedate=%{customdata[0]}<br>home_away=%{customdata[1]}<br>opponent=%{customdata[2]}<br>rest_days=%{customdata[3]}<br>b2b=%{customdata[4]}<br>4in6=%{customdata[5]}<br>b2b_range=%{customdata[6]}<br>games_last6=%{marker.color}<extra></extra>",
           "insidetextanchor": "start",
           "legendgroup": "",
           "marker": {
            "color": {
             "dtype": "i1",
             "bdata": "AwMDBAMDAgQEBAMDBAQEBAQEAwMDAwMDAwIBAwQEBAQEBAMDAwMDAwQEBAMEAwQDBAMEBAQEAwMCAQQDAwICBAMDAwMCAgMDBAMEAwQDAgE="
            },
            "coloraxis": "coloraxis",
            "pattern": {
             "shape": ""
            }
           },
           "name": "",
           "orientation": "h",
           "showlegend": false,
           "text": [
            "Away vs HOU",
            "Home vs MEM",
            "Away vs SAC",
            "Home vs IND",
            "Away vs GSW",
            "Home vs SAS",
            "Home vs MIN",
            "Home vs UTA",
            "Home vs MIL",
            "Home vs CHI",
            "Away vs HOU",
            "Away vs POR",
            "Away vs LAL",
            "Away vs GSW",
            "Home vs WAS",
            "Home vs LAL",
            "Home vs MIN",
            "Away vs OKC",
            "Away vs OKC",
            "Home vs PHX",
            "Home vs SAC",
            "Away vs BOS",
            "Away vs DET",
            "Away vs MIL",
            "Away vs IND",
            "Home vs LAL",
            "Home vs CHA",
            "Home vs POR",
            "Home vs POR",
            "Away vs PHX",
            "Home vs ORL",
            "Home vs NOP",
            "Home vs NOP",
            "Away vs CHA",
            "Away vs PHI",
            "Away vs NYK",
            "Away vs CHI",
            "Away vs MIN",
            "Home vs SAC",
            "Home vs PHI",
            "Away vs ORL",
            "Away vs MIA",
            "Home vs HOU",
            "Away vs DAL",
            "Away vs DAL",
            "Home vs BKN",
            "Home vs LAC",
            "Home vs BOS",
            "Away vs SAS",
            "Home vs SAS",
            "Home vs ATL",
            "Away vs UTA",
            "Home vs DET",
            "Home vs CLE",
            "Away vs PHX",
            "Home vs PHX",
            "Away vs NOP",
            "Away vs POR",
            "Away vs ATL",
            "Away vs WAS",
            "Away vs CLE",
            "Home vs GSW",
            "Away vs LAC",
            "Away vs UTA",
            "Home vs NYK",
            "Away vs LAL",
            "Home vs DAL",
            "Away vs MEM",
            "Away vs MEM",
            "Away vs NOP",
            "Home vs DAL",
            "Home vs MIA",
            "Home vs OKC",
            "Home vs TOR",
            "Home vs UTA",
            "Away vs MIN",
            "Away vs BKN",
            "Away vs TOR",
            "Home vs LAC",
            "Home vs OKC"
           ],
           "textposition": "inside",
           "x": {
            "dtype": "i4",
            "bdata": "AFwmBQBcJgUAXCYFAFwmBQBcJgUAXCYFAFwmBQBcJgUAXCYFAFwmBQBcJgUAXCYFAFwmBQBcJgUAXCYFAFwmBQBcJgUAXCYFAFwmBQBcJgUAXCYFAFwmBQBcJgUAXCYFAFwmBQBcJgUAXCYFAFwmBQBcJgUAXCYFAFwmBQBcJgUAXCYFAFwmBQBcJgUAXCYFAFwmBQBcJgUAXCYFAFwmBQBcJgUAXCYFAFwmBQBcJgUAXCYFAFwmBQBcJgUAXCYFAFwmBQBcJgUAXCYFAFwmBQBcJgUAXCYFAFwmBQBcJgUAXCYFAFwmBQBcJgUAXCYFAFwmBQBcJgUAXCYFAFwmBQBcJgUAXCYFAFwmBQBcJgUAXCYFAFwmBQBcJgUAXCYFAFwmBQBcJgUAXCYFAFwmBQBcJgUAXCYFAFwmBQBcJgU="
           },
           "xaxis": "x",
           "y": [
            "Normal",
            "Normal",
            "Normal",
            "4-in-6",
            "4-in-6",
            "Back-to-Back",
            "Back-to-Back",
            "4-in-6",
            "4-in-6",
            "Back-to-Back",
            "Back-to-Back",
            "4-in-6",
            "4-in-6",
            "4-in-6",
            "Back-to-Back",
            "Back-to-Back",
            "4-in-6",
            "Back-to-Back",
            "Back-to-Back",
            "4-in-6",
            "4-in-6",
            "Normal",
            "Back-to-Back",
            "Back-to-Back",
            "Normal",
            "Normal",
            "Normal",
            "Normal",
            "4-in-6",
            "4-in-6",
            "Back-to-Back",
            "Back-to-Back",
            "4-in-6",
            "Back-to-Back",
            "Back-to-Back",
            "4-in-6",
            "4-in-6",
            "Normal",
            "Normal",
            "Normal",
            "4-in-6",
            "4-in-6",
            "Back-to-Back",
            "Back-to-Back",
            "4-in-6",
            "4-in-6",
            "Back-to-Back",
            "Back-to-Back",
            "Back-to-Back",
            "Back-to-Back",
            "4-in-6",
            "4-in-6",
            "Back-to-Back",
            "Back-to-Back",
            "4-in-6",
            "Back-to-Back",
            "Back-to-Back",
            "Normal",
            "Back-to-Back",
            "Back-to-Back",
            "4-in-6",
            "4-in-6",
            "Normal",
            "4-in-6",
            "4-in-6",
            "Back-to-Back",
            "Back-to-Back",
            "Normal",
            "Normal",
            "Normal",
            "Normal",
            "Normal",
            "4-in-6",
            "4-in-6",
            "Back-to-Back",
            "Back-to-Back",
            "Back-to-Back",
            "Back-to-Back",
            "Normal",
            "Normal"
           ],
           "yaxis": "y",
           "type": "bar"
          }
         ],
         "layout": {
          "title": {
           "text": "DEN Schedule Density (2024 Season)"
          }
         },
         "name": "DEN"
        },
        {
         "data": [
          {
           "base": [
            "2025-04-13T00:00:00.000000000",
            "2025-04-11T00:00:00.000000000",
            "2025-04-09T00:00:00.000000000",
            "2025-04-08T00:00:00.000000000",
            "2025-04-06T00:00:00.000000000",
            "2025-04-04T00:00:00.000000000",
            "2025-04-02T00:00:00.000000000",
            "2025-03-31T00:00:00.000000000",
            "2025-03-29T00:00:00.000000000",
            "2025-03-27T00:00:00.000000000",
            "2025-03-25T00:00:00.000000000",
            "2025-03-23T00:00:00.000000000",
            "2025-03-21T00:00:00.000000000",
            "2025-03-19T00:00:00.000000000",
            "2025-03-16T00:00:00.000000000",
            "2025-03-15T00:00:00.000000000",
            "2025-03-12T00:00:00.000000000",
            "2025-03-10T00:00:00.000000000",
            "2025-03-09T00:00:00.000000000",
            "2025-03-07T00:00:00.000000000",
            "2025-03-05T00:00:00.000000000",
            "2025-03-03T00:00:00.000000000",
            "2025-03-02T00:00:00.000000000",
            "2025-02-28T00:00:00.000000000",
            "2025-02-26T00:00:00.000000000",
            "2025-02-24T00:00:00.000000000",
            "2025-02-23T00:00:00.000000000",
            "2025-02-21T00:00:00.000000000",
            "2025-02-13T00:00:00.000000000",
            "2025-02-12T00:00:00.000000000",
            "2025-02-10T00:00:00.000000000",
            "2025-02-08T00:00:00.000000000",
            "2025-02-07T00:00:00.000000000",
            "2025-02-05T00:00:00.000000000",
            "2025-02-03T00:00:00.000000000",
            "2025-02-01T00:00:00.000000000",
            "2025-01-29T00:00:00.000000000",
            "2025-01-26T00:00:00.000000000",
            "2025-01-23T00:00:00.000000000",
            "2025-01-22T00:00:00.000000000",
            "2025-01-19T00:00:00.000000000",
            "2025-01-17T00:00:00.000000000",
            "2025-01-16T00:00:00.000000000",
            "2025-01-14T00:00:00.000000000",
            "2025-01-12T00:00:00.000000000",
            "2025-01-10T00:00:00.000000000",
            "2025-01-08T00:00:00.000000000",
            "2025-01-05T00:00:00.000000000",
            "2025-01-03T00:00:00.000000000",
            "2025-01-02T00:00:00.000000000",
            "2024-12-31T00:00:00.000000000",
            "2024-12-29T00:00:00.000000000",
            "2024-12-28T00:00:00.000000000",
            "2024-12-26T00:00:00.000000000",
            "2024-12-23T00:00:00.000000000",
            "2024-12-20T00:00:00.000000000",
            "2024-12-19T00:00:00.000000000",
            "2024-12-07T00:00:00.000000000",
            "2024-12-05T00:00:00.000000000",
            "2024-12-03T00:00:00.000000000",
            "2024-12-01T00:00:00.000000000",
            "2024-11-29T00:00:00.000000000",
            "2024-11-27T00:00:00.000000000",
            "2024-11-25T00:00:00.000000000",
            "2024-11-20T00:00:00.000000000",
            "2024-11-19T00:00:00.000000000",
            "2024-11-17T00:00:00.000000000",
            "2024-11-15T00:00:00.000000000",
            "2024-11-13T00:00:00.000000000",
            "2024-11-11T00:00:00.000000000",
            "2024-11-10T00:00:00.000000000",
            "2024-11-08T00:00:00.000000000",
            "2024-11-06T00:00:00.000000000",
            "2024-11-04T00:00:00.000000000",
            "2024-11-02T00:00:00.000000000",
            "2024-11-01T00:00:00.000000000",
            "2024-10-30T00:00:00.000000000",
            "2024-10-27T00:00:00.000000000",
            "2024-10-26T00:00:00.000000000",
            "2024-10-24T00:00:00.000000000"
           ],
           "customdata": [
            [
             "2025-04-13",
             "Away",
             "NOP",
             2.0,
             false,
             true,
             0,
             4,
             "Away vs NOP"
            ],
            [
             "2025-04-11",
             "Away",
             "UTA",
             2.0,
             false,
             true,
             0,
             4,
             "Away vs UTA"
            ],
            [
             "2025-04-09",
             "Away",
             "PHX",
             1.0,
             true,
             true,
             2,
             4,
             "Away vs PHX"
            ],
            [
             "2025-04-08",
             "Home",
             "LAL",
             2.0,
             false,
             false,
             1,
             3,
             "Home vs LAL"
            ],
            [
             "2025-04-06",
             "Home",
             "LAL",
             2.0,
             false,
             false,
             0,
             3,
             "Home vs LAL"
            ],
            [
             "2025-04-04",
             "Away",
             "HOU",
             2.0,
             false,
             false,
             0,
             3,
             "Away vs HOU"
            ],
            [
             "2025-04-02",
             "Home",
             "DET",
             2.0,
             false,
             false,
             0,
             3,
             "Home vs DET"
            ],
            [
             "2025-03-31",
             "Home",
             "CHI",
             2.0,
             false,
             false,
             0,
             3,
             "Home vs CHI"
            ],
            [
             "2025-03-29",
             "Home",
             "IND",
             2.0,
             false,
             false,
             0,
             3,
             "Home vs IND"
            ],
            [
             "2025-03-27",
             "Home",
             "MEM",
             2.0,
             false,
             false,
             0,
             3,
             "Home vs MEM"
            ],
            [
             "2025-03-25",
             "Away",
             "SAC",
             2.0,
             false,
             false,
             0,
             3,
             "Away vs SAC"
            ],
            [
             "2025-03-23",
             "Away",
             "LAC",
             2.0,
             false,
             false,
             0,
             3,
             "Away vs LAC"
            ],
            [
             "2025-03-21",
             "Home",
             "CHA",
             2.0,
             false,
             false,
             0,
             3,
             "Home vs CHA"
            ],
            [
             "2025-03-19",
             "Home",
             "PHI",
             3.0,
             false,
             false,
             0,
             3,
             "Home vs PHI"
            ],
            [
             "2025-03-16",
             "Away",
             "MIL",
             1.0,
             true,
             false,
             2,
             3,
             "Away vs MIL"
            ],
            [
             "2025-03-15",
             "Away",
             "DET",
             3.0,
             false,
             false,
             1,
             3,
             "Away vs DET"
            ],
            [
             "2025-03-12",
             "Away",
             "BOS",
             2.0,
             false,
             true,
             0,
             4,
             "Away vs BOS"
            ],
            [
             "2025-03-10",
             "Home",
             "DEN",
             1.0,
             true,
             true,
             2,
             4,
             "Home vs DEN"
            ],
            [
             "2025-03-09",
             "Home",
             "DEN",
             2.0,
             false,
             false,
             1,
             3,
             "Home vs DEN"
            ],
            [
             "2025-03-07",
             "Home",
             "POR",
             2.0,
             false,
             true,
             0,
             4,
             "Home vs POR"
            ],
            [
             "2025-03-05",
             "Away",
             "MEM",
             2.0,
             false,
             true,
             0,
             4,
             "Away vs MEM"
            ],
            [
             "2025-03-03",
             "Home",
             "HOU",
             1.0,
             true,
             true,
             2,
             4,
             "Home vs HOU"
            ],
            [
             "2025-03-02",
             "Away",
             "SAS",
             2.0,
             false,
             false,
             1,
             3,
             "Away vs SAS"
            ],
            [
             "2025-02-28",
             "Away",
             "ATL",
             2.0,
             false,
             true,
             0,
             4,
             "Away vs ATL"
            ],
            [
             "2025-02-26",
             "Away",
             "BKN",
             2.0,
             false,
             true,
             0,
             4,
             "Away vs BKN"
            ],
            [
             "2025-02-24",
             "Home",
             "MIN",
             1.0,
             true,
             false,
             2,
             3,
             "Home vs MIN"
            ],
            [
             "2025-02-23",
             "Away",
             "MIN",
             2.0,
             false,
             false,
             1,
             2,
             "Away vs MIN"
            ],
            [
             "2025-02-21",
             "Away",
             "UTA",
             8.0,
             false,
             false,
             0,
             1,
             "Away vs UTA"
            ],
            [
             "2025-02-13",
             "Away",
             "MIN",
             1.0,
             true,
             true,
             2,
             4,
             "Away vs MIN"
            ],
            [
             "2025-02-12",
             "Home",
             "MIA",
             2.0,
             false,
             true,
             1,
             4,
             "Home vs MIA"
            ],
            [
             "2025-02-10",
             "Home",
             "NOP",
             2.0,
             false,
             true,
             0,
             4,
             "Home vs NOP"
            ],
            [
             "2025-02-08",
             "Away",
             "MEM",
             1.0,
             true,
             true,
             2,
             4,
             "Away vs MEM"
            ],
            [
             "2025-02-07",
             "Home",
             "TOR",
             2.0,
             false,
             false,
             1,
             3,
             "Home vs TOR"
            ],
            [
             "2025-02-05",
             "Home",
             "PHX",
             2.0,
             false,
             false,
             0,
             3,
             "Home vs PHX"
            ],
            [
             "2025-02-03",
             "Home",
             "MIL",
             2.0,
             false,
             false,
             0,
             3,
             "Home vs MIL"
            ],
            [
             "2025-02-01",
             "Home",
             "SAC",
             3.0,
             false,
             false,
             0,
             2,
             "Home vs SAC"
            ],
            [
             "2025-01-29",
             "Away",
             "GSW",
             3.0,
             false,
             false,
             0,
             2,
             "Away vs GSW"
            ],
            [
             "2025-01-26",
             "Away",
             "POR",
             3.0,
             false,
             false,
             0,
             3,
             "Away vs POR"
            ],
            [
             "2025-01-23",
             "Home",
             "DAL",
             1.0,
             true,
             false,
             2,
             3,
             "Home vs DAL"
            ],
            [
             "2025-01-22",
             "Home",
             "UTA",
             3.0,
             false,
             false,
             1,
             3,
             "Home vs UTA"
            ],
            [
             "2025-01-19",
             "Home",
             "BKN",
             2.0,
             false,
             true,
             0,
             4,
             "Home vs BKN"
            ],
            [
             "2025-01-17",
             "Away",
             "DAL",
             1.0,
             true,
             true,
             2,
             4,
             "Away vs DAL"
            ],
            [
             "2025-01-16",
             "Home",
             "CLE",
             2.0,
             false,
             false,
             1,
             3,
             "Home vs CLE"
            ],
            [
             "2025-01-14",
             "Away",
             "PHI",
             2.0,
             false,
             false,
             0,
             3,
             "Away vs PHI"
            ],
            [
             "2025-01-12",
             "Away",
             "WAS",
             2.0,
             false,
             false,
             0,
             3,
             "Away vs WAS"
            ],
            [
             "2025-01-10",
             "Away",
             "NYK",
             2.0,
             false,
             false,
             0,
             3,
             "Away vs NYK"
            ],
            [
             "2025-01-08",
             "Away",
             "CLE",
             3.0,
             false,
             false,
             0,
             3,
             "Away vs CLE"
            ],
            [
             "2025-01-05",
             "Home",
             "BOS",
             2.0,
             false,
             true,
             0,
             4,
             "Home vs BOS"
            ],
            [
             "2025-01-03",
             "Home",
             "NYK",
             1.0,
             true,
             true,
             2,
             4,
             "Home vs NYK"
            ],
            [
             "2025-01-02",
             "Home",
             "LAC",
             2.0,
             false,
             true,
             1,
             4,
             "Home vs LAC"
            ],
            [
             "2024-12-31",
             "Home",
             "MIN",
             2.0,
             false,
             true,
             0,
             4,
             "Home vs MIN"
            ],
            [
             "2024-12-29",
             "Home",
             "MEM",
             1.0,
             true,
             false,
             2,
             3,
             "Home vs MEM"
            ],
            [
             "2024-12-28",
             "Away",
             "CHA",
             2.0,
             false,
             false,
             1,
             3,
             "Away vs CHA"
            ],
            [
             "2024-12-26",
             "Away",
             "IND",
             3.0,
             false,
             false,
             0,
             2,
             "Away vs IND"
            ],
            [
             "2024-12-23",
             "Home",
             "WAS",
             3.0,
             false,
             false,
             0,
             3,
             "Home vs WAS"
            ],
            [
             "2024-12-20",
             "Away",
             "MIA",
             1.0,
             true,
             false,
             2,
             2,
             "Away vs MIA"
            ],
            [
             "2024-12-19",
             "Away",
             "ORL",
             12.0,
             false,
             false,
             1,
             1,
             "Away vs ORL"
            ],
            [
             "2024-12-07",
             "Away",
             "NOP",
             2.0,
             false,
             false,
             0,
             3,
             "Away vs NOP"
            ],
            [
             "2024-12-05",
             "Away",
             "TOR",
             2.0,
             false,
             false,
             0,
             3,
             "Away vs TOR"
            ],
            [
             "2024-12-03",
             "Home",
             "UTA",
             2.0,
             false,
             false,
             0,
             3,
             "Home vs UTA"
            ],
            [
             "2024-12-01",
             "Away",
             "HOU",
             2.0,
             false,
             false,
             0,
             3,
             "Away vs HOU"
            ],
            [
             "2024-11-29",
             "Away",
             "LAL",
             2.0,
             false,
             false,
             0,
             3,
             "Away vs LAL"
            ],
            [
             "2024-11-27",
             "Away",
             "GSW",
             2.0,
             false,
             false,
             0,
             2,
             "Away vs GSW"
            ],
            [
             "2024-11-25",
             "Away",
             "SAC",
             5.0,
             false,
             false,
             0,
             2,
             "Away vs SAC"
            ],
            [
             "2024-11-20",
             "Home",
             "POR",
             1.0,
             true,
             true,
             2,
             4,
             "Home vs POR"
            ],
            [
             "2024-11-19",
             "Away",
             "SAS",
             2.0,
             false,
             false,
             1,
             3,
             "Away vs SAS"
            ],
            [
             "2024-11-17",
             "Home",
             "DAL",
             2.0,
             false,
             false,
             0,
             3,
             "Home vs DAL"
            ],
            [
             "2024-11-15",
             "Home",
             "PHX",
             2.0,
             false,
             true,
             0,
             4,
             "Home vs PHX"
            ],
            [
             "2024-11-13",
             "Home",
             "NOP",
             2.0,
             false,
             true,
             0,
             4,
             "Home vs NOP"
            ],
            [
             "2024-11-11",
             "Home",
             "LAC",
             1.0,
             true,
             true,
             2,
             4,
             "Home vs LAC"
            ],
            [
             "2024-11-10",
             "Home",
             "GSW",
             2.0,
             false,
             false,
             1,
             3,
             "Home vs GSW"
            ],
            [
             "2024-11-08",
             "Home",
             "HOU",
             2.0,
             false,
             false,
             0,
             3,
             "Home vs HOU"
            ],
            [
             "2024-11-06",
             "Away",
             "DEN",
             2.0,
             false,
             true,
             0,
             4,
             "Away vs DEN"
            ],
            [
             "2024-11-04",
             "Home",
             "ORL",
             2.0,
             false,
             true,
             0,
             4,
             "Home vs ORL"
            ],
            [
             "2024-11-02",
             "Away",
             "LAC",
             1.0,
             true,
             false,
             2,
             3,
             "Away vs LAC"
            ],
            [
             "2024-11-01",
             "Away",
             "POR",
             2.0,
             false,
             false,
             1,
             3,
             "Away vs POR"
            ],
            [
             "2024-10-30",
             "Home",
             "SAS",
             3.0,
             false,
             false,
             0,
             3,
             "Home vs SAS"
            ],
            [
             "2024-10-27",
             "Home",
             "ATL",
             1.0,
             true,
             false,
             2,
             3,
             "Home vs ATL"
            ],
            [
             "2024-10-26",
             "Away",
             "CHI",
             2.0,
             false,
             false,
             1,
             2,
             "Away vs CHI"
            ],
            [
             "2024-10-24",
             "Away",
             "DEN",
             0.0,
             false,
             false,
             0,
             1,
             "Away vs DEN"
            ]
           ],
           "hovertemplate": "gamedate=%{customdata[0]}<br>home_away=%{customdata[1]}<br>opponent=%{customdata[2]}<br>rest_days=%{customdata[3]}<br>b2b=%{customdata[4]}<br>4in6=%{customdata[5]}<br>b2b_range=%{customdata[6]}<br>games_last6=%{marker.color}<extra></extra>",
           "insidetextanchor": "start",
           "legendgroup": "",
           "marker": {
            "color": {
             "dtype": "i1",
             "bdata": "BAQEAwMDAwMDAwMDAwMDAwQEAwQEBAMEBAMCAQQEBAQDAwMCAgMDAwQEAwMDAwMEBAQEAwMCAwIBAwMDAwMCAgQDAwQEBAMDBAQDAwMDAgE="
            },
            "coloraxis": "coloraxis",
            "pattern": {
             "shape": ""
            }
           },
           "name": "",
           "orientation": "h",
           "showlegend": false,
           "text": [
            "Away vs NOP",
            "Away vs UTA",
            "Away vs PHX",
            "Home vs LAL",
            "Home vs LAL",
            "Away vs HOU",
            "Home vs DET",
            "Home vs CHI",
            "Home vs IND",
            "Home vs MEM",
            "Away vs SAC",
            "Away vs LAC",
            "Home vs CHA",
            "Home vs PHI",
            "Away vs MIL",
            "Away vs DET",
            "Away vs BOS",
            "Home vs DEN",
            "Home vs DEN",
            "Home vs POR",
            "Away vs MEM",
            "Home vs HOU",
            "Away vs SAS",
            "Away vs ATL",
            "Away vs BKN",
            "Home vs MIN",
            "Away vs MIN",
            "Away vs UTA",
            "Away vs MIN",
            "Home vs MIA",
            "Home vs NOP",
            "Away vs MEM",
            "Home vs TOR",
            "Home vs PHX",
            "Home vs MIL",
            "Home vs SAC",
            "Away vs GSW",
            "Away vs POR",
            "Home vs DAL",
            "Home vs UTA",
            "Home vs BKN",
            "Away vs DAL",
            "Home vs CLE",
            "Away vs PHI",
            "Away vs WAS",
            "Away vs NYK",
            "Away vs CLE",
            "Home vs BOS",
            "Home vs NYK",
            "Home vs LAC",
            "Home vs MIN",
            "Home vs MEM",
            "Away vs CHA",
            "Away vs IND",
            "Home vs WAS",
            "Away vs MIA",
            "Away vs ORL",
            "Away vs NOP",
            "Away vs TOR",
            "Home vs UTA",
            "Away vs HOU",
            "Away vs LAL",
            "Away vs GSW",
            "Away vs SAC",
            "Home vs POR",
            "Away vs SAS",
            "Home vs DAL",
            "Home vs PHX",
            "Home vs NOP",
            "Home vs LAC",
            "Home vs GSW",
            "Home vs HOU",
            "Away vs DEN",
            "Home vs ORL",
            "Away vs LAC",
            "Away vs POR",
            "Home vs SAS",
            "Home vs ATL",
            "Away vs CHI",
            "Away vs DEN"
           ],
           "textposition": "inside",
           "x": {
            "dtype": "i4",
            "bdata": "AFwmBQBcJgUAXCYFAFwmBQBcJgUAXCYFAFwmBQBcJgUAXCYFAFwmBQBcJgUAXCYFAFwmBQBcJgUAXCYFAFwmBQBcJgUAXCYFAFwmBQBcJgUAXCYFAFwmBQBcJgUAXCYFAFwmBQBcJgUAXCYFAFwmBQBcJgUAXCYFAFwmBQBcJgUAXCYFAFwmBQBcJgUAXCYFAFwmBQBcJgUAXCYFAFwmBQBcJgUAXCYFAFwmBQBcJgUAXCYFAFwmBQBcJgUAXCYFAFwmBQBcJgUAXCYFAFwmBQBcJgUAXCYFAFwmBQBcJgUAXCYFAFwmBQBcJgUAXCYFAFwmBQBcJgUAXCYFAFwmBQBcJgUAXCYFAFwmBQBcJgUAXCYFAFwmBQBcJgUAXCYFAFwmBQBcJgUAXCYFAFwmBQBcJgUAXCYFAFwmBQBcJgU="
           },
           "xaxis": "x",
           "y": [
            "4-in-6",
            "4-in-6",
            "Back-to-Back",
            "Back-to-Back",
            "4-in-6",
            "4-in-6",
            "Normal",
            "Normal",
            "Normal",
            "Normal",
            "Normal",
            "Normal",
            "Normal",
            "Normal",
            "Back-to-Back",
            "Back-to-Back",
            "4-in-6",
            "Back-to-Back",
            "Back-to-Back",
            "4-in-6",
            "4-in-6",
            "Back-to-Back",
            "Back-to-Back",
            "4-in-6",
            "4-in-6",
            "Back-to-Back",
            "Back-to-Back",
            "4-in-6",
            "Back-to-Back",
            "Back-to-Back",
            "4-in-6",
            "Back-to-Back",
            "Back-to-Back",
            "4-in-6",
            "4-in-6",
            "Normal",
            "Normal",
            "Normal",
            "Back-to-Back",
            "Back-to-Back",
            "4-in-6",
            "Back-to-Back",
            "Back-to-Back",
            "4-in-6",
            "4-in-6",
            "Normal",
            "Normal",
            "4-in-6",
            "Back-to-Back",
            "Back-to-Back",
            "4-in-6",
            "Back-to-Back",
            "Back-to-Back",
            "4-in-6",
            "Normal",
            "Back-to-Back",
            "Back-to-Back",
            "Normal",
            "Normal",
            "Normal",
            "Normal",
            "Normal",
            "Normal",
            "Normal",
            "Back-to-Back",
            "Back-to-Back",
            "4-in-6",
            "4-in-6",
            "4-in-6",
            "Back-to-Back",
            "Back-to-Back",
            "4-in-6",
            "4-in-6",
            "4-in-6",
            "Back-to-Back",
            "Back-to-Back",
            "4-in-6",
            "Back-to-Back",
            "Back-to-Back",
            "Normal"
           ],
           "yaxis": "y",
           "type": "bar"
          }
         ],
         "layout": {
          "title": {
           "text": "OKC Schedule Density (2024 Season)"
          }
         },
         "name": "OKC"
        }
       ],
       "config": {
        "plotlyServerURL": "https://plot.ly"
       }
      }
     },
     "metadata": {},
     "output_type": "display_data"
    }
   ],
   "execution_count": 69
  },
  {
   "cell_type": "markdown",
   "metadata": {},
   "source": [
    "Using my tool, we can easily identify the best and worst part of a team's schedule, and make rotation plan accordingly.\n",
    "Let's use OKC's 2024-2025 season as example:"
   ]
  },
  {
   "metadata": {
    "ExecuteTime": {
     "end_time": "2025-08-24T05:26:52.888405Z",
     "start_time": "2025-08-24T05:26:52.586097Z"
    }
   },
   "cell_type": "code",
   "source": [
    "fig = schedule_gantt_plot(\n",
    "    df=draft_schedule,\n",
    "    season=2024, default_team = 'OKC'\n",
    ")\n",
    "fig"
   ],
   "outputs": [
    {
     "data": {
      "application/vnd.plotly.v1+json": {
       "data": [
        {
         "base": [
          "2025-04-13T00:00:00.000000000",
          "2025-04-11T00:00:00.000000000",
          "2025-04-09T00:00:00.000000000",
          "2025-04-08T00:00:00.000000000",
          "2025-04-06T00:00:00.000000000",
          "2025-04-04T00:00:00.000000000",
          "2025-04-02T00:00:00.000000000",
          "2025-03-31T00:00:00.000000000",
          "2025-03-29T00:00:00.000000000",
          "2025-03-27T00:00:00.000000000",
          "2025-03-25T00:00:00.000000000",
          "2025-03-23T00:00:00.000000000",
          "2025-03-21T00:00:00.000000000",
          "2025-03-19T00:00:00.000000000",
          "2025-03-16T00:00:00.000000000",
          "2025-03-15T00:00:00.000000000",
          "2025-03-12T00:00:00.000000000",
          "2025-03-10T00:00:00.000000000",
          "2025-03-09T00:00:00.000000000",
          "2025-03-07T00:00:00.000000000",
          "2025-03-05T00:00:00.000000000",
          "2025-03-03T00:00:00.000000000",
          "2025-03-02T00:00:00.000000000",
          "2025-02-28T00:00:00.000000000",
          "2025-02-26T00:00:00.000000000",
          "2025-02-24T00:00:00.000000000",
          "2025-02-23T00:00:00.000000000",
          "2025-02-21T00:00:00.000000000",
          "2025-02-13T00:00:00.000000000",
          "2025-02-12T00:00:00.000000000",
          "2025-02-10T00:00:00.000000000",
          "2025-02-08T00:00:00.000000000",
          "2025-02-07T00:00:00.000000000",
          "2025-02-05T00:00:00.000000000",
          "2025-02-03T00:00:00.000000000",
          "2025-02-01T00:00:00.000000000",
          "2025-01-29T00:00:00.000000000",
          "2025-01-26T00:00:00.000000000",
          "2025-01-23T00:00:00.000000000",
          "2025-01-22T00:00:00.000000000",
          "2025-01-19T00:00:00.000000000",
          "2025-01-17T00:00:00.000000000",
          "2025-01-16T00:00:00.000000000",
          "2025-01-14T00:00:00.000000000",
          "2025-01-12T00:00:00.000000000",
          "2025-01-10T00:00:00.000000000",
          "2025-01-08T00:00:00.000000000",
          "2025-01-05T00:00:00.000000000",
          "2025-01-03T00:00:00.000000000",
          "2025-01-02T00:00:00.000000000",
          "2024-12-31T00:00:00.000000000",
          "2024-12-29T00:00:00.000000000",
          "2024-12-28T00:00:00.000000000",
          "2024-12-26T00:00:00.000000000",
          "2024-12-23T00:00:00.000000000",
          "2024-12-20T00:00:00.000000000",
          "2024-12-19T00:00:00.000000000",
          "2024-12-07T00:00:00.000000000",
          "2024-12-05T00:00:00.000000000",
          "2024-12-03T00:00:00.000000000",
          "2024-12-01T00:00:00.000000000",
          "2024-11-29T00:00:00.000000000",
          "2024-11-27T00:00:00.000000000",
          "2024-11-25T00:00:00.000000000",
          "2024-11-20T00:00:00.000000000",
          "2024-11-19T00:00:00.000000000",
          "2024-11-17T00:00:00.000000000",
          "2024-11-15T00:00:00.000000000",
          "2024-11-13T00:00:00.000000000",
          "2024-11-11T00:00:00.000000000",
          "2024-11-10T00:00:00.000000000",
          "2024-11-08T00:00:00.000000000",
          "2024-11-06T00:00:00.000000000",
          "2024-11-04T00:00:00.000000000",
          "2024-11-02T00:00:00.000000000",
          "2024-11-01T00:00:00.000000000",
          "2024-10-30T00:00:00.000000000",
          "2024-10-27T00:00:00.000000000",
          "2024-10-26T00:00:00.000000000",
          "2024-10-24T00:00:00.000000000"
         ],
         "customdata": [
          [
           "2025-04-13",
           "Away",
           "NOP",
           2.0,
           false,
           true,
           4,
           "Away vs NOP"
          ],
          [
           "2025-04-11",
           "Away",
           "UTA",
           2.0,
           false,
           true,
           4,
           "Away vs UTA"
          ],
          [
           "2025-04-09",
           "Away",
           "PHX",
           1.0,
           true,
           true,
           4,
           "Away vs PHX"
          ],
          [
           "2025-04-08",
           "Home",
           "LAL",
           2.0,
           false,
           false,
           3,
           "Home vs LAL"
          ],
          [
           "2025-04-06",
           "Home",
           "LAL",
           2.0,
           false,
           false,
           3,
           "Home vs LAL"
          ],
          [
           "2025-04-04",
           "Away",
           "HOU",
           2.0,
           false,
           false,
           3,
           "Away vs HOU"
          ],
          [
           "2025-04-02",
           "Home",
           "DET",
           2.0,
           false,
           false,
           3,
           "Home vs DET"
          ],
          [
           "2025-03-31",
           "Home",
           "CHI",
           2.0,
           false,
           false,
           3,
           "Home vs CHI"
          ],
          [
           "2025-03-29",
           "Home",
           "IND",
           2.0,
           false,
           false,
           3,
           "Home vs IND"
          ],
          [
           "2025-03-27",
           "Home",
           "MEM",
           2.0,
           false,
           false,
           3,
           "Home vs MEM"
          ],
          [
           "2025-03-25",
           "Away",
           "SAC",
           2.0,
           false,
           false,
           3,
           "Away vs SAC"
          ],
          [
           "2025-03-23",
           "Away",
           "LAC",
           2.0,
           false,
           false,
           3,
           "Away vs LAC"
          ],
          [
           "2025-03-21",
           "Home",
           "CHA",
           2.0,
           false,
           false,
           3,
           "Home vs CHA"
          ],
          [
           "2025-03-19",
           "Home",
           "PHI",
           3.0,
           false,
           false,
           3,
           "Home vs PHI"
          ],
          [
           "2025-03-16",
           "Away",
           "MIL",
           1.0,
           true,
           false,
           3,
           "Away vs MIL"
          ],
          [
           "2025-03-15",
           "Away",
           "DET",
           3.0,
           false,
           false,
           3,
           "Away vs DET"
          ],
          [
           "2025-03-12",
           "Away",
           "BOS",
           2.0,
           false,
           true,
           4,
           "Away vs BOS"
          ],
          [
           "2025-03-10",
           "Home",
           "DEN",
           1.0,
           true,
           true,
           4,
           "Home vs DEN"
          ],
          [
           "2025-03-09",
           "Home",
           "DEN",
           2.0,
           false,
           false,
           3,
           "Home vs DEN"
          ],
          [
           "2025-03-07",
           "Home",
           "POR",
           2.0,
           false,
           true,
           4,
           "Home vs POR"
          ],
          [
           "2025-03-05",
           "Away",
           "MEM",
           2.0,
           false,
           true,
           4,
           "Away vs MEM"
          ],
          [
           "2025-03-03",
           "Home",
           "HOU",
           1.0,
           true,
           true,
           4,
           "Home vs HOU"
          ],
          [
           "2025-03-02",
           "Away",
           "SAS",
           2.0,
           false,
           false,
           3,
           "Away vs SAS"
          ],
          [
           "2025-02-28",
           "Away",
           "ATL",
           2.0,
           false,
           true,
           4,
           "Away vs ATL"
          ],
          [
           "2025-02-26",
           "Away",
           "BKN",
           2.0,
           false,
           true,
           4,
           "Away vs BKN"
          ],
          [
           "2025-02-24",
           "Home",
           "MIN",
           1.0,
           true,
           false,
           3,
           "Home vs MIN"
          ],
          [
           "2025-02-23",
           "Away",
           "MIN",
           2.0,
           false,
           false,
           2,
           "Away vs MIN"
          ],
          [
           "2025-02-21",
           "Away",
           "UTA",
           8.0,
           false,
           false,
           1,
           "Away vs UTA"
          ],
          [
           "2025-02-13",
           "Away",
           "MIN",
           1.0,
           true,
           true,
           4,
           "Away vs MIN"
          ],
          [
           "2025-02-12",
           "Home",
           "MIA",
           2.0,
           false,
           true,
           4,
           "Home vs MIA"
          ],
          [
           "2025-02-10",
           "Home",
           "NOP",
           2.0,
           false,
           true,
           4,
           "Home vs NOP"
          ],
          [
           "2025-02-08",
           "Away",
           "MEM",
           1.0,
           true,
           true,
           4,
           "Away vs MEM"
          ],
          [
           "2025-02-07",
           "Home",
           "TOR",
           2.0,
           false,
           false,
           3,
           "Home vs TOR"
          ],
          [
           "2025-02-05",
           "Home",
           "PHX",
           2.0,
           false,
           false,
           3,
           "Home vs PHX"
          ],
          [
           "2025-02-03",
           "Home",
           "MIL",
           2.0,
           false,
           false,
           3,
           "Home vs MIL"
          ],
          [
           "2025-02-01",
           "Home",
           "SAC",
           3.0,
           false,
           false,
           2,
           "Home vs SAC"
          ],
          [
           "2025-01-29",
           "Away",
           "GSW",
           3.0,
           false,
           false,
           2,
           "Away vs GSW"
          ],
          [
           "2025-01-26",
           "Away",
           "POR",
           3.0,
           false,
           false,
           3,
           "Away vs POR"
          ],
          [
           "2025-01-23",
           "Home",
           "DAL",
           1.0,
           true,
           false,
           3,
           "Home vs DAL"
          ],
          [
           "2025-01-22",
           "Home",
           "UTA",
           3.0,
           false,
           false,
           3,
           "Home vs UTA"
          ],
          [
           "2025-01-19",
           "Home",
           "BKN",
           2.0,
           false,
           true,
           4,
           "Home vs BKN"
          ],
          [
           "2025-01-17",
           "Away",
           "DAL",
           1.0,
           true,
           true,
           4,
           "Away vs DAL"
          ],
          [
           "2025-01-16",
           "Home",
           "CLE",
           2.0,
           false,
           false,
           3,
           "Home vs CLE"
          ],
          [
           "2025-01-14",
           "Away",
           "PHI",
           2.0,
           false,
           false,
           3,
           "Away vs PHI"
          ],
          [
           "2025-01-12",
           "Away",
           "WAS",
           2.0,
           false,
           false,
           3,
           "Away vs WAS"
          ],
          [
           "2025-01-10",
           "Away",
           "NYK",
           2.0,
           false,
           false,
           3,
           "Away vs NYK"
          ],
          [
           "2025-01-08",
           "Away",
           "CLE",
           3.0,
           false,
           false,
           3,
           "Away vs CLE"
          ],
          [
           "2025-01-05",
           "Home",
           "BOS",
           2.0,
           false,
           true,
           4,
           "Home vs BOS"
          ],
          [
           "2025-01-03",
           "Home",
           "NYK",
           1.0,
           true,
           true,
           4,
           "Home vs NYK"
          ],
          [
           "2025-01-02",
           "Home",
           "LAC",
           2.0,
           false,
           true,
           4,
           "Home vs LAC"
          ],
          [
           "2024-12-31",
           "Home",
           "MIN",
           2.0,
           false,
           true,
           4,
           "Home vs MIN"
          ],
          [
           "2024-12-29",
           "Home",
           "MEM",
           1.0,
           true,
           false,
           3,
           "Home vs MEM"
          ],
          [
           "2024-12-28",
           "Away",
           "CHA",
           2.0,
           false,
           false,
           3,
           "Away vs CHA"
          ],
          [
           "2024-12-26",
           "Away",
           "IND",
           3.0,
           false,
           false,
           2,
           "Away vs IND"
          ],
          [
           "2024-12-23",
           "Home",
           "WAS",
           3.0,
           false,
           false,
           3,
           "Home vs WAS"
          ],
          [
           "2024-12-20",
           "Away",
           "MIA",
           1.0,
           true,
           false,
           2,
           "Away vs MIA"
          ],
          [
           "2024-12-19",
           "Away",
           "ORL",
           12.0,
           false,
           false,
           1,
           "Away vs ORL"
          ],
          [
           "2024-12-07",
           "Away",
           "NOP",
           2.0,
           false,
           false,
           3,
           "Away vs NOP"
          ],
          [
           "2024-12-05",
           "Away",
           "TOR",
           2.0,
           false,
           false,
           3,
           "Away vs TOR"
          ],
          [
           "2024-12-03",
           "Home",
           "UTA",
           2.0,
           false,
           false,
           3,
           "Home vs UTA"
          ],
          [
           "2024-12-01",
           "Away",
           "HOU",
           2.0,
           false,
           false,
           3,
           "Away vs HOU"
          ],
          [
           "2024-11-29",
           "Away",
           "LAL",
           2.0,
           false,
           false,
           3,
           "Away vs LAL"
          ],
          [
           "2024-11-27",
           "Away",
           "GSW",
           2.0,
           false,
           false,
           2,
           "Away vs GSW"
          ],
          [
           "2024-11-25",
           "Away",
           "SAC",
           5.0,
           false,
           false,
           2,
           "Away vs SAC"
          ],
          [
           "2024-11-20",
           "Home",
           "POR",
           1.0,
           true,
           true,
           4,
           "Home vs POR"
          ],
          [
           "2024-11-19",
           "Away",
           "SAS",
           2.0,
           false,
           false,
           3,
           "Away vs SAS"
          ],
          [
           "2024-11-17",
           "Home",
           "DAL",
           2.0,
           false,
           false,
           3,
           "Home vs DAL"
          ],
          [
           "2024-11-15",
           "Home",
           "PHX",
           2.0,
           false,
           true,
           4,
           "Home vs PHX"
          ],
          [
           "2024-11-13",
           "Home",
           "NOP",
           2.0,
           false,
           true,
           4,
           "Home vs NOP"
          ],
          [
           "2024-11-11",
           "Home",
           "LAC",
           1.0,
           true,
           true,
           4,
           "Home vs LAC"
          ],
          [
           "2024-11-10",
           "Home",
           "GSW",
           2.0,
           false,
           false,
           3,
           "Home vs GSW"
          ],
          [
           "2024-11-08",
           "Home",
           "HOU",
           2.0,
           false,
           false,
           3,
           "Home vs HOU"
          ],
          [
           "2024-11-06",
           "Away",
           "DEN",
           2.0,
           false,
           true,
           4,
           "Away vs DEN"
          ],
          [
           "2024-11-04",
           "Home",
           "ORL",
           2.0,
           false,
           true,
           4,
           "Home vs ORL"
          ],
          [
           "2024-11-02",
           "Away",
           "LAC",
           1.0,
           true,
           false,
           3,
           "Away vs LAC"
          ],
          [
           "2024-11-01",
           "Away",
           "POR",
           2.0,
           false,
           false,
           3,
           "Away vs POR"
          ],
          [
           "2024-10-30",
           "Home",
           "SAS",
           3.0,
           false,
           false,
           3,
           "Home vs SAS"
          ],
          [
           "2024-10-27",
           "Home",
           "ATL",
           1.0,
           true,
           false,
           3,
           "Home vs ATL"
          ],
          [
           "2024-10-26",
           "Away",
           "CHI",
           2.0,
           false,
           false,
           2,
           "Away vs CHI"
          ],
          [
           "2024-10-24",
           "Away",
           "DEN",
           0.0,
           false,
           false,
           1,
           "Away vs DEN"
          ]
         ],
         "hovertemplate": "gamedate=%{customdata[0]}<br>home_away=%{customdata[1]}<br>opponent=%{customdata[2]}<br>rest_days=%{customdata[3]}<br>b2b=%{customdata[4]}<br>4in6=%{customdata[5]}<br>games_last6=%{marker.color}<extra></extra>",
         "insidetextanchor": "start",
         "legendgroup": "",
         "marker": {
          "color": {
           "dtype": "i1",
           "bdata": "BAQEAwMDAwMDAwMDAwMDAwQEAwQEBAMEBAMCAQQEBAQDAwMCAgMDAwQEAwMDAwMEBAQEAwMCAwIBAwMDAwMCAgQDAwQEBAMDBAQDAwMDAgE="
          },
          "coloraxis": "coloraxis",
          "pattern": {
           "shape": ""
          }
         },
         "name": "",
         "orientation": "h",
         "showlegend": false,
         "text": [
          "Away vs NOP",
          "Away vs UTA",
          "Away vs PHX",
          "Home vs LAL",
          "Home vs LAL",
          "Away vs HOU",
          "Home vs DET",
          "Home vs CHI",
          "Home vs IND",
          "Home vs MEM",
          "Away vs SAC",
          "Away vs LAC",
          "Home vs CHA",
          "Home vs PHI",
          "Away vs MIL",
          "Away vs DET",
          "Away vs BOS",
          "Home vs DEN",
          "Home vs DEN",
          "Home vs POR",
          "Away vs MEM",
          "Home vs HOU",
          "Away vs SAS",
          "Away vs ATL",
          "Away vs BKN",
          "Home vs MIN",
          "Away vs MIN",
          "Away vs UTA",
          "Away vs MIN",
          "Home vs MIA",
          "Home vs NOP",
          "Away vs MEM",
          "Home vs TOR",
          "Home vs PHX",
          "Home vs MIL",
          "Home vs SAC",
          "Away vs GSW",
          "Away vs POR",
          "Home vs DAL",
          "Home vs UTA",
          "Home vs BKN",
          "Away vs DAL",
          "Home vs CLE",
          "Away vs PHI",
          "Away vs WAS",
          "Away vs NYK",
          "Away vs CLE",
          "Home vs BOS",
          "Home vs NYK",
          "Home vs LAC",
          "Home vs MIN",
          "Home vs MEM",
          "Away vs CHA",
          "Away vs IND",
          "Home vs WAS",
          "Away vs MIA",
          "Away vs ORL",
          "Away vs NOP",
          "Away vs TOR",
          "Home vs UTA",
          "Away vs HOU",
          "Away vs LAL",
          "Away vs GSW",
          "Away vs SAC",
          "Home vs POR",
          "Away vs SAS",
          "Home vs DAL",
          "Home vs PHX",
          "Home vs NOP",
          "Home vs LAC",
          "Home vs GSW",
          "Home vs HOU",
          "Away vs DEN",
          "Home vs ORL",
          "Away vs LAC",
          "Away vs POR",
          "Home vs SAS",
          "Home vs ATL",
          "Away vs CHI",
          "Away vs DEN"
         ],
         "textposition": "inside",
         "x": {
          "dtype": "i4",
          "bdata": "AFwmBQBcJgUAXCYFAFwmBQBcJgUAXCYFAFwmBQBcJgUAXCYFAFwmBQBcJgUAXCYFAFwmBQBcJgUAXCYFAFwmBQBcJgUAXCYFAFwmBQBcJgUAXCYFAFwmBQBcJgUAXCYFAFwmBQBcJgUAXCYFAFwmBQBcJgUAXCYFAFwmBQBcJgUAXCYFAFwmBQBcJgUAXCYFAFwmBQBcJgUAXCYFAFwmBQBcJgUAXCYFAFwmBQBcJgUAXCYFAFwmBQBcJgUAXCYFAFwmBQBcJgUAXCYFAFwmBQBcJgUAXCYFAFwmBQBcJgUAXCYFAFwmBQBcJgUAXCYFAFwmBQBcJgUAXCYFAFwmBQBcJgUAXCYFAFwmBQBcJgUAXCYFAFwmBQBcJgUAXCYFAFwmBQBcJgUAXCYFAFwmBQBcJgUAXCYFAFwmBQBcJgU="
         },
         "xaxis": "x",
         "y": [
          "4-in-6",
          "4-in-6",
          "Back-to-Back",
          "Back-to-Back",
          "4-in-6",
          "4-in-6",
          "Normal",
          "Normal",
          "Normal",
          "Normal",
          "Normal",
          "Normal",
          "Normal",
          "Normal",
          "Back-to-Back",
          "Back-to-Back",
          "4-in-6",
          "Back-to-Back",
          "Back-to-Back",
          "4-in-6",
          "4-in-6",
          "Back-to-Back",
          "Back-to-Back",
          "4-in-6",
          "4-in-6",
          "Back-to-Back",
          "Back-to-Back",
          "4-in-6",
          "Back-to-Back",
          "Back-to-Back",
          "4-in-6",
          "Back-to-Back",
          "Back-to-Back",
          "4-in-6",
          "4-in-6",
          "Normal",
          "Normal",
          "Normal",
          "Back-to-Back",
          "Back-to-Back",
          "4-in-6",
          "Back-to-Back",
          "Back-to-Back",
          "4-in-6",
          "4-in-6",
          "Normal",
          "Normal",
          "4-in-6",
          "Back-to-Back",
          "Back-to-Back",
          "4-in-6",
          "Back-to-Back",
          "Back-to-Back",
          "4-in-6",
          "Normal",
          "Back-to-Back",
          "Back-to-Back",
          "Normal",
          "Normal",
          "Normal",
          "Normal",
          "Normal",
          "Normal",
          "Normal",
          "Back-to-Back",
          "Back-to-Back",
          "4-in-6",
          "4-in-6",
          "4-in-6",
          "Back-to-Back",
          "Back-to-Back",
          "4-in-6",
          "4-in-6",
          "4-in-6",
          "Back-to-Back",
          "Back-to-Back",
          "4-in-6",
          "Back-to-Back",
          "Back-to-Back",
          "Normal"
         ],
         "yaxis": "y",
         "type": "bar"
        }
       ],
       "layout": {
        "barmode": "overlay",
        "coloraxis": {
         "colorbar": {
          "title": {
           "text": "Games in last 6 days"
          }
         },
         "colorscale": [
          [
           0.0,
           "#30123b"
          ],
          [
           0.07142857142857142,
           "#4145ab"
          ],
          [
           0.14285714285714285,
           "#4675ed"
          ],
          [
           0.21428571428571427,
           "#39a2fc"
          ],
          [
           0.2857142857142857,
           "#1bcfd4"
          ],
          [
           0.35714285714285715,
           "#24eca6"
          ],
          [
           0.42857142857142855,
           "#61fc6c"
          ],
          [
           0.5,
           "#a4fc3b"
          ],
          [
           0.5714285714285714,
           "#d1e834"
          ],
          [
           0.6428571428571429,
           "#f3c63a"
          ],
          [
           0.7142857142857143,
           "#fe9b2d"
          ],
          [
           0.7857142857142857,
           "#f36315"
          ],
          [
           0.8571428571428571,
           "#d93806"
          ],
          [
           0.9285714285714286,
           "#b11901"
          ],
          [
           1.0,
           "#7a0402"
          ]
         ]
        },
        "height": 560,
        "legend": {
         "tracegroupgap": 0
        },
        "margin": {
         "l": 160,
         "r": 40,
         "t": 160
        },
        "template": {
         "data": {
          "barpolar": [
           {
            "marker": {
             "line": {
              "color": "rgb(17,17,17)",
              "width": 0.5
             },
             "pattern": {
              "fillmode": "overlay",
              "size": 10,
              "solidity": 0.2
             }
            },
            "type": "barpolar"
           }
          ],
          "bar": [
           {
            "error_x": {
             "color": "#f2f5fa"
            },
            "error_y": {
             "color": "#f2f5fa"
            },
            "marker": {
             "line": {
              "color": "rgb(17,17,17)",
              "width": 0.5
             },
             "pattern": {
              "fillmode": "overlay",
              "size": 10,
              "solidity": 0.2
             }
            },
            "type": "bar"
           }
          ],
          "carpet": [
           {
            "aaxis": {
             "endlinecolor": "#A2B1C6",
             "gridcolor": "#506784",
             "linecolor": "#506784",
             "minorgridcolor": "#506784",
             "startlinecolor": "#A2B1C6"
            },
            "baxis": {
             "endlinecolor": "#A2B1C6",
             "gridcolor": "#506784",
             "linecolor": "#506784",
             "minorgridcolor": "#506784",
             "startlinecolor": "#A2B1C6"
            },
            "type": "carpet"
           }
          ],
          "choropleth": [
           {
            "colorbar": {
             "outlinewidth": 0,
             "ticks": ""
            },
            "type": "choropleth"
           }
          ],
          "contourcarpet": [
           {
            "colorbar": {
             "outlinewidth": 0,
             "ticks": ""
            },
            "type": "contourcarpet"
           }
          ],
          "contour": [
           {
            "colorbar": {
             "outlinewidth": 0,
             "ticks": ""
            },
            "colorscale": [
             [
              0.0,
              "#0d0887"
             ],
             [
              0.1111111111111111,
              "#46039f"
             ],
             [
              0.2222222222222222,
              "#7201a8"
             ],
             [
              0.3333333333333333,
              "#9c179e"
             ],
             [
              0.4444444444444444,
              "#bd3786"
             ],
             [
              0.5555555555555556,
              "#d8576b"
             ],
             [
              0.6666666666666666,
              "#ed7953"
             ],
             [
              0.7777777777777778,
              "#fb9f3a"
             ],
             [
              0.8888888888888888,
              "#fdca26"
             ],
             [
              1.0,
              "#f0f921"
             ]
            ],
            "type": "contour"
           }
          ],
          "heatmap": [
           {
            "colorbar": {
             "outlinewidth": 0,
             "ticks": ""
            },
            "colorscale": [
             [
              0.0,
              "#0d0887"
             ],
             [
              0.1111111111111111,
              "#46039f"
             ],
             [
              0.2222222222222222,
              "#7201a8"
             ],
             [
              0.3333333333333333,
              "#9c179e"
             ],
             [
              0.4444444444444444,
              "#bd3786"
             ],
             [
              0.5555555555555556,
              "#d8576b"
             ],
             [
              0.6666666666666666,
              "#ed7953"
             ],
             [
              0.7777777777777778,
              "#fb9f3a"
             ],
             [
              0.8888888888888888,
              "#fdca26"
             ],
             [
              1.0,
              "#f0f921"
             ]
            ],
            "type": "heatmap"
           }
          ],
          "histogram2dcontour": [
           {
            "colorbar": {
             "outlinewidth": 0,
             "ticks": ""
            },
            "colorscale": [
             [
              0.0,
              "#0d0887"
             ],
             [
              0.1111111111111111,
              "#46039f"
             ],
             [
              0.2222222222222222,
              "#7201a8"
             ],
             [
              0.3333333333333333,
              "#9c179e"
             ],
             [
              0.4444444444444444,
              "#bd3786"
             ],
             [
              0.5555555555555556,
              "#d8576b"
             ],
             [
              0.6666666666666666,
              "#ed7953"
             ],
             [
              0.7777777777777778,
              "#fb9f3a"
             ],
             [
              0.8888888888888888,
              "#fdca26"
             ],
             [
              1.0,
              "#f0f921"
             ]
            ],
            "type": "histogram2dcontour"
           }
          ],
          "histogram2d": [
           {
            "colorbar": {
             "outlinewidth": 0,
             "ticks": ""
            },
            "colorscale": [
             [
              0.0,
              "#0d0887"
             ],
             [
              0.1111111111111111,
              "#46039f"
             ],
             [
              0.2222222222222222,
              "#7201a8"
             ],
             [
              0.3333333333333333,
              "#9c179e"
             ],
             [
              0.4444444444444444,
              "#bd3786"
             ],
             [
              0.5555555555555556,
              "#d8576b"
             ],
             [
              0.6666666666666666,
              "#ed7953"
             ],
             [
              0.7777777777777778,
              "#fb9f3a"
             ],
             [
              0.8888888888888888,
              "#fdca26"
             ],
             [
              1.0,
              "#f0f921"
             ]
            ],
            "type": "histogram2d"
           }
          ],
          "histogram": [
           {
            "marker": {
             "pattern": {
              "fillmode": "overlay",
              "size": 10,
              "solidity": 0.2
             }
            },
            "type": "histogram"
           }
          ],
          "mesh3d": [
           {
            "colorbar": {
             "outlinewidth": 0,
             "ticks": ""
            },
            "type": "mesh3d"
           }
          ],
          "parcoords": [
           {
            "line": {
             "colorbar": {
              "outlinewidth": 0,
              "ticks": ""
             }
            },
            "type": "parcoords"
           }
          ],
          "pie": [
           {
            "automargin": true,
            "type": "pie"
           }
          ],
          "scatter3d": [
           {
            "line": {
             "colorbar": {
              "outlinewidth": 0,
              "ticks": ""
             }
            },
            "marker": {
             "colorbar": {
              "outlinewidth": 0,
              "ticks": ""
             }
            },
            "type": "scatter3d"
           }
          ],
          "scattercarpet": [
           {
            "marker": {
             "colorbar": {
              "outlinewidth": 0,
              "ticks": ""
             }
            },
            "type": "scattercarpet"
           }
          ],
          "scattergeo": [
           {
            "marker": {
             "colorbar": {
              "outlinewidth": 0,
              "ticks": ""
             }
            },
            "type": "scattergeo"
           }
          ],
          "scattergl": [
           {
            "marker": {
             "line": {
              "color": "#283442"
             }
            },
            "type": "scattergl"
           }
          ],
          "scattermapbox": [
           {
            "marker": {
             "colorbar": {
              "outlinewidth": 0,
              "ticks": ""
             }
            },
            "type": "scattermapbox"
           }
          ],
          "scattermap": [
           {
            "marker": {
             "colorbar": {
              "outlinewidth": 0,
              "ticks": ""
             }
            },
            "type": "scattermap"
           }
          ],
          "scatterpolargl": [
           {
            "marker": {
             "colorbar": {
              "outlinewidth": 0,
              "ticks": ""
             }
            },
            "type": "scatterpolargl"
           }
          ],
          "scatterpolar": [
           {
            "marker": {
             "colorbar": {
              "outlinewidth": 0,
              "ticks": ""
             }
            },
            "type": "scatterpolar"
           }
          ],
          "scatter": [
           {
            "marker": {
             "line": {
              "color": "#283442"
             }
            },
            "type": "scatter"
           }
          ],
          "scatterternary": [
           {
            "marker": {
             "colorbar": {
              "outlinewidth": 0,
              "ticks": ""
             }
            },
            "type": "scatterternary"
           }
          ],
          "surface": [
           {
            "colorbar": {
             "outlinewidth": 0,
             "ticks": ""
            },
            "colorscale": [
             [
              0.0,
              "#0d0887"
             ],
             [
              0.1111111111111111,
              "#46039f"
             ],
             [
              0.2222222222222222,
              "#7201a8"
             ],
             [
              0.3333333333333333,
              "#9c179e"
             ],
             [
              0.4444444444444444,
              "#bd3786"
             ],
             [
              0.5555555555555556,
              "#d8576b"
             ],
             [
              0.6666666666666666,
              "#ed7953"
             ],
             [
              0.7777777777777778,
              "#fb9f3a"
             ],
             [
              0.8888888888888888,
              "#fdca26"
             ],
             [
              1.0,
              "#f0f921"
             ]
            ],
            "type": "surface"
           }
          ],
          "table": [
           {
            "cells": {
             "fill": {
              "color": "#506784"
             },
             "line": {
              "color": "rgb(17,17,17)"
             }
            },
            "header": {
             "fill": {
              "color": "#2a3f5f"
             },
             "line": {
              "color": "rgb(17,17,17)"
             }
            },
            "type": "table"
           }
          ]
         },
         "layout": {
          "annotationdefaults": {
           "arrowcolor": "#f2f5fa",
           "arrowhead": 0,
           "arrowwidth": 1
          },
          "autotypenumbers": "strict",
          "coloraxis": {
           "colorbar": {
            "outlinewidth": 0,
            "ticks": ""
           }
          },
          "colorscale": {
           "diverging": [
            [
             0,
             "#8e0152"
            ],
            [
             0.1,
             "#c51b7d"
            ],
            [
             0.2,
             "#de77ae"
            ],
            [
             0.3,
             "#f1b6da"
            ],
            [
             0.4,
             "#fde0ef"
            ],
            [
             0.5,
             "#f7f7f7"
            ],
            [
             0.6,
             "#e6f5d0"
            ],
            [
             0.7,
             "#b8e186"
            ],
            [
             0.8,
             "#7fbc41"
            ],
            [
             0.9,
             "#4d9221"
            ],
            [
             1,
             "#276419"
            ]
           ],
           "sequential": [
            [
             0.0,
             "#0d0887"
            ],
            [
             0.1111111111111111,
             "#46039f"
            ],
            [
             0.2222222222222222,
             "#7201a8"
            ],
            [
             0.3333333333333333,
             "#9c179e"
            ],
            [
             0.4444444444444444,
             "#bd3786"
            ],
            [
             0.5555555555555556,
             "#d8576b"
            ],
            [
             0.6666666666666666,
             "#ed7953"
            ],
            [
             0.7777777777777778,
             "#fb9f3a"
            ],
            [
             0.8888888888888888,
             "#fdca26"
            ],
            [
             1.0,
             "#f0f921"
            ]
           ],
           "sequentialminus": [
            [
             0.0,
             "#0d0887"
            ],
            [
             0.1111111111111111,
             "#46039f"
            ],
            [
             0.2222222222222222,
             "#7201a8"
            ],
            [
             0.3333333333333333,
             "#9c179e"
            ],
            [
             0.4444444444444444,
             "#bd3786"
            ],
            [
             0.5555555555555556,
             "#d8576b"
            ],
            [
             0.6666666666666666,
             "#ed7953"
            ],
            [
             0.7777777777777778,
             "#fb9f3a"
            ],
            [
             0.8888888888888888,
             "#fdca26"
            ],
            [
             1.0,
             "#f0f921"
            ]
           ]
          },
          "colorway": [
           "#636efa",
           "#EF553B",
           "#00cc96",
           "#ab63fa",
           "#FFA15A",
           "#19d3f3",
           "#FF6692",
           "#B6E880",
           "#FF97FF",
           "#FECB52"
          ],
          "font": {
           "color": "#f2f5fa"
          },
          "geo": {
           "bgcolor": "rgb(17,17,17)",
           "lakecolor": "rgb(17,17,17)",
           "landcolor": "rgb(17,17,17)",
           "showlakes": true,
           "showland": true,
           "subunitcolor": "#506784"
          },
          "hoverlabel": {
           "align": "left"
          },
          "hovermode": "closest",
          "mapbox": {
           "style": "dark"
          },
          "paper_bgcolor": "rgb(17,17,17)",
          "plot_bgcolor": "rgb(17,17,17)",
          "polar": {
           "angularaxis": {
            "gridcolor": "#506784",
            "linecolor": "#506784",
            "ticks": ""
           },
           "bgcolor": "rgb(17,17,17)",
           "radialaxis": {
            "gridcolor": "#506784",
            "linecolor": "#506784",
            "ticks": ""
           }
          },
          "scene": {
           "xaxis": {
            "backgroundcolor": "rgb(17,17,17)",
            "gridcolor": "#506784",
            "gridwidth": 2,
            "linecolor": "#506784",
            "showbackground": true,
            "ticks": "",
            "zerolinecolor": "#C8D4E3"
           },
           "yaxis": {
            "backgroundcolor": "rgb(17,17,17)",
            "gridcolor": "#506784",
            "gridwidth": 2,
            "linecolor": "#506784",
            "showbackground": true,
            "ticks": "",
            "zerolinecolor": "#C8D4E3"
           },
           "zaxis": {
            "backgroundcolor": "rgb(17,17,17)",
            "gridcolor": "#506784",
            "gridwidth": 2,
            "linecolor": "#506784",
            "showbackground": true,
            "ticks": "",
            "zerolinecolor": "#C8D4E3"
           }
          },
          "shapedefaults": {
           "line": {
            "color": "#f2f5fa"
           }
          },
          "sliderdefaults": {
           "bgcolor": "#C8D4E3",
           "bordercolor": "rgb(17,17,17)",
           "borderwidth": 1,
           "tickwidth": 0
          },
          "ternary": {
           "aaxis": {
            "gridcolor": "#506784",
            "linecolor": "#506784",
            "ticks": ""
           },
           "baxis": {
            "gridcolor": "#506784",
            "linecolor": "#506784",
            "ticks": ""
           },
           "bgcolor": "rgb(17,17,17)",
           "caxis": {
            "gridcolor": "#506784",
            "linecolor": "#506784",
            "ticks": ""
           }
          },
          "title": {
           "x": 0.05
          },
          "updatemenudefaults": {
           "bgcolor": "#506784",
           "borderwidth": 0
          },
          "xaxis": {
           "automargin": true,
           "gridcolor": "#283442",
           "linecolor": "#506784",
           "ticks": "",
           "title": {
            "standoff": 15
           },
           "zerolinecolor": "#283442",
           "zerolinewidth": 2
          },
          "yaxis": {
           "automargin": true,
           "gridcolor": "#283442",
           "linecolor": "#506784",
           "ticks": "",
           "title": {
            "standoff": 15
           },
           "zerolinecolor": "#283442",
           "zerolinewidth": 2
          }
         }
        },
        "title": {
         "text": "OKC Schedule Density (2024 Season)"
        },
        "xaxis": {
         "anchor": "y",
         "domain": [
          0.0,
          1.0
         ],
         "rangeselector": {
          "buttons": [
           {
            "count": 14,
            "label": "2W",
            "step": "day",
            "stepmode": "backward"
           },
           {
            "count": 1,
            "label": "1M",
            "step": "month",
            "stepmode": "backward"
           },
           {
            "count": 3,
            "label": "3M",
            "step": "month",
            "stepmode": "backward"
           },
           {
            "step": "all"
           }
          ]
         },
         "rangeslider": {
          "visible": true
         },
         "title": {
          "text": "Date"
         },
         "type": "date"
        },
        "yaxis": {
         "anchor": "x",
         "categoryarray": [
          "Back-to-Back",
          "4-in-6",
          "Normal"
         ],
         "categoryorder": "array",
         "domain": [
          0.0,
          1.0
         ],
         "title": {
          "text": "Schedule Category"
         }
        },
        "updatemenus": [
         {
          "buttons": [
           {
            "args": [
             [
              "DEN"
             ],
             {
              "mode": "immediate",
              "frame": {
               "duration": 0,
               "redraw": true
              },
              "transition": {
               "duration": 0
              }
             }
            ],
            "label": "DEN",
            "method": "animate"
           },
           {
            "args": [
             [
              "OKC"
             ],
             {
              "mode": "immediate",
              "frame": {
               "duration": 0,
               "redraw": true
              },
              "transition": {
               "duration": 0
              }
             }
            ],
            "label": "OKC",
            "method": "animate"
           }
          ],
          "showactive": true,
          "type": "dropdown",
          "x": 0.4,
          "xanchor": "center",
          "y": 1.15,
          "yanchor": "top"
         }
        ]
       },
       "frames": [
        {
         "data": [
          {
           "base": [
            "2025-04-13T00:00:00.000000000",
            "2025-04-11T00:00:00.000000000",
            "2025-04-09T00:00:00.000000000",
            "2025-04-06T00:00:00.000000000",
            "2025-04-04T00:00:00.000000000",
            "2025-04-02T00:00:00.000000000",
            "2025-04-01T00:00:00.000000000",
            "2025-03-28T00:00:00.000000000",
            "2025-03-26T00:00:00.000000000",
            "2025-03-24T00:00:00.000000000",
            "2025-03-23T00:00:00.000000000",
            "2025-03-21T00:00:00.000000000",
            "2025-03-19T00:00:00.000000000",
            "2025-03-17T00:00:00.000000000",
            "2025-03-15T00:00:00.000000000",
            "2025-03-14T00:00:00.000000000",
            "2025-03-12T00:00:00.000000000",
            "2025-03-10T00:00:00.000000000",
            "2025-03-09T00:00:00.000000000",
            "2025-03-07T00:00:00.000000000",
            "2025-03-05T00:00:00.000000000",
            "2025-03-02T00:00:00.000000000",
            "2025-02-28T00:00:00.000000000",
            "2025-02-27T00:00:00.000000000",
            "2025-02-24T00:00:00.000000000",
            "2025-02-22T00:00:00.000000000",
            "2025-02-20T00:00:00.000000000",
            "2025-02-12T00:00:00.000000000",
            "2025-02-10T00:00:00.000000000",
            "2025-02-08T00:00:00.000000000",
            "2025-02-06T00:00:00.000000000",
            "2025-02-05T00:00:00.000000000",
            "2025-02-03T00:00:00.000000000",
            "2025-02-01T00:00:00.000000000",
            "2025-01-31T00:00:00.000000000",
            "2025-01-29T00:00:00.000000000",
            "2025-01-27T00:00:00.000000000",
            "2025-01-25T00:00:00.000000000",
            "2025-01-23T00:00:00.000000000",
            "2025-01-21T00:00:00.000000000",
            "2025-01-19T00:00:00.000000000",
            "2025-01-17T00:00:00.000000000",
            "2025-01-15T00:00:00.000000000",
            "2025-01-14T00:00:00.000000000",
            "2025-01-12T00:00:00.000000000",
            "2025-01-10T00:00:00.000000000",
            "2025-01-08T00:00:00.000000000",
            "2025-01-07T00:00:00.000000000",
            "2025-01-04T00:00:00.000000000",
            "2025-01-03T00:00:00.000000000",
            "2025-01-01T00:00:00.000000000",
            "2024-12-30T00:00:00.000000000",
            "2024-12-28T00:00:00.000000000",
            "2024-12-27T00:00:00.000000000",
            "2024-12-25T00:00:00.000000000",
            "2024-12-23T00:00:00.000000000",
            "2024-12-22T00:00:00.000000000",
            "2024-12-19T00:00:00.000000000",
            "2024-12-08T00:00:00.000000000",
            "2024-12-07T00:00:00.000000000",
            "2024-12-05T00:00:00.000000000",
            "2024-12-03T00:00:00.000000000",
            "2024-12-01T00:00:00.000000000",
            "2024-11-27T00:00:00.000000000",
            "2024-11-25T00:00:00.000000000",
            "2024-11-23T00:00:00.000000000",
            "2024-11-22T00:00:00.000000000",
            "2024-11-19T00:00:00.000000000",
            "2024-11-17T00:00:00.000000000",
            "2024-11-15T00:00:00.000000000",
            "2024-11-10T00:00:00.000000000",
            "2024-11-08T00:00:00.000000000",
            "2024-11-06T00:00:00.000000000",
            "2024-11-04T00:00:00.000000000",
            "2024-11-02T00:00:00.000000000",
            "2024-11-01T00:00:00.000000000",
            "2024-10-29T00:00:00.000000000",
            "2024-10-28T00:00:00.000000000",
            "2024-10-26T00:00:00.000000000",
            "2024-10-24T00:00:00.000000000"
           ],
           "customdata": [
            [
             "2025-04-13",
             "Away",
             "HOU",
             2.0,
             false,
             false,
             0,
             3,
             "Away vs HOU"
            ],
            [
             "2025-04-11",
             "Home",
             "MEM",
             2.0,
             false,
             false,
             0,
             3,
             "Home vs MEM"
            ],
            [
             "2025-04-09",
             "Away",
             "SAC",
             3.0,
             false,
             false,
             0,
             3,
             "Away vs SAC"
            ],
            [
             "2025-04-06",
             "Home",
             "IND",
             2.0,
             false,
             true,
             0,
             4,
             "Home vs IND"
            ],
            [
             "2025-04-04",
             "Away",
             "GSW",
             2.0,
             false,
             false,
             0,
             3,
             "Away vs GSW"
            ],
            [
             "2025-04-02",
             "Home",
             "SAS",
             1.0,
             true,
             false,
             2,
             3,
             "Home vs SAS"
            ],
            [
             "2025-04-01",
             "Home",
             "MIN",
             4.0,
             false,
             false,
             1,
             2,
             "Home vs MIN"
            ],
            [
             "2025-03-28",
             "Home",
             "UTA",
             2.0,
             false,
             true,
             0,
             4,
             "Home vs UTA"
            ],
            [
             "2025-03-26",
             "Home",
             "MIL",
             2.0,
             false,
             true,
             0,
             4,
             "Home vs MIL"
            ],
            [
             "2025-03-24",
             "Home",
             "CHI",
             1.0,
             true,
             true,
             2,
             4,
             "Home vs CHI"
            ],
            [
             "2025-03-23",
             "Away",
             "HOU",
             2.0,
             false,
             false,
             1,
             3,
             "Away vs HOU"
            ],
            [
             "2025-03-21",
             "Away",
             "POR",
             2.0,
             false,
             false,
             0,
             3,
             "Away vs POR"
            ],
            [
             "2025-03-19",
             "Away",
             "LAL",
             2.0,
             false,
             true,
             0,
             4,
             "Away vs LAL"
            ],
            [
             "2025-03-17",
             "Away",
             "GSW",
             2.0,
             false,
             true,
             0,
             4,
             "Away vs GSW"
            ],
            [
             "2025-03-15",
             "Home",
             "WAS",
             1.0,
             true,
             true,
             2,
             4,
             "Home vs WAS"
            ],
            [
             "2025-03-14",
             "Home",
             "LAL",
             2.0,
             false,
             true,
             1,
             4,
             "Home vs LAL"
            ],
            [
             "2025-03-12",
             "Home",
             "MIN",
             2.0,
             false,
             true,
             0,
             4,
             "Home vs MIN"
            ],
            [
             "2025-03-10",
             "Away",
             "OKC",
             1.0,
             true,
             true,
             2,
             4,
             "Away vs OKC"
            ],
            [
             "2025-03-09",
             "Away",
             "OKC",
             2.0,
             false,
             false,
             1,
             3,
             "Away vs OKC"
            ],
            [
             "2025-03-07",
             "Home",
             "PHX",
             2.0,
             false,
             false,
             0,
             3,
             "Home vs PHX"
            ],
            [
             "2025-03-05",
             "Home",
             "SAC",
             3.0,
             false,
             false,
             0,
             3,
             "Home vs SAC"
            ],
            [
             "2025-03-02",
             "Away",
             "BOS",
             2.0,
             false,
             false,
             0,
             3,
             "Away vs BOS"
            ],
            [
             "2025-02-28",
             "Away",
             "DET",
             1.0,
             true,
             false,
             2,
             3,
             "Away vs DET"
            ],
            [
             "2025-02-27",
             "Away",
             "MIL",
             3.0,
             false,
             false,
             1,
             3,
             "Away vs MIL"
            ],
            [
             "2025-02-24",
             "Away",
             "IND",
             2.0,
             false,
             false,
             0,
             3,
             "Away vs IND"
            ],
            [
             "2025-02-22",
             "Home",
             "LAL",
             2.0,
             false,
             false,
             0,
             2,
             "Home vs LAL"
            ],
            [
             "2025-02-20",
             "Home",
             "CHA",
             8.0,
             false,
             false,
             0,
             1,
             "Home vs CHA"
            ],
            [
             "2025-02-12",
             "Home",
             "POR",
             2.0,
             false,
             false,
             0,
             3,
             "Home vs POR"
            ],
            [
             "2025-02-10",
             "Home",
             "POR",
             2.0,
             false,
             true,
             0,
             4,
             "Home vs POR"
            ],
            [
             "2025-02-08",
             "Away",
             "PHX",
             2.0,
             false,
             true,
             0,
             4,
             "Away vs PHX"
            ],
            [
             "2025-02-06",
             "Home",
             "ORL",
             1.0,
             true,
             true,
             2,
             4,
             "Home vs ORL"
            ],
            [
             "2025-02-05",
             "Home",
             "NOP",
             2.0,
             false,
             true,
             1,
             4,
             "Home vs NOP"
            ],
            [
             "2025-02-03",
             "Home",
             "NOP",
             2.0,
             false,
             true,
             0,
             4,
             "Home vs NOP"
            ],
            [
             "2025-02-01",
             "Away",
             "CHA",
             1.0,
             true,
             true,
             2,
             4,
             "Away vs CHA"
            ],
            [
             "2025-01-31",
             "Away",
             "PHI",
             2.0,
             false,
             false,
             1,
             3,
             "Away vs PHI"
            ],
            [
             "2025-01-29",
             "Away",
             "NYK",
             2.0,
             false,
             false,
             0,
             3,
             "Away vs NYK"
            ],
            [
             "2025-01-27",
             "Away",
             "CHI",
             2.0,
             false,
             false,
             0,
             3,
             "Away vs CHI"
            ],
            [
             "2025-01-25",
             "Away",
             "MIN",
             2.0,
             false,
             false,
             0,
             3,
             "Away vs MIN"
            ],
            [
             "2025-01-23",
             "Home",
             "SAC",
             2.0,
             false,
             false,
             0,
             3,
             "Home vs SAC"
            ],
            [
             "2025-01-21",
             "Home",
             "PHI",
             2.0,
             false,
             false,
             0,
             3,
             "Home vs PHI"
            ],
            [
             "2025-01-19",
             "Away",
             "ORL",
             2.0,
             false,
             true,
             0,
             4,
             "Away vs ORL"
            ],
            [
             "2025-01-17",
             "Away",
             "MIA",
             2.0,
             false,
             true,
             0,
             4,
             "Away vs MIA"
            ],
            [
             "2025-01-15",
             "Home",
             "HOU",
             1.0,
             true,
             true,
             2,
             4,
             "Home vs HOU"
            ],
            [
             "2025-01-14",
             "Away",
             "DAL",
             2.0,
             false,
             false,
             1,
             3,
             "Away vs DAL"
            ],
            [
             "2025-01-12",
             "Away",
             "DAL",
             2.0,
             false,
             true,
             0,
             4,
             "Away vs DAL"
            ],
            [
             "2025-01-10",
             "Home",
             "BKN",
             2.0,
             false,
             false,
             0,
             3,
             "Home vs BKN"
            ],
            [
             "2025-01-08",
             "Home",
             "LAC",
             1.0,
             true,
             true,
             2,
             4,
             "Home vs LAC"
            ],
            [
             "2025-01-07",
             "Home",
             "BOS",
             3.0,
             false,
             false,
             1,
             3,
             "Home vs BOS"
            ],
            [
             "2025-01-04",
             "Away",
             "SAS",
             1.0,
             true,
             true,
             2,
             4,
             "Away vs SAS"
            ],
            [
             "2025-01-03",
             "Home",
             "SAS",
             2.0,
             false,
             false,
             1,
             3,
             "Home vs SAS"
            ],
            [
             "2025-01-01",
             "Home",
             "ATL",
             2.0,
             false,
             true,
             0,
             4,
             "Home vs ATL"
            ],
            [
             "2024-12-30",
             "Away",
             "UTA",
             2.0,
             false,
             true,
             0,
             4,
             "Away vs UTA"
            ],
            [
             "2024-12-28",
             "Home",
             "DET",
             1.0,
             true,
             true,
             2,
             4,
             "Home vs DET"
            ],
            [
             "2024-12-27",
             "Home",
             "CLE",
             2.0,
             false,
             true,
             1,
             4,
             "Home vs CLE"
            ],
            [
             "2024-12-25",
             "Away",
             "PHX",
             2.0,
             false,
             false,
             0,
             3,
             "Away vs PHX"
            ],
            [
             "2024-12-23",
             "Home",
             "PHX",
             1.0,
             true,
             false,
             2,
             3,
             "Home vs PHX"
            ],
            [
             "2024-12-22",
             "Away",
             "NOP",
             3.0,
             false,
             false,
             1,
             2,
             "Away vs NOP"
            ],
            [
             "2024-12-19",
             "Away",
             "POR",
             11.0,
             false,
             false,
             0,
             1,
             "Away vs POR"
            ],
            [
             "2024-12-08",
             "Away",
             "ATL",
             1.0,
             true,
             true,
             2,
             4,
             "Away vs ATL"
            ],
            [
             "2024-12-07",
             "Away",
             "WAS",
             2.0,
             false,
             false,
             1,
             3,
             "Away vs WAS"
            ],
            [
             "2024-12-05",
             "Away",
             "CLE",
             2.0,
             false,
             false,
             0,
             3,
             "Away vs CLE"
            ],
            [
             "2024-12-03",
             "Home",
             "GSW",
             2.0,
             false,
             false,
             0,
             2,
             "Home vs GSW"
            ],
            [
             "2024-12-01",
             "Away",
             "LAC",
             4.0,
             false,
             false,
             0,
             2,
             "Away vs LAC"
            ],
            [
             "2024-11-27",
             "Away",
             "UTA",
             2.0,
             false,
             true,
             0,
             4,
             "Away vs UTA"
            ],
            [
             "2024-11-25",
             "Home",
             "NYK",
             2.0,
             false,
             false,
             0,
             3,
             "Home vs NYK"
            ],
            [
             "2024-11-23",
             "Away",
             "LAL",
             1.0,
             true,
             false,
             2,
             3,
             "Away vs LAL"
            ],
            [
             "2024-11-22",
             "Home",
             "DAL",
             3.0,
             false,
             false,
             1,
             3,
             "Home vs DAL"
            ],
            [
             "2024-11-19",
             "Away",
             "MEM",
             2.0,
             false,
             false,
             0,
             3,
             "Away vs MEM"
            ],
            [
             "2024-11-17",
             "Away",
             "MEM",
             2.0,
             false,
             false,
             0,
             2,
             "Away vs MEM"
            ],
            [
             "2024-11-15",
             "Away",
             "NOP",
             5.0,
             false,
             false,
             0,
             2,
             "Away vs NOP"
            ],
            [
             "2024-11-10",
             "Home",
             "DAL",
             2.0,
             false,
             false,
             0,
             3,
             "Home vs DAL"
            ],
            [
             "2024-11-08",
             "Home",
             "MIA",
             2.0,
             false,
             false,
             0,
             3,
             "Home vs MIA"
            ],
            [
             "2024-11-06",
             "Home",
             "OKC",
             2.0,
             false,
             true,
             0,
             4,
             "Home vs OKC"
            ],
            [
             "2024-11-04",
             "Home",
             "TOR",
             2.0,
             false,
             false,
             0,
             3,
             "Home vs TOR"
            ],
            [
             "2024-11-02",
             "Home",
             "UTA",
             1.0,
             true,
             true,
             2,
             4,
             "Home vs UTA"
            ],
            [
             "2024-11-01",
             "Away",
             "MIN",
             3.0,
             false,
             false,
             1,
             3,
             "Away vs MIN"
            ],
            [
             "2024-10-29",
             "Away",
             "BKN",
             1.0,
             true,
             false,
             2,
             4,
             "Away vs BKN"
            ],
            [
             "2024-10-28",
             "Away",
             "TOR",
             2.0,
             false,
             false,
             1,
             3,
             "Away vs TOR"
            ],
            [
             "2024-10-26",
             "Home",
             "LAC",
             2.0,
             false,
             false,
             0,
             2,
             "Home vs LAC"
            ],
            [
             "2024-10-24",
             "Home",
             "OKC",
             0.0,
             false,
             false,
             0,
             1,
             "Home vs OKC"
            ]
           ],
           "hovertemplate": "gamedate=%{customdata[0]}<br>home_away=%{customdata[1]}<br>opponent=%{customdata[2]}<br>rest_days=%{customdata[3]}<br>b2b=%{customdata[4]}<br>4in6=%{customdata[5]}<br>b2b_range=%{customdata[6]}<br>games_last6=%{marker.color}<extra></extra>",
           "insidetextanchor": "start",
           "legendgroup": "",
           "marker": {
            "color": {
             "dtype": "i1",
             "bdata": "AwMDBAMDAgQEBAMDBAQEBAQEAwMDAwMDAwIBAwQEBAQEBAMDAwMDAwQEBAMEAwQDBAMEBAQEAwMCAQQDAwICBAMDAwMCAgMDBAMEAwQDAgE="
            },
            "coloraxis": "coloraxis",
            "pattern": {
             "shape": ""
            }
           },
           "name": "",
           "orientation": "h",
           "showlegend": false,
           "text": [
            "Away vs HOU",
            "Home vs MEM",
            "Away vs SAC",
            "Home vs IND",
            "Away vs GSW",
            "Home vs SAS",
            "Home vs MIN",
            "Home vs UTA",
            "Home vs MIL",
            "Home vs CHI",
            "Away vs HOU",
            "Away vs POR",
            "Away vs LAL",
            "Away vs GSW",
            "Home vs WAS",
            "Home vs LAL",
            "Home vs MIN",
            "Away vs OKC",
            "Away vs OKC",
            "Home vs PHX",
            "Home vs SAC",
            "Away vs BOS",
            "Away vs DET",
            "Away vs MIL",
            "Away vs IND",
            "Home vs LAL",
            "Home vs CHA",
            "Home vs POR",
            "Home vs POR",
            "Away vs PHX",
            "Home vs ORL",
            "Home vs NOP",
            "Home vs NOP",
            "Away vs CHA",
            "Away vs PHI",
            "Away vs NYK",
            "Away vs CHI",
            "Away vs MIN",
            "Home vs SAC",
            "Home vs PHI",
            "Away vs ORL",
            "Away vs MIA",
            "Home vs HOU",
            "Away vs DAL",
            "Away vs DAL",
            "Home vs BKN",
            "Home vs LAC",
            "Home vs BOS",
            "Away vs SAS",
            "Home vs SAS",
            "Home vs ATL",
            "Away vs UTA",
            "Home vs DET",
            "Home vs CLE",
            "Away vs PHX",
            "Home vs PHX",
            "Away vs NOP",
            "Away vs POR",
            "Away vs ATL",
            "Away vs WAS",
            "Away vs CLE",
            "Home vs GSW",
            "Away vs LAC",
            "Away vs UTA",
            "Home vs NYK",
            "Away vs LAL",
            "Home vs DAL",
            "Away vs MEM",
            "Away vs MEM",
            "Away vs NOP",
            "Home vs DAL",
            "Home vs MIA",
            "Home vs OKC",
            "Home vs TOR",
            "Home vs UTA",
            "Away vs MIN",
            "Away vs BKN",
            "Away vs TOR",
            "Home vs LAC",
            "Home vs OKC"
           ],
           "textposition": "inside",
           "x": {
            "dtype": "i4",
            "bdata": "AFwmBQBcJgUAXCYFAFwmBQBcJgUAXCYFAFwmBQBcJgUAXCYFAFwmBQBcJgUAXCYFAFwmBQBcJgUAXCYFAFwmBQBcJgUAXCYFAFwmBQBcJgUAXCYFAFwmBQBcJgUAXCYFAFwmBQBcJgUAXCYFAFwmBQBcJgUAXCYFAFwmBQBcJgUAXCYFAFwmBQBcJgUAXCYFAFwmBQBcJgUAXCYFAFwmBQBcJgUAXCYFAFwmBQBcJgUAXCYFAFwmBQBcJgUAXCYFAFwmBQBcJgUAXCYFAFwmBQBcJgUAXCYFAFwmBQBcJgUAXCYFAFwmBQBcJgUAXCYFAFwmBQBcJgUAXCYFAFwmBQBcJgUAXCYFAFwmBQBcJgUAXCYFAFwmBQBcJgUAXCYFAFwmBQBcJgUAXCYFAFwmBQBcJgUAXCYFAFwmBQBcJgU="
           },
           "xaxis": "x",
           "y": [
            "Normal",
            "Normal",
            "Normal",
            "4-in-6",
            "4-in-6",
            "Back-to-Back",
            "Back-to-Back",
            "4-in-6",
            "4-in-6",
            "Back-to-Back",
            "Back-to-Back",
            "4-in-6",
            "4-in-6",
            "4-in-6",
            "Back-to-Back",
            "Back-to-Back",
            "4-in-6",
            "Back-to-Back",
            "Back-to-Back",
            "4-in-6",
            "4-in-6",
            "Normal",
            "Back-to-Back",
            "Back-to-Back",
            "Normal",
            "Normal",
            "Normal",
            "Normal",
            "4-in-6",
            "4-in-6",
            "Back-to-Back",
            "Back-to-Back",
            "4-in-6",
            "Back-to-Back",
            "Back-to-Back",
            "4-in-6",
            "4-in-6",
            "Normal",
            "Normal",
            "Normal",
            "4-in-6",
            "4-in-6",
            "Back-to-Back",
            "Back-to-Back",
            "4-in-6",
            "4-in-6",
            "Back-to-Back",
            "Back-to-Back",
            "Back-to-Back",
            "Back-to-Back",
            "4-in-6",
            "4-in-6",
            "Back-to-Back",
            "Back-to-Back",
            "4-in-6",
            "Back-to-Back",
            "Back-to-Back",
            "Normal",
            "Back-to-Back",
            "Back-to-Back",
            "4-in-6",
            "4-in-6",
            "Normal",
            "4-in-6",
            "4-in-6",
            "Back-to-Back",
            "Back-to-Back",
            "Normal",
            "Normal",
            "Normal",
            "Normal",
            "Normal",
            "4-in-6",
            "4-in-6",
            "Back-to-Back",
            "Back-to-Back",
            "Back-to-Back",
            "Back-to-Back",
            "Normal",
            "Normal"
           ],
           "yaxis": "y",
           "type": "bar"
          }
         ],
         "layout": {
          "title": {
           "text": "DEN Schedule Density (2024 Season)"
          }
         },
         "name": "DEN"
        },
        {
         "data": [
          {
           "base": [
            "2025-04-13T00:00:00.000000000",
            "2025-04-11T00:00:00.000000000",
            "2025-04-09T00:00:00.000000000",
            "2025-04-08T00:00:00.000000000",
            "2025-04-06T00:00:00.000000000",
            "2025-04-04T00:00:00.000000000",
            "2025-04-02T00:00:00.000000000",
            "2025-03-31T00:00:00.000000000",
            "2025-03-29T00:00:00.000000000",
            "2025-03-27T00:00:00.000000000",
            "2025-03-25T00:00:00.000000000",
            "2025-03-23T00:00:00.000000000",
            "2025-03-21T00:00:00.000000000",
            "2025-03-19T00:00:00.000000000",
            "2025-03-16T00:00:00.000000000",
            "2025-03-15T00:00:00.000000000",
            "2025-03-12T00:00:00.000000000",
            "2025-03-10T00:00:00.000000000",
            "2025-03-09T00:00:00.000000000",
            "2025-03-07T00:00:00.000000000",
            "2025-03-05T00:00:00.000000000",
            "2025-03-03T00:00:00.000000000",
            "2025-03-02T00:00:00.000000000",
            "2025-02-28T00:00:00.000000000",
            "2025-02-26T00:00:00.000000000",
            "2025-02-24T00:00:00.000000000",
            "2025-02-23T00:00:00.000000000",
            "2025-02-21T00:00:00.000000000",
            "2025-02-13T00:00:00.000000000",
            "2025-02-12T00:00:00.000000000",
            "2025-02-10T00:00:00.000000000",
            "2025-02-08T00:00:00.000000000",
            "2025-02-07T00:00:00.000000000",
            "2025-02-05T00:00:00.000000000",
            "2025-02-03T00:00:00.000000000",
            "2025-02-01T00:00:00.000000000",
            "2025-01-29T00:00:00.000000000",
            "2025-01-26T00:00:00.000000000",
            "2025-01-23T00:00:00.000000000",
            "2025-01-22T00:00:00.000000000",
            "2025-01-19T00:00:00.000000000",
            "2025-01-17T00:00:00.000000000",
            "2025-01-16T00:00:00.000000000",
            "2025-01-14T00:00:00.000000000",
            "2025-01-12T00:00:00.000000000",
            "2025-01-10T00:00:00.000000000",
            "2025-01-08T00:00:00.000000000",
            "2025-01-05T00:00:00.000000000",
            "2025-01-03T00:00:00.000000000",
            "2025-01-02T00:00:00.000000000",
            "2024-12-31T00:00:00.000000000",
            "2024-12-29T00:00:00.000000000",
            "2024-12-28T00:00:00.000000000",
            "2024-12-26T00:00:00.000000000",
            "2024-12-23T00:00:00.000000000",
            "2024-12-20T00:00:00.000000000",
            "2024-12-19T00:00:00.000000000",
            "2024-12-07T00:00:00.000000000",
            "2024-12-05T00:00:00.000000000",
            "2024-12-03T00:00:00.000000000",
            "2024-12-01T00:00:00.000000000",
            "2024-11-29T00:00:00.000000000",
            "2024-11-27T00:00:00.000000000",
            "2024-11-25T00:00:00.000000000",
            "2024-11-20T00:00:00.000000000",
            "2024-11-19T00:00:00.000000000",
            "2024-11-17T00:00:00.000000000",
            "2024-11-15T00:00:00.000000000",
            "2024-11-13T00:00:00.000000000",
            "2024-11-11T00:00:00.000000000",
            "2024-11-10T00:00:00.000000000",
            "2024-11-08T00:00:00.000000000",
            "2024-11-06T00:00:00.000000000",
            "2024-11-04T00:00:00.000000000",
            "2024-11-02T00:00:00.000000000",
            "2024-11-01T00:00:00.000000000",
            "2024-10-30T00:00:00.000000000",
            "2024-10-27T00:00:00.000000000",
            "2024-10-26T00:00:00.000000000",
            "2024-10-24T00:00:00.000000000"
           ],
           "customdata": [
            [
             "2025-04-13",
             "Away",
             "NOP",
             2.0,
             false,
             true,
             0,
             4,
             "Away vs NOP"
            ],
            [
             "2025-04-11",
             "Away",
             "UTA",
             2.0,
             false,
             true,
             0,
             4,
             "Away vs UTA"
            ],
            [
             "2025-04-09",
             "Away",
             "PHX",
             1.0,
             true,
             true,
             2,
             4,
             "Away vs PHX"
            ],
            [
             "2025-04-08",
             "Home",
             "LAL",
             2.0,
             false,
             false,
             1,
             3,
             "Home vs LAL"
            ],
            [
             "2025-04-06",
             "Home",
             "LAL",
             2.0,
             false,
             false,
             0,
             3,
             "Home vs LAL"
            ],
            [
             "2025-04-04",
             "Away",
             "HOU",
             2.0,
             false,
             false,
             0,
             3,
             "Away vs HOU"
            ],
            [
             "2025-04-02",
             "Home",
             "DET",
             2.0,
             false,
             false,
             0,
             3,
             "Home vs DET"
            ],
            [
             "2025-03-31",
             "Home",
             "CHI",
             2.0,
             false,
             false,
             0,
             3,
             "Home vs CHI"
            ],
            [
             "2025-03-29",
             "Home",
             "IND",
             2.0,
             false,
             false,
             0,
             3,
             "Home vs IND"
            ],
            [
             "2025-03-27",
             "Home",
             "MEM",
             2.0,
             false,
             false,
             0,
             3,
             "Home vs MEM"
            ],
            [
             "2025-03-25",
             "Away",
             "SAC",
             2.0,
             false,
             false,
             0,
             3,
             "Away vs SAC"
            ],
            [
             "2025-03-23",
             "Away",
             "LAC",
             2.0,
             false,
             false,
             0,
             3,
             "Away vs LAC"
            ],
            [
             "2025-03-21",
             "Home",
             "CHA",
             2.0,
             false,
             false,
             0,
             3,
             "Home vs CHA"
            ],
            [
             "2025-03-19",
             "Home",
             "PHI",
             3.0,
             false,
             false,
             0,
             3,
             "Home vs PHI"
            ],
            [
             "2025-03-16",
             "Away",
             "MIL",
             1.0,
             true,
             false,
             2,
             3,
             "Away vs MIL"
            ],
            [
             "2025-03-15",
             "Away",
             "DET",
             3.0,
             false,
             false,
             1,
             3,
             "Away vs DET"
            ],
            [
             "2025-03-12",
             "Away",
             "BOS",
             2.0,
             false,
             true,
             0,
             4,
             "Away vs BOS"
            ],
            [
             "2025-03-10",
             "Home",
             "DEN",
             1.0,
             true,
             true,
             2,
             4,
             "Home vs DEN"
            ],
            [
             "2025-03-09",
             "Home",
             "DEN",
             2.0,
             false,
             false,
             1,
             3,
             "Home vs DEN"
            ],
            [
             "2025-03-07",
             "Home",
             "POR",
             2.0,
             false,
             true,
             0,
             4,
             "Home vs POR"
            ],
            [
             "2025-03-05",
             "Away",
             "MEM",
             2.0,
             false,
             true,
             0,
             4,
             "Away vs MEM"
            ],
            [
             "2025-03-03",
             "Home",
             "HOU",
             1.0,
             true,
             true,
             2,
             4,
             "Home vs HOU"
            ],
            [
             "2025-03-02",
             "Away",
             "SAS",
             2.0,
             false,
             false,
             1,
             3,
             "Away vs SAS"
            ],
            [
             "2025-02-28",
             "Away",
             "ATL",
             2.0,
             false,
             true,
             0,
             4,
             "Away vs ATL"
            ],
            [
             "2025-02-26",
             "Away",
             "BKN",
             2.0,
             false,
             true,
             0,
             4,
             "Away vs BKN"
            ],
            [
             "2025-02-24",
             "Home",
             "MIN",
             1.0,
             true,
             false,
             2,
             3,
             "Home vs MIN"
            ],
            [
             "2025-02-23",
             "Away",
             "MIN",
             2.0,
             false,
             false,
             1,
             2,
             "Away vs MIN"
            ],
            [
             "2025-02-21",
             "Away",
             "UTA",
             8.0,
             false,
             false,
             0,
             1,
             "Away vs UTA"
            ],
            [
             "2025-02-13",
             "Away",
             "MIN",
             1.0,
             true,
             true,
             2,
             4,
             "Away vs MIN"
            ],
            [
             "2025-02-12",
             "Home",
             "MIA",
             2.0,
             false,
             true,
             1,
             4,
             "Home vs MIA"
            ],
            [
             "2025-02-10",
             "Home",
             "NOP",
             2.0,
             false,
             true,
             0,
             4,
             "Home vs NOP"
            ],
            [
             "2025-02-08",
             "Away",
             "MEM",
             1.0,
             true,
             true,
             2,
             4,
             "Away vs MEM"
            ],
            [
             "2025-02-07",
             "Home",
             "TOR",
             2.0,
             false,
             false,
             1,
             3,
             "Home vs TOR"
            ],
            [
             "2025-02-05",
             "Home",
             "PHX",
             2.0,
             false,
             false,
             0,
             3,
             "Home vs PHX"
            ],
            [
             "2025-02-03",
             "Home",
             "MIL",
             2.0,
             false,
             false,
             0,
             3,
             "Home vs MIL"
            ],
            [
             "2025-02-01",
             "Home",
             "SAC",
             3.0,
             false,
             false,
             0,
             2,
             "Home vs SAC"
            ],
            [
             "2025-01-29",
             "Away",
             "GSW",
             3.0,
             false,
             false,
             0,
             2,
             "Away vs GSW"
            ],
            [
             "2025-01-26",
             "Away",
             "POR",
             3.0,
             false,
             false,
             0,
             3,
             "Away vs POR"
            ],
            [
             "2025-01-23",
             "Home",
             "DAL",
             1.0,
             true,
             false,
             2,
             3,
             "Home vs DAL"
            ],
            [
             "2025-01-22",
             "Home",
             "UTA",
             3.0,
             false,
             false,
             1,
             3,
             "Home vs UTA"
            ],
            [
             "2025-01-19",
             "Home",
             "BKN",
             2.0,
             false,
             true,
             0,
             4,
             "Home vs BKN"
            ],
            [
             "2025-01-17",
             "Away",
             "DAL",
             1.0,
             true,
             true,
             2,
             4,
             "Away vs DAL"
            ],
            [
             "2025-01-16",
             "Home",
             "CLE",
             2.0,
             false,
             false,
             1,
             3,
             "Home vs CLE"
            ],
            [
             "2025-01-14",
             "Away",
             "PHI",
             2.0,
             false,
             false,
             0,
             3,
             "Away vs PHI"
            ],
            [
             "2025-01-12",
             "Away",
             "WAS",
             2.0,
             false,
             false,
             0,
             3,
             "Away vs WAS"
            ],
            [
             "2025-01-10",
             "Away",
             "NYK",
             2.0,
             false,
             false,
             0,
             3,
             "Away vs NYK"
            ],
            [
             "2025-01-08",
             "Away",
             "CLE",
             3.0,
             false,
             false,
             0,
             3,
             "Away vs CLE"
            ],
            [
             "2025-01-05",
             "Home",
             "BOS",
             2.0,
             false,
             true,
             0,
             4,
             "Home vs BOS"
            ],
            [
             "2025-01-03",
             "Home",
             "NYK",
             1.0,
             true,
             true,
             2,
             4,
             "Home vs NYK"
            ],
            [
             "2025-01-02",
             "Home",
             "LAC",
             2.0,
             false,
             true,
             1,
             4,
             "Home vs LAC"
            ],
            [
             "2024-12-31",
             "Home",
             "MIN",
             2.0,
             false,
             true,
             0,
             4,
             "Home vs MIN"
            ],
            [
             "2024-12-29",
             "Home",
             "MEM",
             1.0,
             true,
             false,
             2,
             3,
             "Home vs MEM"
            ],
            [
             "2024-12-28",
             "Away",
             "CHA",
             2.0,
             false,
             false,
             1,
             3,
             "Away vs CHA"
            ],
            [
             "2024-12-26",
             "Away",
             "IND",
             3.0,
             false,
             false,
             0,
             2,
             "Away vs IND"
            ],
            [
             "2024-12-23",
             "Home",
             "WAS",
             3.0,
             false,
             false,
             0,
             3,
             "Home vs WAS"
            ],
            [
             "2024-12-20",
             "Away",
             "MIA",
             1.0,
             true,
             false,
             2,
             2,
             "Away vs MIA"
            ],
            [
             "2024-12-19",
             "Away",
             "ORL",
             12.0,
             false,
             false,
             1,
             1,
             "Away vs ORL"
            ],
            [
             "2024-12-07",
             "Away",
             "NOP",
             2.0,
             false,
             false,
             0,
             3,
             "Away vs NOP"
            ],
            [
             "2024-12-05",
             "Away",
             "TOR",
             2.0,
             false,
             false,
             0,
             3,
             "Away vs TOR"
            ],
            [
             "2024-12-03",
             "Home",
             "UTA",
             2.0,
             false,
             false,
             0,
             3,
             "Home vs UTA"
            ],
            [
             "2024-12-01",
             "Away",
             "HOU",
             2.0,
             false,
             false,
             0,
             3,
             "Away vs HOU"
            ],
            [
             "2024-11-29",
             "Away",
             "LAL",
             2.0,
             false,
             false,
             0,
             3,
             "Away vs LAL"
            ],
            [
             "2024-11-27",
             "Away",
             "GSW",
             2.0,
             false,
             false,
             0,
             2,
             "Away vs GSW"
            ],
            [
             "2024-11-25",
             "Away",
             "SAC",
             5.0,
             false,
             false,
             0,
             2,
             "Away vs SAC"
            ],
            [
             "2024-11-20",
             "Home",
             "POR",
             1.0,
             true,
             true,
             2,
             4,
             "Home vs POR"
            ],
            [
             "2024-11-19",
             "Away",
             "SAS",
             2.0,
             false,
             false,
             1,
             3,
             "Away vs SAS"
            ],
            [
             "2024-11-17",
             "Home",
             "DAL",
             2.0,
             false,
             false,
             0,
             3,
             "Home vs DAL"
            ],
            [
             "2024-11-15",
             "Home",
             "PHX",
             2.0,
             false,
             true,
             0,
             4,
             "Home vs PHX"
            ],
            [
             "2024-11-13",
             "Home",
             "NOP",
             2.0,
             false,
             true,
             0,
             4,
             "Home vs NOP"
            ],
            [
             "2024-11-11",
             "Home",
             "LAC",
             1.0,
             true,
             true,
             2,
             4,
             "Home vs LAC"
            ],
            [
             "2024-11-10",
             "Home",
             "GSW",
             2.0,
             false,
             false,
             1,
             3,
             "Home vs GSW"
            ],
            [
             "2024-11-08",
             "Home",
             "HOU",
             2.0,
             false,
             false,
             0,
             3,
             "Home vs HOU"
            ],
            [
             "2024-11-06",
             "Away",
             "DEN",
             2.0,
             false,
             true,
             0,
             4,
             "Away vs DEN"
            ],
            [
             "2024-11-04",
             "Home",
             "ORL",
             2.0,
             false,
             true,
             0,
             4,
             "Home vs ORL"
            ],
            [
             "2024-11-02",
             "Away",
             "LAC",
             1.0,
             true,
             false,
             2,
             3,
             "Away vs LAC"
            ],
            [
             "2024-11-01",
             "Away",
             "POR",
             2.0,
             false,
             false,
             1,
             3,
             "Away vs POR"
            ],
            [
             "2024-10-30",
             "Home",
             "SAS",
             3.0,
             false,
             false,
             0,
             3,
             "Home vs SAS"
            ],
            [
             "2024-10-27",
             "Home",
             "ATL",
             1.0,
             true,
             false,
             2,
             3,
             "Home vs ATL"
            ],
            [
             "2024-10-26",
             "Away",
             "CHI",
             2.0,
             false,
             false,
             1,
             2,
             "Away vs CHI"
            ],
            [
             "2024-10-24",
             "Away",
             "DEN",
             0.0,
             false,
             false,
             0,
             1,
             "Away vs DEN"
            ]
           ],
           "hovertemplate": "gamedate=%{customdata[0]}<br>home_away=%{customdata[1]}<br>opponent=%{customdata[2]}<br>rest_days=%{customdata[3]}<br>b2b=%{customdata[4]}<br>4in6=%{customdata[5]}<br>b2b_range=%{customdata[6]}<br>games_last6=%{marker.color}<extra></extra>",
           "insidetextanchor": "start",
           "legendgroup": "",
           "marker": {
            "color": {
             "dtype": "i1",
             "bdata": "BAQEAwMDAwMDAwMDAwMDAwQEAwQEBAMEBAMCAQQEBAQDAwMCAgMDAwQEAwMDAwMEBAQEAwMCAwIBAwMDAwMCAgQDAwQEBAMDBAQDAwMDAgE="
            },
            "coloraxis": "coloraxis",
            "pattern": {
             "shape": ""
            }
           },
           "name": "",
           "orientation": "h",
           "showlegend": false,
           "text": [
            "Away vs NOP",
            "Away vs UTA",
            "Away vs PHX",
            "Home vs LAL",
            "Home vs LAL",
            "Away vs HOU",
            "Home vs DET",
            "Home vs CHI",
            "Home vs IND",
            "Home vs MEM",
            "Away vs SAC",
            "Away vs LAC",
            "Home vs CHA",
            "Home vs PHI",
            "Away vs MIL",
            "Away vs DET",
            "Away vs BOS",
            "Home vs DEN",
            "Home vs DEN",
            "Home vs POR",
            "Away vs MEM",
            "Home vs HOU",
            "Away vs SAS",
            "Away vs ATL",
            "Away vs BKN",
            "Home vs MIN",
            "Away vs MIN",
            "Away vs UTA",
            "Away vs MIN",
            "Home vs MIA",
            "Home vs NOP",
            "Away vs MEM",
            "Home vs TOR",
            "Home vs PHX",
            "Home vs MIL",
            "Home vs SAC",
            "Away vs GSW",
            "Away vs POR",
            "Home vs DAL",
            "Home vs UTA",
            "Home vs BKN",
            "Away vs DAL",
            "Home vs CLE",
            "Away vs PHI",
            "Away vs WAS",
            "Away vs NYK",
            "Away vs CLE",
            "Home vs BOS",
            "Home vs NYK",
            "Home vs LAC",
            "Home vs MIN",
            "Home vs MEM",
            "Away vs CHA",
            "Away vs IND",
            "Home vs WAS",
            "Away vs MIA",
            "Away vs ORL",
            "Away vs NOP",
            "Away vs TOR",
            "Home vs UTA",
            "Away vs HOU",
            "Away vs LAL",
            "Away vs GSW",
            "Away vs SAC",
            "Home vs POR",
            "Away vs SAS",
            "Home vs DAL",
            "Home vs PHX",
            "Home vs NOP",
            "Home vs LAC",
            "Home vs GSW",
            "Home vs HOU",
            "Away vs DEN",
            "Home vs ORL",
            "Away vs LAC",
            "Away vs POR",
            "Home vs SAS",
            "Home vs ATL",
            "Away vs CHI",
            "Away vs DEN"
           ],
           "textposition": "inside",
           "x": {
            "dtype": "i4",
            "bdata": "AFwmBQBcJgUAXCYFAFwmBQBcJgUAXCYFAFwmBQBcJgUAXCYFAFwmBQBcJgUAXCYFAFwmBQBcJgUAXCYFAFwmBQBcJgUAXCYFAFwmBQBcJgUAXCYFAFwmBQBcJgUAXCYFAFwmBQBcJgUAXCYFAFwmBQBcJgUAXCYFAFwmBQBcJgUAXCYFAFwmBQBcJgUAXCYFAFwmBQBcJgUAXCYFAFwmBQBcJgUAXCYFAFwmBQBcJgUAXCYFAFwmBQBcJgUAXCYFAFwmBQBcJgUAXCYFAFwmBQBcJgUAXCYFAFwmBQBcJgUAXCYFAFwmBQBcJgUAXCYFAFwmBQBcJgUAXCYFAFwmBQBcJgUAXCYFAFwmBQBcJgUAXCYFAFwmBQBcJgUAXCYFAFwmBQBcJgUAXCYFAFwmBQBcJgUAXCYFAFwmBQBcJgU="
           },
           "xaxis": "x",
           "y": [
            "4-in-6",
            "4-in-6",
            "Back-to-Back",
            "Back-to-Back",
            "4-in-6",
            "4-in-6",
            "Normal",
            "Normal",
            "Normal",
            "Normal",
            "Normal",
            "Normal",
            "Normal",
            "Normal",
            "Back-to-Back",
            "Back-to-Back",
            "4-in-6",
            "Back-to-Back",
            "Back-to-Back",
            "4-in-6",
            "4-in-6",
            "Back-to-Back",
            "Back-to-Back",
            "4-in-6",
            "4-in-6",
            "Back-to-Back",
            "Back-to-Back",
            "4-in-6",
            "Back-to-Back",
            "Back-to-Back",
            "4-in-6",
            "Back-to-Back",
            "Back-to-Back",
            "4-in-6",
            "4-in-6",
            "Normal",
            "Normal",
            "Normal",
            "Back-to-Back",
            "Back-to-Back",
            "4-in-6",
            "Back-to-Back",
            "Back-to-Back",
            "4-in-6",
            "4-in-6",
            "Normal",
            "Normal",
            "4-in-6",
            "Back-to-Back",
            "Back-to-Back",
            "4-in-6",
            "Back-to-Back",
            "Back-to-Back",
            "4-in-6",
            "Normal",
            "Back-to-Back",
            "Back-to-Back",
            "Normal",
            "Normal",
            "Normal",
            "Normal",
            "Normal",
            "Normal",
            "Normal",
            "Back-to-Back",
            "Back-to-Back",
            "4-in-6",
            "4-in-6",
            "4-in-6",
            "Back-to-Back",
            "Back-to-Back",
            "4-in-6",
            "4-in-6",
            "4-in-6",
            "Back-to-Back",
            "Back-to-Back",
            "4-in-6",
            "Back-to-Back",
            "Back-to-Back",
            "Normal"
           ],
           "yaxis": "y",
           "type": "bar"
          }
         ],
         "layout": {
          "title": {
           "text": "OKC Schedule Density (2024 Season)"
          }
         },
         "name": "OKC"
        }
       ],
       "config": {
        "plotlyServerURL": "https://plot.ly"
       }
      }
     },
     "metadata": {},
     "output_type": "display_data"
    }
   ],
   "execution_count": 189
  },
  {
   "cell_type": "markdown",
   "metadata": {},
   "source": [
    "The 2024-25 season open with a tight schedule, but having 6 home game streak around mid Nov(8 ~17) and following with lighter schedule (after Nov-20 till Dec 18) definitely make it more manageable.\n",
    "  The toughest part of the season come around the end of Feb till Mar 16, with 8 back-to-back, mostly guest games pack in a month. Team should be ready and comes up with careful rotation and rest days plan to avoid risk of injure.\n",
    "  Good thing is that right after the most taxing period, comes the best schedule in the season. From Mar-19 till Apr-02 we have 8 games, no 4_in_6 or back-to-back, and 6 home games. This is especially good to offsetting some load and getting our focus on play-off preparation."
   ]
  },
  {
   "cell_type": "markdown",
   "metadata": {},
   "source": [
    "## Schedule Impact\n",
    "\n",
    "Estimate how many more/fewer regular season wins each team has had due to schedule-related factors.\n",
    "I use data from season 2019-20 though 2023-24"
   ]
  },
  {
   "metadata": {},
   "cell_type": "markdown",
   "source": [
    "To quantify how much travel and schedule density affect win probability, I choose to use a logistic regression model.\n",
    "The dependent variable is `win`, and the independent variables are schedule factors and team strength.\n",
    "\n",
    "First I will train the model using train data from the years we don't need. And use test data to evaluate it.\n",
    "Then I use the model to predict win without any effect from schedule, and compare the result with the actual data.\n",
    "The difference between predicted and actual win will help us quantify the effect of schedule."
   ]
  },
  {
   "cell_type": "code",
   "metadata": {
    "ExecuteTime": {
     "end_time": "2025-08-24T05:27:08.885805Z",
     "start_time": "2025-08-24T05:26:52.897406Z"
    }
   },
   "source": [
    "# prepare features for model\n",
    "team_schdule = schedule.copy()\n",
    "team_schdule['gamedate'] = pd.to_datetime(team_schdule['gamedate'])\n",
    "ts = build_team_schedule(team_schdule)\n",
    "\n",
    "ts['home_team'] = ts.apply(lambda r: r['team'] if r['home'] ==1 else r['opponent'], axis=1)\n",
    "ts['from_city'] = ts.apply(lambda r: r['opponent'] if r['rest_days'] < 3 else r['team'],axis=1)\n",
    "\n",
    "#seasonal_winrate\n",
    "winrate_map = pd.DataFrame(seasons).merge(pd.DataFrame(teams), how = 'cross').copy()\n",
    "winrate_map.rename(columns={'0_x':'season', '0_y':'team'}, inplace=True)\n",
    "for season in seasons:\n",
    "    for team in teams:\n",
    "        season_team_schedule = schedule[(schedule['team']==team) & (schedule['season']==season)]\n",
    "        winrate = round(sum(season_team_schedule['win'])*100 / len(season_team_schedule),1)\n",
    "        winrate_map.loc[(winrate_map['season'] == season) & (winrate_map['team']==team),'winrate'] = winrate\n",
    "\n",
    "ts = ts.merge(winrate_map, how='left', on=['season','team'])\n",
    "ts = ts.merge(winrate_map, how='left', left_on=['season','opponent'], right_on=['season','team'])\n",
    "\n",
    "ts.info()"
   ],
   "outputs": [
    {
     "name": "stdout",
     "output_type": "stream",
     "text": [
      "<class 'pandas.core.frame.DataFrame'>\n",
      "RangeIndex: 23958 entries, 0 to 23957\n",
      "Data columns (total 23 columns):\n",
      " #   Column       Non-Null Count  Dtype         \n",
      "---  ------       --------------  -----         \n",
      " 0   season       23958 non-null  int64         \n",
      " 1   gamedate     23958 non-null  object        \n",
      " 2   team_x       23958 non-null  object        \n",
      " 3   opponent     23958 non-null  object        \n",
      " 4   home         23958 non-null  int64         \n",
      " 5   win          23958 non-null  int64         \n",
      " 6   prev_date    23957 non-null  datetime64[ns]\n",
      " 7   rest_days    23958 non-null  float64       \n",
      " 8   b2b          23958 non-null  bool          \n",
      " 9   4in6         23958 non-null  bool          \n",
      " 10  b2b_range    23958 non-null  int64         \n",
      " 11  4in6_range   23958 non-null  int64         \n",
      " 12  games_last6  23958 non-null  int64         \n",
      " 13  category     23958 non-null  object        \n",
      " 14  home_away    23958 non-null  object        \n",
      " 15  text         23958 non-null  object        \n",
      " 16  start        23958 non-null  object        \n",
      " 17  end          23958 non-null  object        \n",
      " 18  home_team    23958 non-null  object        \n",
      " 19  from_city    23958 non-null  object        \n",
      " 20  winrate_x    23958 non-null  float64       \n",
      " 21  team_y       23958 non-null  object        \n",
      " 22  winrate_y    23958 non-null  float64       \n",
      "dtypes: bool(2), datetime64[ns](1), float64(3), int64(6), object(11)\n",
      "memory usage: 3.9+ MB\n"
     ]
    }
   ],
   "execution_count": 190
  },
  {
   "metadata": {
    "ExecuteTime": {
     "end_time": "2025-08-24T05:27:08.917297Z",
     "start_time": "2025-08-24T05:27:08.897293Z"
    }
   },
   "cell_type": "code",
   "source": [
    "ts.rename(columns={\n",
    "    'team_x':'team',\n",
    "    'winrate_x':'team_winrate',\n",
    "    'winrate_y': 'opponent_winrate',\n",
    "    '4in6_range': 'f4in6_range'\n",
    "}, inplace=True)\n",
    "\n",
    "ts.drop(columns=['prev_date', 'category', 'home_away', 'text','start','end','team_y','4in6','b2b'], inplace=True)\n",
    "ts.head()"
   ],
   "outputs": [
    {
     "data": {
      "text/plain": [
       "   season    gamedate team opponent  home  win  rest_days  b2b_range  \\\n",
       "0    2023  2024-04-14  MIA      TOR     1    1        0.0          0   \n",
       "1    2023  2024-04-14  LAC      HOU     1    0        0.0          0   \n",
       "2    2023  2024-04-14  ORL      MIL     1    1        0.0          0   \n",
       "3    2023  2024-04-14  ATL      IND     0    0        0.0          0   \n",
       "4    2023  2024-04-14  NOP      LAL     1    0        0.0          0   \n",
       "\n",
       "   f4in6_range  games_last6 home_team from_city  team_winrate  \\\n",
       "0            4            4       MIA       TOR          56.1   \n",
       "1            4            4       LAC       HOU          62.2   \n",
       "2            4            4       ORL       MIL          57.3   \n",
       "3            4            4       IND       IND          43.9   \n",
       "4            4            4       NOP       LAL          59.8   \n",
       "\n",
       "   opponent_winrate  \n",
       "0              30.5  \n",
       "1              50.0  \n",
       "2              59.8  \n",
       "3              57.3  \n",
       "4              57.3  "
      ],
      "text/html": [
       "<div>\n",
       "<style scoped>\n",
       "    .dataframe tbody tr th:only-of-type {\n",
       "        vertical-align: middle;\n",
       "    }\n",
       "\n",
       "    .dataframe tbody tr th {\n",
       "        vertical-align: top;\n",
       "    }\n",
       "\n",
       "    .dataframe thead th {\n",
       "        text-align: right;\n",
       "    }\n",
       "</style>\n",
       "<table border=\"1\" class=\"dataframe\">\n",
       "  <thead>\n",
       "    <tr style=\"text-align: right;\">\n",
       "      <th></th>\n",
       "      <th>season</th>\n",
       "      <th>gamedate</th>\n",
       "      <th>team</th>\n",
       "      <th>opponent</th>\n",
       "      <th>home</th>\n",
       "      <th>win</th>\n",
       "      <th>rest_days</th>\n",
       "      <th>b2b_range</th>\n",
       "      <th>f4in6_range</th>\n",
       "      <th>games_last6</th>\n",
       "      <th>home_team</th>\n",
       "      <th>from_city</th>\n",
       "      <th>team_winrate</th>\n",
       "      <th>opponent_winrate</th>\n",
       "    </tr>\n",
       "  </thead>\n",
       "  <tbody>\n",
       "    <tr>\n",
       "      <th>0</th>\n",
       "      <td>2023</td>\n",
       "      <td>2024-04-14</td>\n",
       "      <td>MIA</td>\n",
       "      <td>TOR</td>\n",
       "      <td>1</td>\n",
       "      <td>1</td>\n",
       "      <td>0.0</td>\n",
       "      <td>0</td>\n",
       "      <td>4</td>\n",
       "      <td>4</td>\n",
       "      <td>MIA</td>\n",
       "      <td>TOR</td>\n",
       "      <td>56.1</td>\n",
       "      <td>30.5</td>\n",
       "    </tr>\n",
       "    <tr>\n",
       "      <th>1</th>\n",
       "      <td>2023</td>\n",
       "      <td>2024-04-14</td>\n",
       "      <td>LAC</td>\n",
       "      <td>HOU</td>\n",
       "      <td>1</td>\n",
       "      <td>0</td>\n",
       "      <td>0.0</td>\n",
       "      <td>0</td>\n",
       "      <td>4</td>\n",
       "      <td>4</td>\n",
       "      <td>LAC</td>\n",
       "      <td>HOU</td>\n",
       "      <td>62.2</td>\n",
       "      <td>50.0</td>\n",
       "    </tr>\n",
       "    <tr>\n",
       "      <th>2</th>\n",
       "      <td>2023</td>\n",
       "      <td>2024-04-14</td>\n",
       "      <td>ORL</td>\n",
       "      <td>MIL</td>\n",
       "      <td>1</td>\n",
       "      <td>1</td>\n",
       "      <td>0.0</td>\n",
       "      <td>0</td>\n",
       "      <td>4</td>\n",
       "      <td>4</td>\n",
       "      <td>ORL</td>\n",
       "      <td>MIL</td>\n",
       "      <td>57.3</td>\n",
       "      <td>59.8</td>\n",
       "    </tr>\n",
       "    <tr>\n",
       "      <th>3</th>\n",
       "      <td>2023</td>\n",
       "      <td>2024-04-14</td>\n",
       "      <td>ATL</td>\n",
       "      <td>IND</td>\n",
       "      <td>0</td>\n",
       "      <td>0</td>\n",
       "      <td>0.0</td>\n",
       "      <td>0</td>\n",
       "      <td>4</td>\n",
       "      <td>4</td>\n",
       "      <td>IND</td>\n",
       "      <td>IND</td>\n",
       "      <td>43.9</td>\n",
       "      <td>57.3</td>\n",
       "    </tr>\n",
       "    <tr>\n",
       "      <th>4</th>\n",
       "      <td>2023</td>\n",
       "      <td>2024-04-14</td>\n",
       "      <td>NOP</td>\n",
       "      <td>LAL</td>\n",
       "      <td>1</td>\n",
       "      <td>0</td>\n",
       "      <td>0.0</td>\n",
       "      <td>0</td>\n",
       "      <td>4</td>\n",
       "      <td>4</td>\n",
       "      <td>NOP</td>\n",
       "      <td>LAL</td>\n",
       "      <td>59.8</td>\n",
       "      <td>57.3</td>\n",
       "    </tr>\n",
       "  </tbody>\n",
       "</table>\n",
       "</div>"
      ]
     },
     "execution_count": 191,
     "metadata": {},
     "output_type": "execute_result"
    }
   ],
   "execution_count": 191
  },
  {
   "metadata": {
    "ExecuteTime": {
     "end_time": "2025-08-24T05:27:08.932312Z",
     "start_time": "2025-08-24T05:27:08.923298Z"
    }
   },
   "cell_type": "code",
   "source": [
    "# use the following command to install haversine if you didn't have it\n",
    "# pip install haversine"
   ],
   "outputs": [],
   "execution_count": 192
  },
  {
   "metadata": {
    "ExecuteTime": {
     "end_time": "2025-08-24T05:27:08.963468Z",
     "start_time": "2025-08-24T05:27:08.938299Z"
    }
   },
   "cell_type": "code",
   "source": [
    "# this function is for converting (lat, lon) into distant\n",
    "from haversine import  haversine, Unit\n",
    "\n",
    "locations_distance = locations.copy()\n",
    "locations_distance['lat_lon'] = list(zip(locations_distance['latitude'],locations_distance['longitude']))\n",
    "\n",
    "loc_cross = locations_distance.merge(locations_distance , how='cross',)\n",
    "loc_cross['distant'] = round(loc_cross.apply(lambda r: haversine(r['lat_lon_x'], r['lat_lon_y'], unit=Unit.MILES),axis=1),1)\n",
    "\n",
    "tz_to_offset = {'Eastern': -5, 'Central': -6, 'Mountain': -7, 'Pacific': -8}\n",
    "loc_cross['zone_diff'] = loc_cross.apply(lambda r: tz_to_offset[r['timezone_x']] - tz_to_offset[r['timezone_y']], axis=1)"
   ],
   "outputs": [],
   "execution_count": 193
  },
  {
   "metadata": {
    "ExecuteTime": {
     "end_time": "2025-08-24T05:27:08.979467Z",
     "start_time": "2025-08-24T05:27:08.970500Z"
    }
   },
   "cell_type": "code",
   "source": "loc_cross[['team_x','team_y','distant', 'zone_diff']]",
   "outputs": [
    {
     "data": {
      "text/plain": [
       "    team_x team_y  distant  zone_diff\n",
       "0      ATL    ATL      0.0          0\n",
       "1      ATL    BOS    936.1          0\n",
       "2      ATL    BKN    745.8          0\n",
       "3      ATL    CHA    226.5          0\n",
       "4      ATL    CHI    589.0          1\n",
       "..     ...    ...      ...        ...\n",
       "895    WAS    SAC   2372.8          3\n",
       "896    WAS    SAS   1383.4          1\n",
       "897    WAS    TOR    350.0          0\n",
       "898    WAS    UTA   1843.0          2\n",
       "899    WAS    WAS      0.0          0\n",
       "\n",
       "[900 rows x 4 columns]"
      ],
      "text/html": [
       "<div>\n",
       "<style scoped>\n",
       "    .dataframe tbody tr th:only-of-type {\n",
       "        vertical-align: middle;\n",
       "    }\n",
       "\n",
       "    .dataframe tbody tr th {\n",
       "        vertical-align: top;\n",
       "    }\n",
       "\n",
       "    .dataframe thead th {\n",
       "        text-align: right;\n",
       "    }\n",
       "</style>\n",
       "<table border=\"1\" class=\"dataframe\">\n",
       "  <thead>\n",
       "    <tr style=\"text-align: right;\">\n",
       "      <th></th>\n",
       "      <th>team_x</th>\n",
       "      <th>team_y</th>\n",
       "      <th>distant</th>\n",
       "      <th>zone_diff</th>\n",
       "    </tr>\n",
       "  </thead>\n",
       "  <tbody>\n",
       "    <tr>\n",
       "      <th>0</th>\n",
       "      <td>ATL</td>\n",
       "      <td>ATL</td>\n",
       "      <td>0.0</td>\n",
       "      <td>0</td>\n",
       "    </tr>\n",
       "    <tr>\n",
       "      <th>1</th>\n",
       "      <td>ATL</td>\n",
       "      <td>BOS</td>\n",
       "      <td>936.1</td>\n",
       "      <td>0</td>\n",
       "    </tr>\n",
       "    <tr>\n",
       "      <th>2</th>\n",
       "      <td>ATL</td>\n",
       "      <td>BKN</td>\n",
       "      <td>745.8</td>\n",
       "      <td>0</td>\n",
       "    </tr>\n",
       "    <tr>\n",
       "      <th>3</th>\n",
       "      <td>ATL</td>\n",
       "      <td>CHA</td>\n",
       "      <td>226.5</td>\n",
       "      <td>0</td>\n",
       "    </tr>\n",
       "    <tr>\n",
       "      <th>4</th>\n",
       "      <td>ATL</td>\n",
       "      <td>CHI</td>\n",
       "      <td>589.0</td>\n",
       "      <td>1</td>\n",
       "    </tr>\n",
       "    <tr>\n",
       "      <th>...</th>\n",
       "      <td>...</td>\n",
       "      <td>...</td>\n",
       "      <td>...</td>\n",
       "      <td>...</td>\n",
       "    </tr>\n",
       "    <tr>\n",
       "      <th>895</th>\n",
       "      <td>WAS</td>\n",
       "      <td>SAC</td>\n",
       "      <td>2372.8</td>\n",
       "      <td>3</td>\n",
       "    </tr>\n",
       "    <tr>\n",
       "      <th>896</th>\n",
       "      <td>WAS</td>\n",
       "      <td>SAS</td>\n",
       "      <td>1383.4</td>\n",
       "      <td>1</td>\n",
       "    </tr>\n",
       "    <tr>\n",
       "      <th>897</th>\n",
       "      <td>WAS</td>\n",
       "      <td>TOR</td>\n",
       "      <td>350.0</td>\n",
       "      <td>0</td>\n",
       "    </tr>\n",
       "    <tr>\n",
       "      <th>898</th>\n",
       "      <td>WAS</td>\n",
       "      <td>UTA</td>\n",
       "      <td>1843.0</td>\n",
       "      <td>2</td>\n",
       "    </tr>\n",
       "    <tr>\n",
       "      <th>899</th>\n",
       "      <td>WAS</td>\n",
       "      <td>WAS</td>\n",
       "      <td>0.0</td>\n",
       "      <td>0</td>\n",
       "    </tr>\n",
       "  </tbody>\n",
       "</table>\n",
       "<p>900 rows × 4 columns</p>\n",
       "</div>"
      ]
     },
     "execution_count": 194,
     "metadata": {},
     "output_type": "execute_result"
    }
   ],
   "execution_count": 194
  },
  {
   "metadata": {
    "ExecuteTime": {
     "end_time": "2025-08-24T05:27:09.010202Z",
     "start_time": "2025-08-24T05:27:08.993475Z"
    }
   },
   "cell_type": "code",
   "source": [
    "#merge location distant, zone_diff with ts base on from city and home team\n",
    "loc_sche_merge = ts.merge(\n",
    "    loc_cross[['team_x','team_y','distant', 'zone_diff']],\n",
    "    how= 'left', left_on=['from_city','home_team'], right_on=['team_x','team_y']\n",
    ")\n",
    "loc_sche_merge.drop(['team_x','team_y'], axis=1, inplace=True)"
   ],
   "outputs": [],
   "execution_count": 195
  },
  {
   "metadata": {
    "ExecuteTime": {
     "end_time": "2025-08-24T05:27:09.025228Z",
     "start_time": "2025-08-24T05:27:09.016200Z"
    }
   },
   "cell_type": "code",
   "source": [
    "train_df = loc_sche_merge[loc_sche_merge[\"season\"].between(2014, 2018)].copy()\n",
    "test_df  = loc_sche_merge[loc_sche_merge[\"season\"].between(2019, 2023)].copy()"
   ],
   "outputs": [],
   "execution_count": 196
  },
  {
   "metadata": {
    "ExecuteTime": {
     "end_time": "2025-08-24T05:27:09.120788Z",
     "start_time": "2025-08-24T05:27:09.033202Z"
    }
   },
   "cell_type": "code",
   "source": [
    "import statsmodels.formula.api as smf\n",
    "\n",
    "formula = \"\"\"\n",
    "    win ~ rest_days\n",
    "         + C(b2b_range)\n",
    "         + C(f4in6_range)\n",
    "         + games_last6\n",
    "         + distant\n",
    "         + zone_diff\n",
    "         + home\n",
    "         + team_winrate\n",
    "         + opponent_winrate\n",
    "\"\"\"\n",
    "\n",
    "# fit logistic regression\n",
    "model = smf.logit(formula=formula, data=train_df).fit()\n",
    "\n",
    "print(model.summary())"
   ],
   "outputs": [
    {
     "name": "stdout",
     "output_type": "stream",
     "text": [
      "Optimization terminated successfully.\n",
      "         Current function value: 0.580026\n",
      "         Iterations 5\n",
      "                           Logit Regression Results                           \n",
      "==============================================================================\n",
      "Dep. Variable:                    win   No. Observations:                12300\n",
      "Model:                          Logit   Df Residuals:                    12286\n",
      "Method:                           MLE   Df Model:                           13\n",
      "Date:                Sun, 24 Aug 2025   Pseudo R-squ.:                  0.1632\n",
      "Time:                        01:27:09   Log-Likelihood:                -7134.3\n",
      "converged:                       True   LL-Null:                       -8525.7\n",
      "Covariance Type:            nonrobust   LLR p-value:                     0.000\n",
      "=======================================================================================\n",
      "                          coef    std err          z      P>|z|      [0.025      0.975]\n",
      "---------------------------------------------------------------------------------------\n",
      "Intercept              -0.3566      0.178     -1.998      0.046      -0.706      -0.007\n",
      "C(b2b_range)[T.1]      -0.1248      0.081     -1.542      0.123      -0.283       0.034\n",
      "C(b2b_range)[T.2]      -0.0634      0.081     -0.784      0.433      -0.222       0.095\n",
      "C(f4in6_range)[T.1]     0.0588      0.073      0.806      0.420      -0.084       0.202\n",
      "C(f4in6_range)[T.2]    -0.0260      0.071     -0.368      0.713      -0.164       0.112\n",
      "C(f4in6_range)[T.3]     0.0058      0.066      0.089      0.929      -0.123       0.134\n",
      "C(f4in6_range)[T.4]    -0.0257      0.082     -0.313      0.754      -0.187       0.135\n",
      "rest_days               0.0025      0.007      0.376      0.707      -0.011       0.016\n",
      "games_last6            -0.0139      0.052     -0.267      0.790      -0.116       0.088\n",
      "distant             -6.933e-05   4.52e-05     -1.533      0.125      -0.000    1.93e-05\n",
      "zone_diff               0.0226      0.020      1.116      0.264      -0.017       0.062\n",
      "home                    0.9012      0.063     14.408      0.000       0.779       1.024\n",
      "team_winrate            0.0477      0.001     32.661      0.000       0.045       0.051\n",
      "opponent_winrate       -0.0476      0.001    -32.597      0.000      -0.050      -0.045\n",
      "=======================================================================================\n"
     ]
    }
   ],
   "execution_count": 197
  },
  {
   "metadata": {
    "ExecuteTime": {
     "end_time": "2025-08-24T05:27:09.134788Z",
     "start_time": "2025-08-24T05:27:09.128788Z"
    }
   },
   "cell_type": "code",
   "source": [
    "summary_table = pd.DataFrame({\n",
    "    \"Variable\": model.params.index,\n",
    "    \"Coefficient\": model.params.values,\n",
    "    \"Odds Ratio\": np.exp(model.params.values),\n",
    "    \"p-value\": model.pvalues.values\n",
    "})\n",
    "\n",
    "print(summary_table)"
   ],
   "outputs": [
    {
     "name": "stdout",
     "output_type": "stream",
     "text": [
      "               Variable  Coefficient  Odds Ratio        p-value\n",
      "0             Intercept    -0.356621    0.700038   4.570185e-02\n",
      "1     C(b2b_range)[T.1]    -0.124780    0.882691   1.229660e-01\n",
      "2     C(b2b_range)[T.2]    -0.063412    0.938556   4.328968e-01\n",
      "3   C(f4in6_range)[T.1]     0.058753    1.060513   4.201340e-01\n",
      "4   C(f4in6_range)[T.2]    -0.025983    0.974351   7.128967e-01\n",
      "5   C(f4in6_range)[T.3]     0.005847    1.005864   9.289501e-01\n",
      "6   C(f4in6_range)[T.4]    -0.025727    0.974601   7.542621e-01\n",
      "7             rest_days     0.002514    1.002517   7.070063e-01\n",
      "8           games_last6    -0.013872    0.986223   7.895817e-01\n",
      "9               distant    -0.000069    0.999931   1.252358e-01\n",
      "10            zone_diff     0.022568    1.022825   2.643190e-01\n",
      "11                 home     0.901178    2.462502   4.578292e-47\n",
      "12         team_winrate     0.047683    1.048838  5.624235e-234\n",
      "13     opponent_winrate    -0.047634    0.953482  4.574832e-233\n"
     ]
    }
   ],
   "execution_count": 198
  },
  {
   "metadata": {},
   "cell_type": "markdown",
   "source": "Compare to other feature, 3rd, 4th game in 4_in_6 streak and having home advantage are the most influence factor to winrate."
  },
  {
   "metadata": {
    "ExecuteTime": {
     "end_time": "2025-08-24T05:27:09.182794Z",
     "start_time": "2025-08-24T05:27:09.142789Z"
    }
   },
   "cell_type": "code",
   "source": [
    "from sklearn.metrics import roc_curve, roc_auc_score\n",
    "test_df[\"pred_test\"] = model.predict(test_df)\n",
    "\n",
    "# evaluate performance\n",
    "auc_score = roc_auc_score(test_df[\"win\"], test_df[\"pred_test\"])\n",
    "print(\"Test ROC AUC:\", auc_score)"
   ],
   "outputs": [
    {
     "name": "stdout",
     "output_type": "stream",
     "text": [
      "Test ROC AUC: 0.7329129225059798\n"
     ]
    }
   ],
   "execution_count": 199
  },
  {
   "metadata": {},
   "cell_type": "markdown",
   "source": [
    "Means the model correctly distinguishes wins from losses ~75% of the time.\n",
    "Decent AUC for sport game which naturally comes with a lot of noise"
   ]
  },
  {
   "metadata": {
    "ExecuteTime": {
     "end_time": "2025-08-24T05:27:09.295262Z",
     "start_time": "2025-08-24T05:27:09.193795Z"
    }
   },
   "cell_type": "code",
   "source": [
    "# predicted probabilities for win\n",
    "y_pred_proba = model.predict(test_df)\n",
    "\n",
    "# true values\n",
    "y_true = test_df['win']\n",
    "\n",
    "# compute ROC curve\n",
    "fpr, tpr, thresholds = roc_curve(y_true, y_pred_proba)\n",
    "\n",
    "# AUC score\n",
    "auc_score = roc_auc_score(y_true, y_pred_proba)\n",
    "print(\"ROC AUC:\", auc_score)\n",
    "\n",
    "# plot ROC curve\n",
    "plt.plot(fpr, tpr, label=f\"AUC = {auc_score:.2f}\")\n",
    "plt.plot([0,1], [0,1], linestyle=\"--\", color=\"gray\")  # random guess line\n",
    "plt.xlabel(\"False Positive Rate\")\n",
    "plt.ylabel(\"True Positive Rate\")\n",
    "plt.title(\"ROC Curve - Logistic Regression\")\n",
    "plt.legend()\n",
    "plt.show()"
   ],
   "outputs": [
    {
     "name": "stdout",
     "output_type": "stream",
     "text": [
      "ROC AUC: 0.7329129225059798\n"
     ]
    },
    {
     "data": {
      "text/plain": [
       "<Figure size 640x480 with 1 Axes>"
      ],
      "image/png": "[encoded data removed]"
     },
     "metadata": {},
     "output_type": "display_data"
    }
   ],
   "execution_count": 200
  },
  {
   "metadata": {
    "ExecuteTime": {
     "end_time": "2025-08-24T05:27:09.340068Z",
     "start_time": "2025-08-24T05:27:09.309775Z"
    }
   },
   "cell_type": "code",
   "source": "test_df[\"pred_actual\"] = model.predict(test_df)",
   "outputs": [],
   "execution_count": 201
  },
  {
   "metadata": {
    "ExecuteTime": {
     "end_time": "2025-08-24T05:27:09.356134Z",
     "start_time": "2025-08-24T05:27:09.345083Z"
    }
   },
   "cell_type": "code",
   "source": [
    "neutral_df = test_df.copy()\n",
    "\n",
    "# set schedule-related stressors to \"neutral\", remove the effect of these factor\n",
    "neutral_df[\"rest_days\"] = 2\n",
    "neutral_df[\"b2b_range\"] = 0\n",
    "neutral_df[\"4in6_range\"] = 0\n",
    "neutral_df[\"games_last6\"] = 3\n",
    "neutral_df[\"distant\"] = 0\n",
    "neutral_df[\"zone_diff\"] = 0"
   ],
   "outputs": [],
   "execution_count": 202
  },
  {
   "metadata": {
    "ExecuteTime": {
     "end_time": "2025-08-24T05:27:09.403002Z",
     "start_time": "2025-08-24T05:27:09.361146Z"
    }
   },
   "cell_type": "code",
   "source": "neutral_df[\"pred_neutral\"] = model.predict(neutral_df)",
   "outputs": [],
   "execution_count": 203
  },
  {
   "metadata": {
    "ExecuteTime": {
     "end_time": "2025-08-24T05:27:09.418287Z",
     "start_time": "2025-08-24T05:27:09.408769Z"
    }
   },
   "cell_type": "code",
   "source": [
    "# merge back actual vs neutral\n",
    "test_df[\"pred_neutral\"] = neutral_df[\"pred_neutral\"]\n",
    "\n",
    "# Compare the predicted result of Actual and Neutral to see the effect on win.\n",
    "team_summary = (\n",
    "    test_df.groupby([\"season\", \"team\"])[[\"win\", \"pred_neutral\"]]\n",
    "    .sum()\n",
    "    .reset_index()\n",
    ")\n",
    "\n",
    "# Calculate schedule effect\n",
    "team_summary[\"schedule_effect\"] = (\n",
    "    team_summary[\"win\"] - team_summary[\"pred_neutral\"]\n",
    ")"
   ],
   "outputs": [],
   "execution_count": 204
  },
  {
   "metadata": {
    "ExecuteTime": {
     "end_time": "2025-08-24T05:27:09.434302Z",
     "start_time": "2025-08-24T05:27:09.423379Z"
    }
   },
   "cell_type": "code",
   "source": [
    "final_effects = (\n",
    "    team_summary\n",
    "    .groupby(\"team\")[\"schedule_effect\"]\n",
    "    .sum()\n",
    "    .sort_values()\n",
    ")\n",
    "print(final_effects)"
   ],
   "outputs": [
    {
     "name": "stdout",
     "output_type": "stream",
     "text": [
      "team\n",
      "MIA   -7.326422\n",
      "PHI   -6.816085\n",
      "MIL   -6.784522\n",
      "DET   -6.726630\n",
      "WAS   -6.656276\n",
      "CLE   -6.459846\n",
      "CHI   -6.459482\n",
      "BKN   -6.209830\n",
      "DEN   -6.043445\n",
      "DAL   -5.791208\n",
      "MEM   -5.451533\n",
      "BOS   -5.387381\n",
      "NYK   -5.054635\n",
      "ATL   -4.817105\n",
      "CHA   -4.363792\n",
      "LAC   -4.107226\n",
      "PHX   -4.095423\n",
      "GSW   -4.094302\n",
      "IND   -3.556608\n",
      "TOR   -3.494900\n",
      "ORL   -3.179329\n",
      "MIN   -3.082438\n",
      "HOU   -2.971733\n",
      "UTA   -2.934222\n",
      "OKC   -2.803472\n",
      "LAL   -2.231343\n",
      "SAC   -1.517422\n",
      "NOP   -1.297965\n",
      "POR   -0.988811\n",
      "SAS   -0.266194\n",
      "Name: schedule_effect, dtype: float64\n"
     ]
    }
   ],
   "execution_count": 205
  },
  {
   "cell_type": "markdown",
   "metadata": {},
   "source": [
    "Using this method, we can measure impact of a schedule by wins diff, and we can also further exam how much each factor impact the outcomes of a game by adjusting our neutral game setting.\n",
    "These result can help teams adjust rotation, get player to be prepared, and avoid injury cause by burnout.\n",
    "It can also help the league to make adjustment when making schedule, ensure every team having more equally distributed schedule."
   ]
  }
 ],
 "metadata": {
  "kernelspec": {
   "display_name": "Python 3",
   "language": "python",
   "name": "python3"
  },
  "language_info": {
   "codemirror_mode": {
    "name": "ipython",
    "version": 3
   },
   "file_extension": ".py",
   "mimetype": "text/x-python",
   "name": "python",
   "nbconvert_exporter": "python",
   "pygments_lexer": "ipython3",
   "version": "3.7.4"
  }
 },
 "nbformat": 4,
 "nbformat_minor": 4
}
